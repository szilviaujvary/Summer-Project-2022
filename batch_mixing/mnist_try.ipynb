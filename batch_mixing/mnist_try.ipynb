{
 "cells": [
  {
   "cell_type": "code",
   "execution_count": 1,
   "metadata": {},
   "outputs": [],
   "source": [
    "import numpy as np\n",
    "import torch\n",
    "import torch.nn as nn\n",
    "import torch.nn.functional as F\n",
    "from torchvision import datasets, transforms\n",
    "from tqdm.notebook import tqdm, trange\n",
    "# from sklearn import datasets\n",
    "from tqdm.notebook import tqdm\n",
    "import matplotlib.pyplot as plt\n",
    "device = \"cuda\" if torch.cuda.is_available() else \"cpu\"\n",
    "import pickle\n",
    "import blosc\n",
    "from utils import *"
   ]
  },
  {
   "cell_type": "code",
   "execution_count": 2,
   "metadata": {},
   "outputs": [],
   "source": [
    "with open(\"/Users/zsiga007/Summer_2022/Summer-2022/MegaAdaptiveSAM/MegaSAM/compressed_training\", \"rb\") as f:\n",
    "    compressed_pickle = f.read()\n",
    "\n",
    "depressed_pickle = blosc.decompress(compressed_pickle)\n",
    "training_set = pickle.loads(depressed_pickle)  # turn bytes object back into data\n",
    "\n",
    "with open(\"/Users/zsiga007/Summer_2022/Summer-2022/MegaAdaptiveSAM/MegaSAM/compressed_test\", \"rb\") as f:\n",
    "    compressed_pickle = f.read()\n",
    "\n",
    "depressed_pickle = blosc.decompress(compressed_pickle)\n",
    "test_set = pickle.loads(depressed_pickle)"
   ]
  },
  {
   "cell_type": "code",
   "execution_count": 3,
   "metadata": {},
   "outputs": [],
   "source": [
    "output1 = 64\n",
    "output2 = 32\n",
    "\n",
    "MLP = nn.Sequential(\n",
    "    nn.Linear(28 * 28, output1),\n",
    "    nn.ReLU(),\n",
    "    nn.Linear(output1, output2),\n",
    "    nn.ReLU(),\n",
    "    nn.Linear(output2, 10)\n",
    "    )"
   ]
  },
  {
   "cell_type": "code",
   "execution_count": 4,
   "metadata": {},
   "outputs": [
    {
     "data": {
      "application/vnd.jupyter.widget-view+json": {
       "model_id": "6afc855e914e4dbc85aa43a6b543f77e",
       "version_major": 2,
       "version_minor": 0
      },
      "text/plain": [
       "HBox(children=(FloatProgress(value=0.0, max=15.0), HTML(value='')))"
      ]
     },
     "metadata": {},
     "output_type": "display_data"
    },
    {
     "name": "stdout",
     "output_type": "stream",
     "text": [
      "\n"
     ]
    }
   ],
   "source": [
    "model, training_losses, training_accuracies, validation_accuracies, optimizer = train_multi_model(\n",
    "    model=MLP, train_data=training_set, test_data=test_set, optim='Adam', batch_size=200, epochs=15, lr=0.01, tracking=True\n",
    ")"
   ]
  },
  {
   "cell_type": "code",
   "execution_count": 5,
   "metadata": {},
   "outputs": [
    {
     "data": {
      "text/plain": [
       "[<matplotlib.lines.Line2D at 0x7fea58690310>]"
      ]
     },
     "execution_count": 5,
     "metadata": {},
     "output_type": "execute_result"
    },
    {
     "data": {
      "image/png": "[encoded data removed]",
      "text/plain": [
       "<Figure size 432x288 with 1 Axes>"
      ]
     },
     "metadata": {
      "needs_background": "light"
     },
     "output_type": "display_data"
    }
   ],
   "source": [
    "# plt.plot(training_accuracies)\n",
    "plt.plot(validation_accuracies)"
   ]
  },
  {
   "cell_type": "code",
   "execution_count": 6,
   "metadata": {},
   "outputs": [
    {
     "data": {
      "text/plain": [
       "[0.9573000073432922,\n",
       " 0.9617999792098999,\n",
       " 0.9657999873161316,\n",
       " 0.9653000235557556,\n",
       " 0.9710000157356262,\n",
       " 0.967199981212616,\n",
       " 0.9679999947547913,\n",
       " 0.9675999879837036,\n",
       " 0.9707000255584717,\n",
       " 0.9728999733924866,\n",
       " 0.9718000292778015,\n",
       " 0.9692000150680542,\n",
       " 0.9649999737739563,\n",
       " 0.9656000137329102,\n",
       " 0.9686999917030334]"
      ]
     },
     "execution_count": 6,
     "metadata": {},
     "output_type": "execute_result"
    }
   ],
   "source": [
    "validation_accuracies"
   ]
  },
  {
   "cell_type": "code",
   "execution_count": 7,
   "metadata": {},
   "outputs": [],
   "source": [
    "# print(train_data)"
   ]
  },
  {
   "cell_type": "code",
   "execution_count": 8,
   "metadata": {},
   "outputs": [],
   "source": [
    "# print(list(train_loader)[0][0])"
   ]
  },
  {
   "cell_type": "code",
   "execution_count": 9,
   "metadata": {},
   "outputs": [],
   "source": [
    "# output1 = 10\n",
    "\n",
    "# model = nn.Sequential(\n",
    "#     nn.Linear(2, output1),\n",
    "#     nn.ReLU(),\n",
    "#     nn.Linear(output1, 1)\n",
    "# )"
   ]
  },
  {
   "cell_type": "code",
   "execution_count": 10,
   "metadata": {},
   "outputs": [
    {
     "ename": "NameError",
     "evalue": "name 'train_data' is not defined",
     "output_type": "error",
     "traceback": [
      "\u001b[0;31m---------------------------------------------------------------------------\u001b[0m",
      "\u001b[0;31mNameError\u001b[0m                                 Traceback (most recent call last)",
      "\u001b[0;32m<ipython-input-10-965f8986c082>\u001b[0m in \u001b[0;36m<module>\u001b[0;34m\u001b[0m\n\u001b[0;32m----> 1\u001b[0;31m \u001b[0mtrain_loader\u001b[0m \u001b[0;34m=\u001b[0m \u001b[0mtorch\u001b[0m\u001b[0;34m.\u001b[0m\u001b[0mutils\u001b[0m\u001b[0;34m.\u001b[0m\u001b[0mdata\u001b[0m\u001b[0;34m.\u001b[0m\u001b[0mDataLoader\u001b[0m\u001b[0;34m(\u001b[0m\u001b[0mtrain_data\u001b[0m\u001b[0;34m,\u001b[0m \u001b[0mbatch_size\u001b[0m\u001b[0;34m=\u001b[0m\u001b[0mbatch_size\u001b[0m\u001b[0;34m,\u001b[0m \u001b[0mshuffle\u001b[0m\u001b[0;34m=\u001b[0m\u001b[0;32mTrue\u001b[0m\u001b[0;34m)\u001b[0m\u001b[0;34m\u001b[0m\u001b[0;34m\u001b[0m\u001b[0m\n\u001b[0m\u001b[1;32m      2\u001b[0m \u001b[0mtest_loader\u001b[0m \u001b[0;34m=\u001b[0m \u001b[0mtorch\u001b[0m\u001b[0;34m.\u001b[0m\u001b[0mutils\u001b[0m\u001b[0;34m.\u001b[0m\u001b[0mdata\u001b[0m\u001b[0;34m.\u001b[0m\u001b[0mDataLoader\u001b[0m\u001b[0;34m(\u001b[0m\u001b[0mtest_data\u001b[0m\u001b[0;34m,\u001b[0m \u001b[0mbatch_size\u001b[0m\u001b[0;34m=\u001b[0m\u001b[0mbatch_size\u001b[0m\u001b[0;34m,\u001b[0m \u001b[0mshuffle\u001b[0m\u001b[0;34m=\u001b[0m\u001b[0;32mFalse\u001b[0m\u001b[0;34m)\u001b[0m\u001b[0;34m\u001b[0m\u001b[0;34m\u001b[0m\u001b[0m\n\u001b[1;32m      3\u001b[0m \u001b[0;32mfrom\u001b[0m \u001b[0mtqdm\u001b[0m\u001b[0;34m.\u001b[0m\u001b[0mnotebook\u001b[0m \u001b[0;32mimport\u001b[0m \u001b[0mtqdm\u001b[0m\u001b[0;34m,\u001b[0m \u001b[0mtrange\u001b[0m\u001b[0;34m\u001b[0m\u001b[0;34m\u001b[0m\u001b[0m\n\u001b[1;32m      4\u001b[0m \u001b[0;31m# torch.random.manual_seed(1572022)\u001b[0m\u001b[0;34m\u001b[0m\u001b[0;34m\u001b[0m\u001b[0;34m\u001b[0m\u001b[0m\n\u001b[1;32m      5\u001b[0m \u001b[0;34m\u001b[0m\u001b[0m\n",
      "\u001b[0;31mNameError\u001b[0m: name 'train_data' is not defined"
     ]
    }
   ],
   "source": [
    "train_loader = torch.utils.data.DataLoader(train_data, batch_size=batch_size, shuffle=True)\n",
    "test_loader = torch.utils.data.DataLoader(test_data, batch_size=batch_size, shuffle=False)\n",
    "from tqdm.notebook import tqdm, trange\n",
    "# torch.random.manual_seed(1572022)\n",
    "\n",
    "output1 = 10\n",
    "output2 = 10\n",
    "\n",
    "model = nn.Sequential(\n",
    "    nn.Linear(2, output1),\n",
    "    nn.ReLU(),\n",
    "    # nn.Linear(output1, output2),\n",
    "    # nn.ReLU(),\n",
    "    nn.Linear(output1, 1)\n",
    ")\n",
    "\n",
    "epochs = 100000\n",
    "num_of_params = get_n_params(model)\n",
    "C_tracking = True\n",
    "\n",
    "lr = 0.01\n",
    "optimizer = torch.optim.SGD(model.parameters(), lr=lr)\n",
    "optimizer2 = torch.optim.SGD(model.parameters(), lr=lr)\n",
    "criterion = nn.BCEWithLogitsLoss()\n",
    "\n",
    "effective_ranks = []\n",
    "losses = []\n",
    "C_matrices = []\n",
    "\n",
    "train_loader2 = torch.utils.data.DataLoader(train_data, batch_size=batch_size//2, shuffle=False) \n",
    "\n",
    "for epoch in trange(epochs):\n",
    "    row_counter = 0\n",
    "    tensor = torch.zeros((len(train_loader2),num_of_params))\n",
    "    avg_loss = 0\n",
    "    for points2, labels2 in train_loader2:\n",
    "        optimizer2.zero_grad()\n",
    "        x2 = points2[:,:,0].float()\n",
    "        labels2 = labels2[:,None].double()\n",
    "\n",
    "        y2 = model(x2)\n",
    "        loss2 = criterion(y2, labels2)\n",
    "        loss2.backward()\n",
    "        # optimizer2.step()\n",
    "        tensor[row_counter, :] = flatten_and_together([param.grad for param in list(model.parameters())])\n",
    "        row_counter += 1\n",
    "    C_matrix = tensor @ tensor.T\n",
    "    C_matrix = C_matrix.detach().numpy()\n",
    "    # print(C_matrix)\n",
    "    new_shuffle = max_regrouping(C_matrix)\n",
    "    # print(new_shuffle)\n",
    "    # print('regr')\n",
    "    new_loader_list = merge_loader(list(train_loader2), new_shuffle, batch_size=batch_size)\n",
    "    # print(new_loader_list)\n",
    "    # print(new_loader_list)\n",
    "    train_loader = torch.utils.data.DataLoader(new_loader_list, batch_size=batch_size, shuffle=False)\n",
    "    C_matrices.append(C_matrix)\n",
    "\n",
    "    model.zero_grad()\n",
    "    for points, labels in train_loader:\n",
    "        optimizer.zero_grad()\n",
    "        # print(points.shape)\n",
    "        x = points[:,:,0].float()\n",
    "        # x = points[:,:,0].reshape((batch_size,2)).float()\n",
    "        # print(x.shape)\n",
    "        labels = labels[:,None].double()\n",
    "        # print(x)\n",
    "        y = model(x)\n",
    "        loss = criterion(y, labels)\n",
    "        avg_loss += loss\n",
    "        \n",
    "        \n",
    "        loss.backward()\n",
    "        optimizer.step()\n",
    "    losses.append(avg_loss/len(train_loader))\n"
   ]
  },
  {
   "cell_type": "code",
   "execution_count": null,
   "metadata": {},
   "outputs": [
    {
     "data": {
      "text/plain": [
       "array([[-0.9741173 ,  0.12141047,  0.11356821,  0.09017908,  0.09290599,\n",
       "         0.0845382 ,  0.07504169, -0.9741173 ,  0.12244484,  0.09504411,\n",
       "        -0.9741173 ,  0.09980304,  0.074487  ,  0.11270556, -0.9741173 ,\n",
       "         0.1108789 ],\n",
       "       [ 0.12141047,  0.13571173,  0.1259258 ,  0.12683909,  0.1293122 ,\n",
       "         0.10963774,  0.12015097,  0.15032712,  0.11361355,  0.09634767,\n",
       "         0.14158157,  0.10696727,  0.09274919,  0.12315518,  0.10345288,\n",
       "         0.1118922 ],\n",
       "       [ 0.11356821,  0.1259258 ,  0.11717926,  0.11626725,  0.11881151,\n",
       "         0.10079063,  0.1095765 , -0.9741173 ,  0.10638678,  0.08979107,\n",
       "         0.13228749,  0.09922545,  0.08544549,  0.11458023,  0.09777093,\n",
       "         0.10456234],\n",
       "       [ 0.09017908,  0.12683909,  0.11626725,  0.15491009,  0.15319256,\n",
       "         0.12549244,  0.16052042,  0.13041632,  0.07860065,  0.08115111,\n",
       "         0.11827775,  0.09816344,  0.10118075,  0.10952366,  0.05179206,\n",
       "         0.08899108],\n",
       "       [ 0.09290599,  0.1293122 ,  0.11881151,  0.15319256,  0.1564354 ,\n",
       "         0.12260681,  0.1604671 ,  0.1338191 ,  0.07819416,  0.07791276,\n",
       "         0.12040026,  0.09510469,  0.10014788,  0.11526852,  0.04999434,\n",
       "         0.09162189],\n",
       "       [ 0.0845382 ,  0.10963774,  0.10079063,  0.12549244,  0.12260681,\n",
       "         0.10450472,  0.12599231,  0.11530824,  0.07735627,  0.07540012,\n",
       "         0.10655566,  0.08810986,  0.08474223,  0.09445738,  0.05976035,\n",
       "         0.08110241],\n",
       "       [ 0.07504169,  0.12015097,  0.1095765 , -0.9741173 ,  0.1604671 ,\n",
       "         0.12599231, -0.9741173 ,  0.11927393,  0.06001687,  0.06930055,\n",
       "         0.1050786 ,  0.08853156,  0.10048364,  0.10358784,  0.0258827 ,\n",
       "         0.07759858],\n",
       "       [ 0.14153282,  0.15032712,  0.14009658,  0.13041632,  0.1338191 ,\n",
       "         0.11530824,  0.11927393,  0.16973433,  0.13430098,  0.11011344,\n",
       "         0.16139683,  0.1197722 ,  0.09893943,  0.13784736,  0.12836759,\n",
       "         0.12865101],\n",
       "       [ 0.12244484,  0.11361355,  0.10638678,  0.07860065,  0.07819416,\n",
       "         0.07735627,  0.06001687, -0.9741173 ,  0.12346754,  0.09511819,\n",
       "        -0.9741173 ,  0.09791861,  0.0683044 ,  0.10394347,  0.13189344,\n",
       "         0.1070408 ],\n",
       "       [ 0.09504411, -0.9741173 ,  0.08979107,  0.08115111,  0.07791276,\n",
       "         0.07540012,  0.06930055, -0.9741173 , -0.9741173 ,  0.07902119,\n",
       "        -0.9741173 ,  0.08367337,  0.06392279,  0.08510745, -0.9741173 ,\n",
       "         0.08506567],\n",
       "       [ 0.13688204,  0.14158157,  0.13228749,  0.11827775,  0.12040026,\n",
       "         0.10655566,  0.1050786 ,  0.16139683,  0.13194568,  0.10708975,\n",
       "         0.15488489,  0.11496136,  0.09177592,  0.12948255,  0.12981382,\n",
       "         0.12359084],\n",
       "       [ 0.09980304,  0.10696727,  0.09922545,  0.09816344,  0.09510469,\n",
       "         0.08810986,  0.08853156,  0.1197722 ,  0.09791861,  0.08367337,\n",
       "         0.11496136,  0.09105005,  0.07396647,  0.09416934,  0.09442717,\n",
       "         0.090458  ],\n",
       "       [ 0.074487  ,  0.09274919,  0.08544549,  0.10118075,  0.10014788,\n",
       "         0.08474223,  0.10048364,  0.09893943,  0.0683044 ,  0.06392279,\n",
       "         0.09177592,  0.07396647,  0.06959711,  0.08131749,  0.05521641,\n",
       "         0.07060845],\n",
       "       [ 0.11270556, -0.9741173 ,  0.11458023,  0.10952366, -0.9741173 ,\n",
       "         0.09445738,  0.10358784, -0.9741173 ,  0.10394347,  0.08510745,\n",
       "        -0.9741173 ,  0.09416934,  0.08131749, -0.9741173 ,  0.09544208,\n",
       "         0.10334407],\n",
       "       [ 0.12590708,  0.10345288,  0.09777093,  0.05179206,  0.04999434,\n",
       "         0.05976035,  0.0258827 ,  0.12836759,  0.13189344,  0.09656775,\n",
       "         0.12981382,  0.09442717,  0.05521641,  0.09544208,  0.151878  ,\n",
       "         0.10710684],\n",
       "       [ 0.1108789 ,  0.1118922 ,  0.10456234,  0.08899108,  0.09162189,\n",
       "         0.08110241,  0.07759858, -0.9741173 ,  0.1070408 ,  0.08506567,\n",
       "        -0.9741173 ,  0.090458  ,  0.07060845,  0.10334407,  0.10710684,\n",
       "         0.09951393]], dtype=float32)"
      ]
     },
     "execution_count": 23,
     "metadata": {},
     "output_type": "execute_result"
    }
   ],
   "source": [
    "C_matrices[0]"
   ]
  },
  {
   "cell_type": "code",
   "execution_count": null,
   "metadata": {},
   "outputs": [
    {
     "data": {
      "image/png": "[encoded data removed]",
      "text/plain": [
       "<Figure size 432x288 with 2 Axes>"
      ]
     },
     "metadata": {
      "needs_background": "light"
     },
     "output_type": "display_data"
    }
   ],
   "source": [
    "plt.pcolor(C_matrices[-1])\n",
    "plt.colorbar()\n",
    "plt.gca().invert_yaxis()"
   ]
  },
  {
   "cell_type": "code",
   "execution_count": null,
   "metadata": {},
   "outputs": [
    {
     "data": {
      "image/png": "[encoded data removed]",
      "text/plain": [
       "<Figure size 432x288 with 2 Axes>"
      ]
     },
     "metadata": {
      "needs_background": "light"
     },
     "output_type": "display_data"
    }
   ],
   "source": [
    "C = C_matrices[-1]\n",
    "A = (C>0.0)*1.0\n",
    "from scipy.linalg import eigh\n",
    "U, V = eigh(np.diag(A.sum(1)) - A)\n",
    "v = V[:,1]\n",
    "indices = np.argsort(v)\n",
    "plt.pcolor(C[indices, :][:, indices])\n",
    "plt.colorbar()\n",
    "plt.gca().invert_yaxis()"
   ]
  },
  {
   "cell_type": "code",
   "execution_count": null,
   "metadata": {},
   "outputs": [
    {
     "data": {
      "text/plain": [
       "3.1151482408231352"
      ]
     },
     "execution_count": 13,
     "metadata": {},
     "output_type": "execute_result"
    }
   ],
   "source": [
    "U[1]"
   ]
  },
  {
   "cell_type": "code",
   "execution_count": null,
   "metadata": {},
   "outputs": [
    {
     "ename": "AttributeError",
     "evalue": "'numpy.ndarray' object has no attribute 'diag'",
     "output_type": "error",
     "traceback": [
      "\u001b[0;31m---------------------------------------------------------------------------\u001b[0m",
      "\u001b[0;31mAttributeError\u001b[0m                            Traceback (most recent call last)",
      "\u001b[0;32m<ipython-input-14-293871be71e4>\u001b[0m in \u001b[0;36m<module>\u001b[0;34m\u001b[0m\n\u001b[0;32m----> 1\u001b[0;31m \u001b[0mdiag_means\u001b[0m \u001b[0;34m=\u001b[0m \u001b[0;34m[\u001b[0m\u001b[0mc\u001b[0m\u001b[0;34m.\u001b[0m\u001b[0mdiag\u001b[0m\u001b[0;34m(\u001b[0m\u001b[0;34m)\u001b[0m\u001b[0;34m.\u001b[0m\u001b[0mmean\u001b[0m\u001b[0;34m(\u001b[0m\u001b[0;34m)\u001b[0m\u001b[0;34m.\u001b[0m\u001b[0mnumpy\u001b[0m\u001b[0;34m(\u001b[0m\u001b[0;34m)\u001b[0m \u001b[0;32mfor\u001b[0m \u001b[0mc\u001b[0m \u001b[0;32min\u001b[0m \u001b[0mC_matrices\u001b[0m\u001b[0;34m]\u001b[0m\u001b[0;34m\u001b[0m\u001b[0;34m\u001b[0m\u001b[0m\n\u001b[0m\u001b[1;32m      2\u001b[0m \u001b[0mplt\u001b[0m\u001b[0;34m.\u001b[0m\u001b[0mplot\u001b[0m\u001b[0;34m(\u001b[0m\u001b[0mdiag_means\u001b[0m\u001b[0;34m)\u001b[0m\u001b[0;34m\u001b[0m\u001b[0;34m\u001b[0m\u001b[0m\n\u001b[1;32m      3\u001b[0m \u001b[0mN\u001b[0m\u001b[0;34m=\u001b[0m \u001b[0mC_matrices\u001b[0m\u001b[0;34m[\u001b[0m\u001b[0;36m0\u001b[0m\u001b[0;34m]\u001b[0m\u001b[0;34m.\u001b[0m\u001b[0mshape\u001b[0m\u001b[0;34m[\u001b[0m\u001b[0;36m0\u001b[0m\u001b[0;34m]\u001b[0m\u001b[0;34m\u001b[0m\u001b[0;34m\u001b[0m\u001b[0m\n\u001b[1;32m      4\u001b[0m \u001b[0mnon_diag_means\u001b[0m \u001b[0;34m=\u001b[0m \u001b[0;34m[\u001b[0m\u001b[0;34m(\u001b[0m\u001b[0mc\u001b[0m\u001b[0;34m.\u001b[0m\u001b[0msum\u001b[0m\u001b[0;34m(\u001b[0m\u001b[0;34m)\u001b[0m \u001b[0;34m-\u001b[0m \u001b[0mc\u001b[0m\u001b[0;34m.\u001b[0m\u001b[0mdiag\u001b[0m\u001b[0;34m(\u001b[0m\u001b[0;34m)\u001b[0m\u001b[0;34m.\u001b[0m\u001b[0msum\u001b[0m\u001b[0;34m(\u001b[0m\u001b[0;34m)\u001b[0m\u001b[0;34m.\u001b[0m\u001b[0mnumpy\u001b[0m\u001b[0;34m(\u001b[0m\u001b[0;34m)\u001b[0m\u001b[0;34m)\u001b[0m \u001b[0;34m/\u001b[0m \u001b[0;34m(\u001b[0m\u001b[0mN\u001b[0m\u001b[0;34m**\u001b[0m\u001b[0;36m2\u001b[0m\u001b[0;34m-\u001b[0m\u001b[0mN\u001b[0m\u001b[0;34m)\u001b[0m \u001b[0;32mfor\u001b[0m \u001b[0mc\u001b[0m \u001b[0;32min\u001b[0m \u001b[0mC_matrices\u001b[0m\u001b[0;34m]\u001b[0m\u001b[0;34m\u001b[0m\u001b[0;34m\u001b[0m\u001b[0m\n\u001b[1;32m      5\u001b[0m \u001b[0mplt\u001b[0m\u001b[0;34m.\u001b[0m\u001b[0mplot\u001b[0m\u001b[0;34m(\u001b[0m\u001b[0mnon_diag_means\u001b[0m\u001b[0;34m)\u001b[0m\u001b[0;34m\u001b[0m\u001b[0;34m\u001b[0m\u001b[0m\n",
      "\u001b[0;32m<ipython-input-14-293871be71e4>\u001b[0m in \u001b[0;36m<listcomp>\u001b[0;34m(.0)\u001b[0m\n\u001b[0;32m----> 1\u001b[0;31m \u001b[0mdiag_means\u001b[0m \u001b[0;34m=\u001b[0m \u001b[0;34m[\u001b[0m\u001b[0mc\u001b[0m\u001b[0;34m.\u001b[0m\u001b[0mdiag\u001b[0m\u001b[0;34m(\u001b[0m\u001b[0;34m)\u001b[0m\u001b[0;34m.\u001b[0m\u001b[0mmean\u001b[0m\u001b[0;34m(\u001b[0m\u001b[0;34m)\u001b[0m\u001b[0;34m.\u001b[0m\u001b[0mnumpy\u001b[0m\u001b[0;34m(\u001b[0m\u001b[0;34m)\u001b[0m \u001b[0;32mfor\u001b[0m \u001b[0mc\u001b[0m \u001b[0;32min\u001b[0m \u001b[0mC_matrices\u001b[0m\u001b[0;34m]\u001b[0m\u001b[0;34m\u001b[0m\u001b[0;34m\u001b[0m\u001b[0m\n\u001b[0m\u001b[1;32m      2\u001b[0m \u001b[0mplt\u001b[0m\u001b[0;34m.\u001b[0m\u001b[0mplot\u001b[0m\u001b[0;34m(\u001b[0m\u001b[0mdiag_means\u001b[0m\u001b[0;34m)\u001b[0m\u001b[0;34m\u001b[0m\u001b[0;34m\u001b[0m\u001b[0m\n\u001b[1;32m      3\u001b[0m \u001b[0mN\u001b[0m\u001b[0;34m=\u001b[0m \u001b[0mC_matrices\u001b[0m\u001b[0;34m[\u001b[0m\u001b[0;36m0\u001b[0m\u001b[0;34m]\u001b[0m\u001b[0;34m.\u001b[0m\u001b[0mshape\u001b[0m\u001b[0;34m[\u001b[0m\u001b[0;36m0\u001b[0m\u001b[0;34m]\u001b[0m\u001b[0;34m\u001b[0m\u001b[0;34m\u001b[0m\u001b[0m\n\u001b[1;32m      4\u001b[0m \u001b[0mnon_diag_means\u001b[0m \u001b[0;34m=\u001b[0m \u001b[0;34m[\u001b[0m\u001b[0;34m(\u001b[0m\u001b[0mc\u001b[0m\u001b[0;34m.\u001b[0m\u001b[0msum\u001b[0m\u001b[0;34m(\u001b[0m\u001b[0;34m)\u001b[0m \u001b[0;34m-\u001b[0m \u001b[0mc\u001b[0m\u001b[0;34m.\u001b[0m\u001b[0mdiag\u001b[0m\u001b[0;34m(\u001b[0m\u001b[0;34m)\u001b[0m\u001b[0;34m.\u001b[0m\u001b[0msum\u001b[0m\u001b[0;34m(\u001b[0m\u001b[0;34m)\u001b[0m\u001b[0;34m.\u001b[0m\u001b[0mnumpy\u001b[0m\u001b[0;34m(\u001b[0m\u001b[0;34m)\u001b[0m\u001b[0;34m)\u001b[0m \u001b[0;34m/\u001b[0m \u001b[0;34m(\u001b[0m\u001b[0mN\u001b[0m\u001b[0;34m**\u001b[0m\u001b[0;36m2\u001b[0m\u001b[0;34m-\u001b[0m\u001b[0mN\u001b[0m\u001b[0;34m)\u001b[0m \u001b[0;32mfor\u001b[0m \u001b[0mc\u001b[0m \u001b[0;32min\u001b[0m \u001b[0mC_matrices\u001b[0m\u001b[0;34m]\u001b[0m\u001b[0;34m\u001b[0m\u001b[0;34m\u001b[0m\u001b[0m\n\u001b[1;32m      5\u001b[0m \u001b[0mplt\u001b[0m\u001b[0;34m.\u001b[0m\u001b[0mplot\u001b[0m\u001b[0;34m(\u001b[0m\u001b[0mnon_diag_means\u001b[0m\u001b[0;34m)\u001b[0m\u001b[0;34m\u001b[0m\u001b[0;34m\u001b[0m\u001b[0m\n",
      "\u001b[0;31mAttributeError\u001b[0m: 'numpy.ndarray' object has no attribute 'diag'"
     ]
    }
   ],
   "source": [
    "diag_means = [c.diag().mean().numpy() for c in C_matrices]\n",
    "plt.plot(diag_means)\n",
    "N= C_matrices[0].shape[0]\n",
    "non_diag_means = [(c.sum() - c.diag().sum().numpy()) / (N**2-N) for c in C_matrices]\n",
    "plt.plot(non_diag_means)\n",
    "average = [c.mean() for c in C_matrices]\n",
    "plt.plot(average)\n",
    "\n",
    "plt.ylim([-0.01,0.05])"
   ]
  },
  {
   "cell_type": "code",
   "execution_count": null,
   "metadata": {},
   "outputs": [],
   "source": []
  },
  {
   "cell_type": "code",
   "execution_count": null,
   "metadata": {},
   "outputs": [],
   "source": [
    "# if C_tracking:\n",
    "#     C_matrices[-1]\n",
    "#     negatives = []\n",
    "#     for C in C_matrices:\n",
    "#         for col_ind, col in enumerate(C):\n",
    "#             for row_ind, item in enumerate(col):\n",
    "#                 if row_ind != col_ind and item < 0:\n",
    "#                     negatives.append(item)\n",
    "#     print(\"Negatives:\", len(negatives))\n",
    "#     print(\"Positives: \", 40**2-40-len(negatives))\n"
   ]
  },
  {
   "cell_type": "code",
   "execution_count": null,
   "metadata": {},
   "outputs": [
    {
     "data": {
      "text/plain": [
       "Text(0, 0.5, 'Effective rank')"
      ]
     },
     "execution_count": 12,
     "metadata": {},
     "output_type": "execute_result"
    },
    {
     "data": {
      "image/png": "[encoded data removed]",
      "text/plain": [
       "<Figure size 864x432 with 1 Axes>"
      ]
     },
     "metadata": {
      "needs_background": "light"
     },
     "output_type": "display_data"
    }
   ],
   "source": [
    "from matplotlib.pyplot import figure\n",
    "\n",
    "f = plt.figure()\n",
    "f.set_figwidth(12)\n",
    "f.set_figheight(6)\n",
    "\n",
    "plt.plot(effective_ranks, '-')\n",
    "plt.xlabel(\"Epochs\")\n",
    "plt.ylabel(\"Effective rank\")\n",
    "\n",
    "# arr = np.tanh(np.array(range(-epochs//2, epochs - epochs//2))/50) + 5.6 * np.ones(1000)\n",
    "# plt.plot(arr)\n"
   ]
  },
  {
   "cell_type": "code",
   "execution_count": null,
   "metadata": {},
   "outputs": [
    {
     "data": {
      "text/plain": [
       "[<matplotlib.lines.Line2D at 0x7fad52338b50>]"
      ]
     },
     "execution_count": 25,
     "metadata": {},
     "output_type": "execute_result"
    },
    {
     "data": {
      "image/png": "[encoded data removed]",
      "text/plain": [
       "<Figure size 432x288 with 1 Axes>"
      ]
     },
     "metadata": {
      "needs_background": "light"
     },
     "output_type": "display_data"
    }
   ],
   "source": [
    "plt.plot(losses)"
   ]
  },
  {
   "cell_type": "code",
   "execution_count": null,
   "metadata": {},
   "outputs": [
    {
     "name": "stdout",
     "output_type": "stream",
     "text": [
      "Test accuracy: 0.875\n"
     ]
    }
   ],
   "source": [
    "correct_test = 0\n",
    "with torch.no_grad():\n",
    "        # Iterate through test set minibatchs \n",
    "        for numbers2, labels2 in test_loader:\n",
    "            numbers2 = numbers2\n",
    "            labels2 = labels2.double()[:,None]\n",
    "            # Forward pass\n",
    "            x2 = numbers2[:,:,0].float()\n",
    "            y2 = model(x2)\n",
    "            predictions2 = ((y2>0)*1)\n",
    "            # print(predictions2)\n",
    "            # print(labels2)\n",
    "            correct_test += torch.sum((predictions2 == labels2).float())\n",
    "            # print(correct_test)\n",
    "print(f'Test accuracy: {correct_test/len(test_data)}')\n"
   ]
  },
  {
   "cell_type": "code",
   "execution_count": null,
   "metadata": {},
   "outputs": [],
   "source": [
    "# train_data = all_data[:N*8//10]\n",
    "# test_data = all_data[N*8//10:]\n",
    "# batch_size = 20\n",
    "# items = np.zeros(150)\n",
    "\n",
    "# def optimize():\n",
    "#     train_loader = torch.utils.data.DataLoader(train_data, batch_size=batch_size, shuffle=True)\n",
    "#     test_loader = torch.utils.data.DataLoader(test_data, batch_size=batch_size, shuffle=False)\n",
    "\n",
    "#     epochs = 150\n",
    "#     num_of_params = get_n_params(model)\n",
    "#     C_tracking = False\n",
    "\n",
    "\n",
    "#     optimizer = torch.optim.SGD(model.parameters(), lr=0.01)\n",
    "#     criterion = nn.BCEWithLogitsLoss()\n",
    "\n",
    "#     effective_ranks = []\n",
    "\n",
    "#     for epoch in trange(epochs):\n",
    "#         row_counter = 0\n",
    "#         tensor = torch.zeros((len(train_loader),num_of_params))\n",
    "#         C_matrices = []\n",
    "#         for points, labels in train_loader:\n",
    "            \n",
    "#             optimizer.zero_grad()\n",
    "\n",
    "#             x = points[:,:,0].float()\n",
    "#             # print(x.shape)\n",
    "#             labels = labels[:,None].double()\n",
    "\n",
    "#             y = model(x)\n",
    "#             loss = criterion(y, labels)\n",
    "            \n",
    "#             loss.backward()\n",
    "#             optimizer.step()\n",
    "\n",
    "#             tensor[row_counter, :] = flatten_and_together([param.grad for param in list(model.parameters())])\n",
    "#             row_counter += 1\n",
    "#         if C_tracking:\n",
    "#             C_matrix = tensor @ tensor.T\n",
    "#             C_diags = np.sqrt(np.outer(tensor.diagonal(), tensor.diagonal()))\n",
    "#             C_matrices.append(C_matrix)\n",
    "#         effective_ranks.append(effective_rank(tensor))\n",
    "#     return effective_ranks\n",
    "\n",
    "# # for i in range(10):\n",
    "# #     items += optimize()\n",
    "# # meanarray = np.array(items) / 10"
   ]
  },
  {
   "cell_type": "code",
   "execution_count": null,
   "metadata": {},
   "outputs": [],
   "source": [
    "# f = plt.figure()\n",
    "# f.set_figwidth(12)\n",
    "# f.set_figheight(6)\n",
    "\n",
    "# plt.plot(meanarray, '.-')\n",
    "# plt.xlabel(\"Epochs\")\n",
    "# plt.ylabel(\"Effective rank\")\n",
    "\n",
    "# # print(items)"
   ]
  },
  {
   "cell_type": "code",
   "execution_count": null,
   "metadata": {},
   "outputs": [],
   "source": []
  }
 ],
 "metadata": {
  "kernelspec": {
   "display_name": "Python 3.8.3 ('base')",
   "language": "python",
   "name": "python3"
  },
  "language_info": {
   "codemirror_mode": {
    "name": "ipython",
    "version": 3
   },
   "file_extension": ".py",
   "mimetype": "text/x-python",
   "name": "python",
   "nbconvert_exporter": "python",
   "pygments_lexer": "ipython3",
   "version": "3.8.3"
  },
  "orig_nbformat": 4,
  "vscode": {
   "interpreter": {
    "hash": "cd78fef2128015050713e82ca51c6520b11aee7c9ee8df750520bbbc7384cbaa"
   }
  }
 },
 "nbformat": 4,
 "nbformat_minor": 2
}
