{
 "cells": [
  {
   "cell_type": "code",
   "execution_count": 1,
   "metadata": {},
   "outputs": [],
   "source": [
    "import numpy as np\n",
    "import torch\n",
    "import torch.nn as nn\n",
    "import torch.nn.functional as F\n",
    "from torchvision import datasets, transforms\n",
    "from sklearn import datasets\n",
    "from tqdm.notebook import tqdm\n",
    "import matplotlib.pyplot as plt\n",
    "from utils import *"
   ]
  },
  {
   "cell_type": "code",
   "execution_count": 25,
   "metadata": {},
   "outputs": [],
   "source": [
    "N = 1000\n",
    "def data_gen(moons=True):\n",
    "    all_data = []\n",
    "    if not moons:\n",
    "        for i in range(N):\n",
    "            r1 = np.random.rand(1)\n",
    "            r2 = np.random.rand(1)\n",
    "            if r1 < r2:\n",
    "                label = 0\n",
    "            # if r1 ** 2 < r2:\n",
    "            #     label = 0\n",
    "            else:\n",
    "                label = 1\n",
    "            all_data.append([torch.tensor([r1, r2]), label])\n",
    "            return all_data\n",
    "    else:\n",
    "        X,y = datasets.make_moons(n_samples=N, shuffle=True, noise=0.2, random_state=1234)\n",
    "        y = np.reshape(y, (len(y),1))\n",
    "        for index, point in enumerate(X):\n",
    "            point=np.reshape(point, (2,1))\n",
    "            all_data.append([torch.tensor(point), y[index][0]])\n",
    "        return all_data"
   ]
  },
  {
   "cell_type": "code",
   "execution_count": 26,
   "metadata": {},
   "outputs": [
    {
     "data": {
      "image/png": "[encoded data removed]",
      "text/plain": [
       "<Figure size 432x288 with 1 Axes>"
      ]
     },
     "metadata": {
      "needs_background": "light"
     },
     "output_type": "display_data"
    }
   ],
   "source": [
    "all_data = data_gen()\n",
    "\n",
    "zeros_x = [all_data[i][0][0] for i in range(N) if not all_data[i][1]]\n",
    "zeros_y = [all_data[i][0][1] for i in range(N) if not all_data[i][1]]\n",
    "\n",
    "ones_x = [all_data[i][0][0] for i in range(N) if all_data[i][1]]\n",
    "ones_y = [all_data[i][0][1] for i in range(N) if all_data[i][1]]\n",
    "\n",
    "plt.plot(zeros_x, zeros_y, '.')\n",
    "plt.plot(ones_x, ones_y, '.')\n",
    "\n",
    "plt.show()"
   ]
  },
  {
   "cell_type": "code",
   "execution_count": 27,
   "metadata": {},
   "outputs": [],
   "source": [
    "train_data = all_data[:N*8//10]\n",
    "test_data = all_data[N*8//10:]\n",
    "batch_size = 20\n",
    "train_loader = torch.utils.data.DataLoader(train_data, batch_size=batch_size, shuffle=True)\n",
    "test_loader = torch.utils.data.DataLoader(test_data, batch_size=batch_size, shuffle=False)"
   ]
  },
  {
   "cell_type": "code",
   "execution_count": 28,
   "metadata": {},
   "outputs": [
    {
     "data": {
      "application/vnd.jupyter.widget-view+json": {
       "model_id": "4b4b2aae637e41efb3c723795307e01f",
       "version_major": 2,
       "version_minor": 0
      },
      "text/plain": [
       "HBox(children=(FloatProgress(value=0.0, max=10000.0), HTML(value='')))"
      ]
     },
     "metadata": {},
     "output_type": "display_data"
    },
    {
     "name": "stdout",
     "output_type": "stream",
     "text": [
      "\n"
     ]
    }
   ],
   "source": [
    "from tqdm.notebook import tqdm, trange\n",
    "# torch.random.manual_seed(1572022)\n",
    "\n",
    "output1 = 10\n",
    "output2 = 10\n",
    "\n",
    "model = nn.Sequential(\n",
    "    nn.Linear(2, output1),\n",
    "    nn.ReLU(),\n",
    "    # nn.Linear(output1, output2),\n",
    "    # nn.ReLU(),\n",
    "    nn.Linear(output1, 1)\n",
    ")\n",
    "\n",
    "epochs = 10000\n",
    "num_of_params = get_n_params(model)\n",
    "C_tracking = False\n",
    "\n",
    "\n",
    "optimizer = torch.optim.SGD(model.parameters(), lr=0.001)\n",
    "criterion = nn.BCEWithLogitsLoss()\n",
    "\n",
    "effective_ranks = []\n",
    "losses = []\n",
    "\n",
    "for epoch in trange(epochs):\n",
    "    row_counter = 0\n",
    "    tensor = torch.zeros((len(train_loader),num_of_params))\n",
    "    C_matrices = []\n",
    "    avg_loss = 0\n",
    "    for points, labels in train_loader:\n",
    "        \n",
    "        optimizer.zero_grad()\n",
    "\n",
    "        x = points[:,:,0].float()\n",
    "        # print(x.shape)\n",
    "        labels = labels[:,None].double()\n",
    "\n",
    "        y = model(x)\n",
    "        loss = criterion(y, labels)\n",
    "        avg_loss += loss\n",
    "        \n",
    "        loss.backward()\n",
    "        optimizer.step()\n",
    "\n",
    "        tensor[row_counter, :] = flatten_and_together([param.grad for param in list(model.parameters())])\n",
    "        row_counter += 1\n",
    "    # effective_ranks.append(effective_rank(tensor))\n",
    "    # losses.append(avg_loss/len(train_loader))\n",
    "    if C_tracking:\n",
    "        C_matrix = tensor @ tensor.T\n",
    "        C_diags = np.sqrt(np.outer(tensor.diagonal(), tensor.diagonal()))\n",
    "        C_matrices.append(C_matrix)\n",
    "    "
   ]
  },
  {
   "cell_type": "code",
   "execution_count": 19,
   "metadata": {},
   "outputs": [],
   "source": [
    "if C_tracking:\n",
    "    C_matrices[-1]\n",
    "    negatives = []\n",
    "    for C in C_matrices:\n",
    "        for col_ind, col in enumerate(C):\n",
    "            for row_ind, item in enumerate(col):\n",
    "                if row_ind != col_ind and item < 0:\n",
    "                    negatives.append(item)\n",
    "    print(\"Negatives:\", len(negatives))\n",
    "    print(\"Positives: \", 40**2-40-len(negatives))\n"
   ]
  },
  {
   "cell_type": "code",
   "execution_count": 20,
   "metadata": {},
   "outputs": [
    {
     "data": {
      "text/plain": [
       "Text(0, 0.5, 'Effective rank')"
      ]
     },
     "execution_count": 20,
     "metadata": {},
     "output_type": "execute_result"
    },
    {
     "data": {
      "image/png": "[encoded data removed]",
      "text/plain": [
       "<Figure size 864x432 with 1 Axes>"
      ]
     },
     "metadata": {
      "needs_background": "light"
     },
     "output_type": "display_data"
    }
   ],
   "source": [
    "from matplotlib.pyplot import figure\n",
    "\n",
    "f = plt.figure()\n",
    "f.set_figwidth(12)\n",
    "f.set_figheight(6)\n",
    "\n",
    "plt.plot(effective_ranks, '.')\n",
    "plt.xlabel(\"Epochs\")\n",
    "plt.ylabel(\"Effective rank\")\n",
    "\n",
    "# arr = np.tanh(np.array(range(-epochs//2, epochs - epochs//2))/50) + 5.6 * np.ones(1000)\n",
    "# plt.plot(arr)\n"
   ]
  },
  {
   "cell_type": "code",
   "execution_count": 21,
   "metadata": {},
   "outputs": [
    {
     "data": {
      "text/plain": [
       "[<matplotlib.lines.Line2D at 0x7f7b710f93a0>]"
      ]
     },
     "execution_count": 21,
     "metadata": {},
     "output_type": "execute_result"
    },
    {
     "data": {
      "image/png": "[encoded data removed]",
      "text/plain": [
       "<Figure size 432x288 with 1 Axes>"
      ]
     },
     "metadata": {
      "needs_background": "light"
     },
     "output_type": "display_data"
    }
   ],
   "source": [
    "plt.plot(losses)"
   ]
  },
  {
   "cell_type": "code",
   "execution_count": 29,
   "metadata": {},
   "outputs": [
    {
     "name": "stdout",
     "output_type": "stream",
     "text": [
      "Test accuracy: 0.9700000286102295\n"
     ]
    }
   ],
   "source": [
    "correct_test = 0\n",
    "with torch.no_grad():\n",
    "        # Iterate through test set minibatchs \n",
    "        for numbers2, labels2 in test_loader:\n",
    "            numbers2 = numbers2\n",
    "            labels2 = labels2.double()[:,None]\n",
    "            # Forward pass\n",
    "            x2 = numbers2[:,:,0].float()\n",
    "            y2 = model(x2)\n",
    "            predictions2 = ((y2>0)*1)\n",
    "            # print(predictions2)\n",
    "            # print(labels2)\n",
    "            correct_test += torch.sum((predictions2 == labels2).float())\n",
    "            # print(correct_test)\n",
    "print(f'Test accuracy: {correct_test/len(test_data)}')\n"
   ]
  },
  {
   "cell_type": "code",
   "execution_count": 72,
   "metadata": {},
   "outputs": [],
   "source": [
    "# train_data = all_data[:N*8//10]\n",
    "# test_data = all_data[N*8//10:]\n",
    "# batch_size = 20\n",
    "# items = np.zeros(150)\n",
    "\n",
    "# def optimize():\n",
    "#     train_loader = torch.utils.data.DataLoader(train_data, batch_size=batch_size, shuffle=True)\n",
    "#     test_loader = torch.utils.data.DataLoader(test_data, batch_size=batch_size, shuffle=False)\n",
    "\n",
    "#     epochs = 150\n",
    "#     num_of_params = get_n_params(model)\n",
    "#     C_tracking = False\n",
    "\n",
    "\n",
    "#     optimizer = torch.optim.SGD(model.parameters(), lr=0.01)\n",
    "#     criterion = nn.BCEWithLogitsLoss()\n",
    "\n",
    "#     effective_ranks = []\n",
    "\n",
    "#     for epoch in trange(epochs):\n",
    "#         row_counter = 0\n",
    "#         tensor = torch.zeros((len(train_loader),num_of_params))\n",
    "#         C_matrices = []\n",
    "#         for points, labels in train_loader:\n",
    "            \n",
    "#             optimizer.zero_grad()\n",
    "\n",
    "#             x = points[:,:,0].float()\n",
    "#             # print(x.shape)\n",
    "#             labels = labels[:,None].double()\n",
    "\n",
    "#             y = model(x)\n",
    "#             loss = criterion(y, labels)\n",
    "            \n",
    "#             loss.backward()\n",
    "#             optimizer.step()\n",
    "\n",
    "#             tensor[row_counter, :] = flatten_and_together([param.grad for param in list(model.parameters())])\n",
    "#             row_counter += 1\n",
    "#         if C_tracking:\n",
    "#             C_matrix = tensor @ tensor.T\n",
    "#             C_diags = np.sqrt(np.outer(tensor.diagonal(), tensor.diagonal()))\n",
    "#             C_matrices.append(C_matrix)\n",
    "#         effective_ranks.append(effective_rank(tensor))\n",
    "#     return effective_ranks\n",
    "\n",
    "# # for i in range(10):\n",
    "# #     items += optimize()\n",
    "# # meanarray = np.array(items) / 10"
   ]
  },
  {
   "cell_type": "code",
   "execution_count": 73,
   "metadata": {},
   "outputs": [],
   "source": [
    "# f = plt.figure()\n",
    "# f.set_figwidth(12)\n",
    "# f.set_figheight(6)\n",
    "\n",
    "# plt.plot(meanarray, '.-')\n",
    "# plt.xlabel(\"Epochs\")\n",
    "# plt.ylabel(\"Effective rank\")\n",
    "\n",
    "# # print(items)"
   ]
  },
  {
   "cell_type": "code",
   "execution_count": null,
   "metadata": {},
   "outputs": [],
   "source": []
  }
 ],
 "metadata": {
  "kernelspec": {
   "display_name": "Python 3.8.3 ('base')",
   "language": "python",
   "name": "python3"
  },
  "language_info": {
   "codemirror_mode": {
    "name": "ipython",
    "version": 3
   },
   "file_extension": ".py",
   "mimetype": "text/x-python",
   "name": "python",
   "nbconvert_exporter": "python",
   "pygments_lexer": "ipython3",
   "version": "3.8.3"
  },
  "orig_nbformat": 4,
  "vscode": {
   "interpreter": {
    "hash": "cd78fef2128015050713e82ca51c6520b11aee7c9ee8df750520bbbc7384cbaa"
   }
  }
 },
 "nbformat": 4,
 "nbformat_minor": 2
}
