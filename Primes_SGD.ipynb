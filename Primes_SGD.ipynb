{
  "cells": [
    {
      "cell_type": "code",
      "execution_count": 2,
      "metadata": {
        "id": "Y4Vcf17gzE9m"
      },
      "outputs": [],
      "source": [
        "import numpy as np\n",
        "import random\n",
        "import torch\n",
        "import torch.nn as nn\n",
        "import torch.nn.functional as F\n",
        "from torchvision import datasets, transforms\n",
        "from tqdm.notebook import tqdm\n",
        "import matplotlib.pyplot as plt\n",
        "from utils import *\n",
        "\n",
        "device = \"cuda\" if torch.cuda.is_available() else \"cpu\""
      ]
    },
    {
      "cell_type": "code",
      "execution_count": 73,
      "metadata": {
        "id": "RwO6nR1FzkC4"
      },
      "outputs": [],
      "source": [
        "np.random.seed(seed=1372022)\n",
        "N=100\n",
        "base = 10\n",
        "digits = base*(math.floor(np.log(N)/np.log(base))+1)\n",
        "\n",
        "train_primes = list(primes_upto(N+1))\n",
        "#train_composites = [i for i in range(1000) if i not in train_primes]\n",
        "all_data = []\n",
        "for k in range(N//len(train_primes)):\n",
        "    all_data += [tuple((i, 1)) for i in range(1,N+1) if i in train_primes]\n",
        "all_data += [tuple((i, 0)) for i in range(1,N+1) if i not in train_primes]\n",
        "\n",
        "# all_data = [tuple((i, 1)) for i in range(1,N+1) if i in train_primes] + [tuple((i, 0)) for i in range(1,N+1) if i not in train_primes if np.random.uniform(0, 1)<len(train_primes)/N]\n",
        "\n",
        "np.random.shuffle(all_data)\n",
        "\n",
        "train_data = all_data[: math.floor(len(all_data)*0.8)]\n",
        "test_data = set(all_data[math.floor(len(all_data)*0.8):])\n",
        "test_data.difference(set(train_data))\n",
        "test_data = list(test_data)"
      ]
    },
    {
      "cell_type": "code",
      "execution_count": 74,
      "metadata": {
        "colab": {
          "base_uri": "https://localhost:8080/"
        },
        "id": "IjfS7gWIWY5o",
        "outputId": "484541c5-604d-485a-ca83-eecbfc796cba"
      },
      "outputs": [
        {
          "name": "stdout",
          "output_type": "stream",
          "text": [
            "100 75\n",
            "[(78, 0), (97, 1), (18, 0), (7, 1), (38, 0), (13, 1), (80, 0), (86, 0), (55, 0), (53, 1), (70, 0), (13, 1), (84, 0), (24, 0), (79, 1), (65, 0), (41, 1), (29, 1), (43, 1), (7, 1)]\n",
            "140\n",
            "31\n"
          ]
        }
      ],
      "source": [
        "counter_primes = 0\n",
        "counter = 0\n",
        "for i in all_data:\n",
        "    if i[1]:\n",
        "        counter_primes += 1\n",
        "    else:\n",
        "        counter += 1\n",
        "print(counter_primes, counter)\n",
        "\n",
        "print(train_data[:20])\n",
        "print(len(train_data))\n",
        "print(len(test_data))"
      ]
    },
    {
      "cell_type": "code",
      "execution_count": 75,
      "metadata": {
        "id": "S4AFjiz44uXK"
      },
      "outputs": [],
      "source": [
        "#model\n",
        "input = base*digits\n",
        "output1 = 64\n",
        "output2 = 128\n",
        "output3 = 64\n",
        "class MLP(nn.Module):\n",
        "    def __init__(self,output1,output2, output3):\n",
        "        super().__init__()\n",
        "        self.step1 = nn.Linear(input, output1)\n",
        "        self.step2 = nn.Linear(output1, output2)\n",
        "        self.step3 = nn.Linear(output2, 1)\n",
        "\n",
        "    def forward(self, x):\n",
        "        \n",
        "        x = self.step1(x)\n",
        "        x = F.relu(x)\n",
        "        x = self.step2(x)\n",
        "        x = F.relu(x)\n",
        "        #x = self.step3(x)\n",
        "        #x = F.relu(x)\n",
        "        x = self.step3(x)\n",
        "\n",
        "        return x"
      ]
    },
    {
      "cell_type": "code",
      "execution_count": 84,
      "metadata": {
        "colab": {
          "base_uri": "https://localhost:8080/",
          "height": 105,
          "referenced_widgets": [
            "fae037db33204fb79bfc9bccceda876e",
            "4d1ba3d1456f4366a154711eccec5019",
            "15362b0caff049228ae5222aa7082aa5",
            "9edebc7b31034270b04f46ca7a9eceab",
            "a7526688b99344f18c1dafe3e2dfd521",
            "4598d2e622a7470f99db32f841eb9676",
            "5452d3c580df4bdfa2e8d1733da9d36d",
            "a8c01873b21d482b98355fe3610e1abd",
            "2b88f1d4ac1640e49a86f9eb206b423f",
            "2ac973dc096c4e33aae80be44a019e6a",
            "2d1bd946a6714082a9667245304d4b98"
          ]
        },
        "id": "1p6v7N50SqVi",
        "outputId": "af901f9c-6ce6-4946-e888-284026031d4a"
      },
      "outputs": [
        {
          "data": {
            "application/vnd.jupyter.widget-view+json": {
              "model_id": "57e2c17d1ad346ad9a9f7233849d45c5",
              "version_major": 2,
              "version_minor": 0
            },
            "text/plain": [
              "HBox(children=(FloatProgress(value=0.0, max=5000.0), HTML(value='')))"
            ]
          },
          "metadata": {},
          "output_type": "display_data"
        },
        {
          "name": "stderr",
          "output_type": "stream",
          "text": [
            "<ipython-input-4-5e5797f04886>:5: UserWarning: __floordiv__ is deprecated, and its behavior will change in a future version of pytorch. It currently rounds toward 0 (like the 'trunc' function NOT 'floor'). This results in incorrect rounding for negative values. To keep the current behavior, use torch.div(a, b, rounding_mode='trunc'), or for actual floor division, use torch.div(a, b, rounding_mode='floor').\n",
            "  batch=torch.nn.functional.one_hot(torch.remainder(batch//t[None, :].to(torch.int64), base), num_classes=base)\n"
          ]
        },
        {
          "name": "stdout",
          "output_type": "stream",
          "text": [
            "\n"
          ]
        }
      ],
      "source": [
        "from torchvision import datasets, transforms\n",
        "from tqdm.notebook import tqdm, trange\n",
        "\n",
        "batch_size = 4\n",
        "epochs = 5000\n",
        "\n",
        "train_loader = torch.utils.data.DataLoader(train_data, batch_size=batch_size, shuffle=True)\n",
        "test_loader = torch.utils.data.DataLoader(test_data, batch_size=batch_size, shuffle=False)\n",
        "val_loader = torch.utils.data.DataLoader(test_data, shuffle=False)\n",
        "\n",
        "## Training\n",
        "# Instantiate model  \n",
        "model = MLP(output1, output2, output3).to(device) \n",
        "\n",
        "# Loss and Optimizer\n",
        "optimizer = torch.optim.SGD(model.parameters(), lr = 0.01)\n",
        "criterion = nn.BCEWithLogitsLoss()\n",
        "\n",
        "tracking = True\n",
        "if tracking:\n",
        "  training_losses = []\n",
        "  training_accuracies = []\n",
        "  validation_accuracies = []\n",
        "\n",
        "\n",
        "# Iterate through train set minibatchs \n",
        "for epoch in trange(epochs):  \n",
        "    per_epoch_loss = 0\n",
        "    correct = 0\n",
        "    for numbers, labels in train_loader:\n",
        "        x = numbers[:,None]\n",
        "        x = x.to(device)\n",
        "        x = encode(x, digits, base).float()\n",
        "        labels = labels.double().to(device)[:,None]\n",
        "        # Zero out the gradients\n",
        "        optimizer.zero_grad()\n",
        "\n",
        "        # Forward pass\n",
        "        y = model(x)\n",
        "        loss = criterion(y, labels)\n",
        "        if tracking:\n",
        "          # Tracking loss\n",
        "          per_epoch_loss += loss\n",
        "\n",
        "          # Train accuracy tracking\n",
        "          predictions = ((y>0)*1)\n",
        "          correct += torch.sum((predictions == labels).float())\n",
        "\n",
        "          # Validation accuracy tracking\n",
        "\n",
        "\n",
        "        loss.backward()\n",
        "        optimizer.step()\n",
        "    if tracking:\n",
        "      correct_test = 0\n",
        "      with torch.no_grad():\n",
        "              # Iterate through test set minibatchs \n",
        "              for numbers2, labels2 in val_loader:\n",
        "                  numbers2 = numbers2.to(device)\n",
        "                  labels2 = labels2.double().to(device)[:,None]\n",
        "                  # Forward pass\n",
        "                  x2 = numbers2[:,None]\n",
        "                  x2 = encode(x2, digits, base).float()\n",
        "                  y2 = model(x2)\n",
        "                  predictions2 = ((y2>0)*1)[:,0]\n",
        "                  correct_test += torch.sum((predictions2 == labels2).float())\n",
        "\n",
        "      training_losses.append(per_epoch_loss/len(train_loader))\n",
        "      training_accuracies.append(correct/len(train_data))\n",
        "      validation_accuracies.append(correct_test/len(test_data))\n"
      ]
    },
    {
      "cell_type": "code",
      "execution_count": 85,
      "metadata": {
        "id": "GC-05i3ojNMG"
      },
      "outputs": [
        {
          "data": {
            "application/vnd.jupyter.widget-view+json": {
              "model_id": "0867b107de1946a2b84e44802bafe184",
              "version_major": 2,
              "version_minor": 0
            },
            "text/plain": [
              "HBox(children=(FloatProgress(value=0.0, max=8.0), HTML(value='')))"
            ]
          },
          "metadata": {},
          "output_type": "display_data"
        },
        {
          "name": "stdout",
          "output_type": "stream",
          "text": [
            "\n",
            "Test accuracy: 0.9032257795333862\n"
          ]
        },
        {
          "name": "stderr",
          "output_type": "stream",
          "text": [
            "<ipython-input-4-5e5797f04886>:5: UserWarning: __floordiv__ is deprecated, and its behavior will change in a future version of pytorch. It currently rounds toward 0 (like the 'trunc' function NOT 'floor'). This results in incorrect rounding for negative values. To keep the current behavior, use torch.div(a, b, rounding_mode='trunc'), or for actual floor division, use torch.div(a, b, rounding_mode='floor').\n",
            "  batch=torch.nn.functional.one_hot(torch.remainder(batch//t[None, :].to(torch.int64), base), num_classes=base)\n"
          ]
        }
      ],
      "source": [
        "## Testing\n",
        "correct = 0\n",
        "total = len(test_data)\n",
        "\n",
        "with torch.no_grad():\n",
        "    # Iterate through test set minibatchs \n",
        "    for numbers, labels in tqdm(test_loader):\n",
        "        numbers = numbers.to(device)\n",
        "        labels = labels.to(device)\n",
        "        # Forward pass\n",
        "        x = numbers[:,None]\n",
        "        x = encode(x, digits, base).float()\n",
        "        y = model(x)\n",
        "        predictions = ((y>0)*1)[:, 0]\n",
        "        correct += torch.sum((predictions == labels).float())\n",
        "\n",
        "print('Test accuracy: {}'.format(correct/total))"
      ]
    },
    {
      "cell_type": "code",
      "execution_count": 86,
      "metadata": {},
      "outputs": [
        {
          "data": {
            "text/plain": [
              "[<matplotlib.lines.Line2D at 0x7fe4f8e8f8e0>]"
            ]
          },
          "execution_count": 86,
          "metadata": {},
          "output_type": "execute_result"
        },
        {
          "data": {
            "image/png": "[encoded data removed]",
            "text/plain": [
              "<Figure size 432x288 with 1 Axes>"
            ]
          },
          "metadata": {
            "needs_background": "light"
          },
          "output_type": "display_data"
        }
      ],
      "source": [
        "\n",
        "plt.plot([i.item() for i in training_losses])\n",
        "\n"
      ]
    },
    {
      "cell_type": "code",
      "execution_count": 87,
      "metadata": {},
      "outputs": [
        {
          "data": {
            "text/plain": [
              "[<matplotlib.lines.Line2D at 0x7fe4e9dbdc10>]"
            ]
          },
          "execution_count": 87,
          "metadata": {},
          "output_type": "execute_result"
        },
        {
          "data": {
            "image/png": "[encoded data removed]",
            "text/plain": [
              "<Figure size 432x288 with 1 Axes>"
            ]
          },
          "metadata": {
            "needs_background": "light"
          },
          "output_type": "display_data"
        }
      ],
      "source": [
        "plt.plot([i.item() for i in training_accuracies])\n",
        "plt.plot([i.item() for i in validation_accuracies], color = 'red')"
      ]
    },
    {
      "cell_type": "code",
      "execution_count": 88,
      "metadata": {
        "colab": {
          "base_uri": "https://localhost:8080/",
          "height": 460
        },
        "id": "WmSc91_qSqH_",
        "outputId": "8d8527fe-57b6-4ebf-9d4d-495509ab2aad"
      },
      "outputs": [
        {
          "name": "stderr",
          "output_type": "stream",
          "text": [
            "<ipython-input-4-5e5797f04886>:5: UserWarning: __floordiv__ is deprecated, and its behavior will change in a future version of pytorch. It currently rounds toward 0 (like the 'trunc' function NOT 'floor'). This results in incorrect rounding for negative values. To keep the current behavior, use torch.div(a, b, rounding_mode='trunc'), or for actual floor division, use torch.div(a, b, rounding_mode='floor').\n",
            "  batch=torch.nn.functional.one_hot(torch.remainder(batch//t[None, :].to(torch.int64), base), num_classes=base)\n"
          ]
        },
        {
          "data": {
            "image/png": "[encoded data removed]",
            "text/plain": [
              "<Figure size 1152x432 with 2 Axes>"
            ]
          },
          "metadata": {
            "needs_background": "light"
          },
          "output_type": "display_data"
        }
      ],
      "source": [
        "preds = [float(model(encode(torch.tensor([[i]]), digits, base).float())) for i in range(1,N+1)]\n",
        "\n",
        "plt.figure(figsize=(16, 6))\n",
        "plt.subplot(1, 2, 1)\n",
        "plt.plot(range(1, N+1)[1:100:2], preds[1:100:2], 'o', markersize = 2, label=\"even\")\n",
        "plt.plot(range(1, N+1)[0:100:2], preds[0:100:2], 'ro', markersize = 2, label=\"odd\")\n",
        "#plt.ylim([-100, 100])\n",
        "plt.plot(np.linspace(0, 100, 10000), np.zeros(10000), color='black')\n",
        "plt.xlabel('Number')\n",
        "plt.ylabel('Model outputs')\n",
        "plt.title('Showing divisibility by 2')\n",
        "plt.legend(loc='lower right')\n",
        "\n",
        "plt.subplot(1, 2, 2)\n",
        "# plt.plot(range(1, N+1)[1:100:3], preds[1:100:3], 'ro', markersize = 2, label=\"0 mod 3\")\n",
        "plt.plot(range(1, N+1)[0:100:5], preds[0:100:5], 'go', markersize = 2, label=\"1 mod 5\")\n",
        "plt.plot(range(1, N+1)[1:100:5], preds[1:100:5], 'o', markersize = 2, label=\"2 mod 5\")\n",
        "plt.plot(range(1, N+1)[2:100:5], preds[2:100:5], 'ro', markersize = 2, label=\"3 mod 5\")\n",
        "plt.plot(range(1, N+1)[3:100:5], preds[3:100:5], 'o', markersize = 2, label=\"4 mod 5\")\n",
        "plt.plot(range(1, N+1)[4:100:5], preds[4:100:5], 'bo', markersize = 2, label=\"0 mod 5\")\n",
        "plt.ylim([-100, 100])\n",
        "plt.plot(np.linspace(0, 100, 10000), np.zeros(10000), color='black')\n",
        "plt.xlabel('Number')\n",
        "plt.ylabel('Model outputs')\n",
        "plt.title('Showing divisibility by 5')\n",
        "plt.legend(loc='lower right')\n",
        "plt.show()\n",
        "\n"
      ]
    },
    {
      "cell_type": "code",
      "execution_count": 89,
      "metadata": {
        "colab": {
          "base_uri": "https://localhost:8080/"
        },
        "id": "gdD12E7kFjuV",
        "outputId": "00ff8949-23f3-4f4a-ac39-0c801d90a855"
      },
      "outputs": [
        {
          "name": "stdout",
          "output_type": "stream",
          "text": [
            "[1, 9, 15, 25, 33, 35, 39, 45, 49, 51, 55, 57, 65, 69, 75, 77, 81, 85, 87, 91]\n"
          ]
        }
      ],
      "source": [
        "print([index+1 for index, i in enumerate(preds) if i<0 if index%2==0][:20])"
      ]
    },
    {
      "cell_type": "code",
      "execution_count": 90,
      "metadata": {},
      "outputs": [
        {
          "name": "stdout",
          "output_type": "stream",
          "text": [
            "[21, 27, 63]\n",
            "[]\n"
          ]
        }
      ],
      "source": [
        "print([index+1 for index, i in enumerate(preds) if i > 0 if not isPrime(index+1)])\n",
        "print([index+1 for index, i in enumerate(preds) if i < 0 if isPrime(index+1)])"
      ]
    },
    {
      "cell_type": "code",
      "execution_count": 91,
      "metadata": {
        "id": "UOAlYHCcVRlc"
      },
      "outputs": [
        {
          "data": {
            "application/vnd.jupyter.widget-view+json": {
              "model_id": "51fed7423d9d4a93a6cbc74a7aa7c3f9",
              "version_major": 2,
              "version_minor": 0
            },
            "text/plain": [
              "HBox(children=(FloatProgress(value=0.0, max=35.0), HTML(value='')))"
            ]
          },
          "metadata": {},
          "output_type": "display_data"
        },
        {
          "name": "stdout",
          "output_type": "stream",
          "text": [
            "\n",
            "Train accuracy: 1.0\n"
          ]
        },
        {
          "name": "stderr",
          "output_type": "stream",
          "text": [
            "<ipython-input-4-5e5797f04886>:5: UserWarning: __floordiv__ is deprecated, and its behavior will change in a future version of pytorch. It currently rounds toward 0 (like the 'trunc' function NOT 'floor'). This results in incorrect rounding for negative values. To keep the current behavior, use torch.div(a, b, rounding_mode='trunc'), or for actual floor division, use torch.div(a, b, rounding_mode='floor').\n",
            "  batch=torch.nn.functional.one_hot(torch.remainder(batch//t[None, :].to(torch.int64), base), num_classes=base)\n"
          ]
        }
      ],
      "source": [
        "## Testing\n",
        "correct = 0\n",
        "total = len(train_data)\n",
        "\n",
        "with torch.no_grad():\n",
        "    # Iterate through test set minibatchs \n",
        "    for numbers, labels in tqdm(train_loader):\n",
        "        numbers = numbers.to(device)\n",
        "        labels = labels.to(device)\n",
        "        # Forward pass\n",
        "        x = numbers[:,None]\n",
        "        x = encode(x, digits, base).float()\n",
        "        y = model(x)\n",
        "\n",
        "        predictions = ((y>0)*1)[:, 0]\n",
        "        correct += torch.sum((predictions == labels).float())\n",
        "\n",
        "print('Train accuracy: {}'.format(correct/total))"
      ]
    },
    {
      "cell_type": "code",
      "execution_count": 92,
      "metadata": {
        "colab": {
          "base_uri": "https://localhost:8080/"
        },
        "id": "XCT9LpAYIfxi",
        "outputId": "360d9365-19b6-421c-c730-b4d747d70e46"
      },
      "outputs": [
        {
          "name": "stderr",
          "output_type": "stream",
          "text": [
            "<ipython-input-4-5e5797f04886>:5: UserWarning: __floordiv__ is deprecated, and its behavior will change in a future version of pytorch. It currently rounds toward 0 (like the 'trunc' function NOT 'floor'). This results in incorrect rounding for negative values. To keep the current behavior, use torch.div(a, b, rounding_mode='trunc'), or for actual floor division, use torch.div(a, b, rounding_mode='floor').\n",
            "  batch=torch.nn.functional.one_hot(torch.remainder(batch//t[None, :].to(torch.int64), base), num_classes=base)\n"
          ]
        },
        {
          "data": {
            "text/plain": [
              "tensor([[-22.2568]], grad_fn=<AddmmBackward0>)"
            ]
          },
          "execution_count": 92,
          "metadata": {},
          "output_type": "execute_result"
        }
      ],
      "source": [
        "x = torch.tensor([[30]])\n",
        "\n",
        "x = encode(x, digits, base).float()\n",
        "model(x)"
      ]
    },
    {
      "cell_type": "code",
      "execution_count": null,
      "metadata": {
        "id": "Tn7ZQUIkW40N"
      },
      "outputs": [],
      "source": []
    }
  ],
  "metadata": {
    "colab": {
      "collapsed_sections": [],
      "name": "Primes_SAM.ipynb",
      "provenance": []
    },
    "kernelspec": {
      "display_name": "Python 3.8.3 ('base')",
      "language": "python",
      "name": "python3"
    },
    "language_info": {
      "codemirror_mode": {
        "name": "ipython",
        "version": 3
      },
      "file_extension": ".py",
      "mimetype": "text/x-python",
      "name": "python",
      "nbconvert_exporter": "python",
      "pygments_lexer": "ipython3",
      "version": "3.8.3"
    },
    "vscode": {
      "interpreter": {
        "hash": "cd78fef2128015050713e82ca51c6520b11aee7c9ee8df750520bbbc7384cbaa"
      }
    },
    "widgets": {
      "application/vnd.jupyter.widget-state+json": {
        "15362b0caff049228ae5222aa7082aa5": {
          "model_module": "@jupyter-widgets/controls",
          "model_module_version": "1.5.0",
          "model_name": "FloatProgressModel",
          "state": {
            "_dom_classes": [],
            "_model_module": "@jupyter-widgets/controls",
            "_model_module_version": "1.5.0",
            "_model_name": "FloatProgressModel",
            "_view_count": null,
            "_view_module": "@jupyter-widgets/controls",
            "_view_module_version": "1.5.0",
            "_view_name": "ProgressView",
            "bar_style": "",
            "description": "",
            "description_tooltip": null,
            "layout": "IPY_MODEL_a8c01873b21d482b98355fe3610e1abd",
            "max": 5000,
            "min": 0,
            "orientation": "horizontal",
            "style": "IPY_MODEL_2b88f1d4ac1640e49a86f9eb206b423f",
            "value": 1714
          }
        },
        "2ac973dc096c4e33aae80be44a019e6a": {
          "model_module": "@jupyter-widgets/base",
          "model_module_version": "1.2.0",
          "model_name": "LayoutModel",
          "state": {
            "_model_module": "@jupyter-widgets/base",
            "_model_module_version": "1.2.0",
            "_model_name": "LayoutModel",
            "_view_count": null,
            "_view_module": "@jupyter-widgets/base",
            "_view_module_version": "1.2.0",
            "_view_name": "LayoutView",
            "align_content": null,
            "align_items": null,
            "align_self": null,
            "border": null,
            "bottom": null,
            "display": null,
            "flex": null,
            "flex_flow": null,
            "grid_area": null,
            "grid_auto_columns": null,
            "grid_auto_flow": null,
            "grid_auto_rows": null,
            "grid_column": null,
            "grid_gap": null,
            "grid_row": null,
            "grid_template_areas": null,
            "grid_template_columns": null,
            "grid_template_rows": null,
            "height": null,
            "justify_content": null,
            "justify_items": null,
            "left": null,
            "margin": null,
            "max_height": null,
            "max_width": null,
            "min_height": null,
            "min_width": null,
            "object_fit": null,
            "object_position": null,
            "order": null,
            "overflow": null,
            "overflow_x": null,
            "overflow_y": null,
            "padding": null,
            "right": null,
            "top": null,
            "visibility": null,
            "width": null
          }
        },
        "2b88f1d4ac1640e49a86f9eb206b423f": {
          "model_module": "@jupyter-widgets/controls",
          "model_module_version": "1.5.0",
          "model_name": "ProgressStyleModel",
          "state": {
            "_model_module": "@jupyter-widgets/controls",
            "_model_module_version": "1.5.0",
            "_model_name": "ProgressStyleModel",
            "_view_count": null,
            "_view_module": "@jupyter-widgets/base",
            "_view_module_version": "1.2.0",
            "_view_name": "StyleView",
            "bar_color": null,
            "description_width": ""
          }
        },
        "2d1bd946a6714082a9667245304d4b98": {
          "model_module": "@jupyter-widgets/controls",
          "model_module_version": "1.5.0",
          "model_name": "DescriptionStyleModel",
          "state": {
            "_model_module": "@jupyter-widgets/controls",
            "_model_module_version": "1.5.0",
            "_model_name": "DescriptionStyleModel",
            "_view_count": null,
            "_view_module": "@jupyter-widgets/base",
            "_view_module_version": "1.2.0",
            "_view_name": "StyleView",
            "description_width": ""
          }
        },
        "4598d2e622a7470f99db32f841eb9676": {
          "model_module": "@jupyter-widgets/base",
          "model_module_version": "1.2.0",
          "model_name": "LayoutModel",
          "state": {
            "_model_module": "@jupyter-widgets/base",
            "_model_module_version": "1.2.0",
            "_model_name": "LayoutModel",
            "_view_count": null,
            "_view_module": "@jupyter-widgets/base",
            "_view_module_version": "1.2.0",
            "_view_name": "LayoutView",
            "align_content": null,
            "align_items": null,
            "align_self": null,
            "border": null,
            "bottom": null,
            "display": null,
            "flex": null,
            "flex_flow": null,
            "grid_area": null,
            "grid_auto_columns": null,
            "grid_auto_flow": null,
            "grid_auto_rows": null,
            "grid_column": null,
            "grid_gap": null,
            "grid_row": null,
            "grid_template_areas": null,
            "grid_template_columns": null,
            "grid_template_rows": null,
            "height": null,
            "justify_content": null,
            "justify_items": null,
            "left": null,
            "margin": null,
            "max_height": null,
            "max_width": null,
            "min_height": null,
            "min_width": null,
            "object_fit": null,
            "object_position": null,
            "order": null,
            "overflow": null,
            "overflow_x": null,
            "overflow_y": null,
            "padding": null,
            "right": null,
            "top": null,
            "visibility": null,
            "width": null
          }
        },
        "4d1ba3d1456f4366a154711eccec5019": {
          "model_module": "@jupyter-widgets/controls",
          "model_module_version": "1.5.0",
          "model_name": "HTMLModel",
          "state": {
            "_dom_classes": [],
            "_model_module": "@jupyter-widgets/controls",
            "_model_module_version": "1.5.0",
            "_model_name": "HTMLModel",
            "_view_count": null,
            "_view_module": "@jupyter-widgets/controls",
            "_view_module_version": "1.5.0",
            "_view_name": "HTMLView",
            "description": "",
            "description_tooltip": null,
            "layout": "IPY_MODEL_4598d2e622a7470f99db32f841eb9676",
            "placeholder": "​",
            "style": "IPY_MODEL_5452d3c580df4bdfa2e8d1733da9d36d",
            "value": " 34%"
          }
        },
        "5452d3c580df4bdfa2e8d1733da9d36d": {
          "model_module": "@jupyter-widgets/controls",
          "model_module_version": "1.5.0",
          "model_name": "DescriptionStyleModel",
          "state": {
            "_model_module": "@jupyter-widgets/controls",
            "_model_module_version": "1.5.0",
            "_model_name": "DescriptionStyleModel",
            "_view_count": null,
            "_view_module": "@jupyter-widgets/base",
            "_view_module_version": "1.2.0",
            "_view_name": "StyleView",
            "description_width": ""
          }
        },
        "9edebc7b31034270b04f46ca7a9eceab": {
          "model_module": "@jupyter-widgets/controls",
          "model_module_version": "1.5.0",
          "model_name": "HTMLModel",
          "state": {
            "_dom_classes": [],
            "_model_module": "@jupyter-widgets/controls",
            "_model_module_version": "1.5.0",
            "_model_name": "HTMLModel",
            "_view_count": null,
            "_view_module": "@jupyter-widgets/controls",
            "_view_module_version": "1.5.0",
            "_view_name": "HTMLView",
            "description": "",
            "description_tooltip": null,
            "layout": "IPY_MODEL_2ac973dc096c4e33aae80be44a019e6a",
            "placeholder": "​",
            "style": "IPY_MODEL_2d1bd946a6714082a9667245304d4b98",
            "value": " 1714/5000 [01:09&lt;02:11, 25.07it/s]"
          }
        },
        "a7526688b99344f18c1dafe3e2dfd521": {
          "model_module": "@jupyter-widgets/base",
          "model_module_version": "1.2.0",
          "model_name": "LayoutModel",
          "state": {
            "_model_module": "@jupyter-widgets/base",
            "_model_module_version": "1.2.0",
            "_model_name": "LayoutModel",
            "_view_count": null,
            "_view_module": "@jupyter-widgets/base",
            "_view_module_version": "1.2.0",
            "_view_name": "LayoutView",
            "align_content": null,
            "align_items": null,
            "align_self": null,
            "border": null,
            "bottom": null,
            "display": null,
            "flex": null,
            "flex_flow": null,
            "grid_area": null,
            "grid_auto_columns": null,
            "grid_auto_flow": null,
            "grid_auto_rows": null,
            "grid_column": null,
            "grid_gap": null,
            "grid_row": null,
            "grid_template_areas": null,
            "grid_template_columns": null,
            "grid_template_rows": null,
            "height": null,
            "justify_content": null,
            "justify_items": null,
            "left": null,
            "margin": null,
            "max_height": null,
            "max_width": null,
            "min_height": null,
            "min_width": null,
            "object_fit": null,
            "object_position": null,
            "order": null,
            "overflow": null,
            "overflow_x": null,
            "overflow_y": null,
            "padding": null,
            "right": null,
            "top": null,
            "visibility": null,
            "width": null
          }
        },
        "a8c01873b21d482b98355fe3610e1abd": {
          "model_module": "@jupyter-widgets/base",
          "model_module_version": "1.2.0",
          "model_name": "LayoutModel",
          "state": {
            "_model_module": "@jupyter-widgets/base",
            "_model_module_version": "1.2.0",
            "_model_name": "LayoutModel",
            "_view_count": null,
            "_view_module": "@jupyter-widgets/base",
            "_view_module_version": "1.2.0",
            "_view_name": "LayoutView",
            "align_content": null,
            "align_items": null,
            "align_self": null,
            "border": null,
            "bottom": null,
            "display": null,
            "flex": null,
            "flex_flow": null,
            "grid_area": null,
            "grid_auto_columns": null,
            "grid_auto_flow": null,
            "grid_auto_rows": null,
            "grid_column": null,
            "grid_gap": null,
            "grid_row": null,
            "grid_template_areas": null,
            "grid_template_columns": null,
            "grid_template_rows": null,
            "height": null,
            "justify_content": null,
            "justify_items": null,
            "left": null,
            "margin": null,
            "max_height": null,
            "max_width": null,
            "min_height": null,
            "min_width": null,
            "object_fit": null,
            "object_position": null,
            "order": null,
            "overflow": null,
            "overflow_x": null,
            "overflow_y": null,
            "padding": null,
            "right": null,
            "top": null,
            "visibility": null,
            "width": null
          }
        },
        "fae037db33204fb79bfc9bccceda876e": {
          "model_module": "@jupyter-widgets/controls",
          "model_module_version": "1.5.0",
          "model_name": "HBoxModel",
          "state": {
            "_dom_classes": [],
            "_model_module": "@jupyter-widgets/controls",
            "_model_module_version": "1.5.0",
            "_model_name": "HBoxModel",
            "_view_count": null,
            "_view_module": "@jupyter-widgets/controls",
            "_view_module_version": "1.5.0",
            "_view_name": "HBoxView",
            "box_style": "",
            "children": [
              "IPY_MODEL_4d1ba3d1456f4366a154711eccec5019",
              "IPY_MODEL_15362b0caff049228ae5222aa7082aa5",
              "IPY_MODEL_9edebc7b31034270b04f46ca7a9eceab"
            ],
            "layout": "IPY_MODEL_a7526688b99344f18c1dafe3e2dfd521"
          }
        }
      }
    }
  },
  "nbformat": 4,
  "nbformat_minor": 0
}
