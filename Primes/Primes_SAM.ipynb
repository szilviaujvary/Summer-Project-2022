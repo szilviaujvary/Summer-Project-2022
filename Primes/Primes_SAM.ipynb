{
  "cells": [
    {
      "cell_type": "code",
      "execution_count": 167,
      "metadata": {},
      "outputs": [
        {
          "name": "stderr",
          "output_type": "stream",
          "text": [
            "fatal: destination path 'sam' already exists and is not an empty directory.\n"
          ]
        }
      ],
      "source": [
        "!git clone https://github.com/davda54/sam"
      ]
    },
    {
      "cell_type": "code",
      "execution_count": 168,
      "metadata": {
        "id": "Q5w7ocn8DLsf"
      },
      "outputs": [],
      "source": [
        "import sys; sys.path.append(\"..\")\n",
        "\n",
        "sys.path.append(\"sam\")\n",
        "from sam import SAM"
      ]
    },
    {
      "cell_type": "code",
      "execution_count": 169,
      "metadata": {
        "id": "Y4Vcf17gzE9m"
      },
      "outputs": [],
      "source": [
        "import numpy as np\n",
        "import torch\n",
        "import torch.nn as nn\n",
        "import torch.nn.functional as F\n",
        "from torchvision import datasets, transforms\n",
        "from tqdm.notebook import tqdm\n",
        "import matplotlib.pyplot as plt\n",
        "from utils import *\n",
        "\n",
        "device = \"cuda\" if torch.cuda.is_available() else \"cpu\""
      ]
    },
    {
      "cell_type": "code",
      "execution_count": 170,
      "metadata": {
        "id": "RwO6nR1FzkC4"
      },
      "outputs": [],
      "source": [
        "np.random.seed(seed=1372022)\n",
        "torch.random.manual_seed(1572022)\n",
        "N=999\n",
        "base = 2\n",
        "digits = base*(math.floor(np.log(N)/np.log(base))+1)\n",
        "\n",
        "all_primes_ = list(primes_upto(N+1))\n",
        "all_primes = [tuple((i, 1)) for i in range(1,N+1) if i in all_primes_]\n",
        "np.random.shuffle(all_primes)\n",
        "train_primes = all_primes[: math.floor(len(all_primes)*0.8)]\n",
        "test_primes = all_primes[math.floor(len(all_primes)*0.8):]\n",
        "all_comp = [tuple((i, 0)) for i in range(1,N+1) if i not in all_primes_]\n",
        "np.random.shuffle(all_comp)\n",
        "train_comp = all_comp[: math.floor(len(all_comp)*0.8)]\n",
        "test_comp = all_comp[math.floor(len(all_comp)*0.8):]\n",
        "\n",
        "train_data = []\n",
        "for k in range(len(train_comp)//len(train_primes)):\n",
        "    train_data += train_primes\n",
        "train_data += train_comp\n",
        "\n",
        "test_data = []\n",
        "for k in range(len(test_comp)//len(test_primes)):\n",
        "    test_data += test_primes\n",
        "test_data += test_comp\n",
        "\n",
        "np.random.shuffle(train_data)\n",
        "np.random.shuffle(test_data)"
      ]
    },
    {
      "cell_type": "code",
      "execution_count": 171,
      "metadata": {},
      "outputs": [
        {
          "name": "stdout",
          "output_type": "stream",
          "text": [
            "136\n",
            "34\n",
            "303\n",
            "167\n",
            "831\n",
            "168\n"
          ]
        }
      ],
      "source": [
        "count = 0\n",
        "for i in test_data:\n",
        "    if i in test_primes:\n",
        "        count += 1\n",
        "print(count)\n",
        "print(len(test_primes))\n",
        "print(len(test_data))\n",
        "print(len(test_comp))\n",
        "print(len(all_comp))\n",
        "print(len(all_primes))\n"
      ]
    },
    {
      "cell_type": "code",
      "execution_count": 172,
      "metadata": {
        "id": "S4AFjiz44uXK"
      },
      "outputs": [],
      "source": [
        "#model\n",
        "input = base*digits\n",
        "output1 = 64\n",
        "output2 = 128\n",
        "#output3 = 64\n",
        "\n",
        "\n",
        "class MLP(nn.Module):\n",
        "    \n",
        "    def __init__(self,output1,output2, output3):\n",
        "        super().__init__()\n",
        "        self.step1 = nn.Linear(input, output1)\n",
        "        self.step2 = nn.Linear(output1, output2)\n",
        "        self.step3 = nn.Linear(output2, 1)\n",
        "\n",
        "    def forward(self, x):\n",
        "        x = self.step1(x)\n",
        "        x = F.relu(x)\n",
        "        x = self.step2(x)\n",
        "        x = F.relu(x)\n",
        "        #x = self.step3(x)\n",
        "        #x = F.relu(x)\n",
        "        x = self.step3(x)\n",
        "        return x"
      ]
    },
    {
      "cell_type": "code",
      "execution_count": 173,
      "metadata": {
        "colab": {
          "base_uri": "https://localhost:8080/",
          "height": 105,
          "referenced_widgets": [
            "fae037db33204fb79bfc9bccceda876e",
            "4d1ba3d1456f4366a154711eccec5019",
            "15362b0caff049228ae5222aa7082aa5",
            "9edebc7b31034270b04f46ca7a9eceab",
            "a7526688b99344f18c1dafe3e2dfd521",
            "4598d2e622a7470f99db32f841eb9676",
            "5452d3c580df4bdfa2e8d1733da9d36d",
            "a8c01873b21d482b98355fe3610e1abd",
            "2b88f1d4ac1640e49a86f9eb206b423f",
            "2ac973dc096c4e33aae80be44a019e6a",
            "2d1bd946a6714082a9667245304d4b98"
          ]
        },
        "id": "1p6v7N50SqVi",
        "outputId": "af901f9c-6ce6-4946-e888-284026031d4a"
      },
      "outputs": [],
      "source": [
        "def train_MLP(batch_size=32, epochs=10, tracking=False, div_tracking=False):\n",
        "  from torchvision import datasets, transforms\n",
        "  from tqdm.notebook import tqdm, trange\n",
        "\n",
        "  train_loader = torch.utils.data.DataLoader(train_data, batch_size=batch_size, shuffle=True)\n",
        "  test_loader = torch.utils.data.DataLoader(test_data, batch_size=batch_size, shuffle=False)\n",
        "  val_loader = torch.utils.data.DataLoader(test_data, shuffle=False)\n",
        "\n",
        "  ## Training\n",
        "  # Instantiate model  \n",
        "  model = MLP(output1, output2, output3).to(device) \n",
        "\n",
        "  # Loss and Optimizer\n",
        "  base_optimizer = torch.optim.SGD\n",
        "  optimizer = SAM(model.parameters(), base_optimizer,rho=0.05, lr = 0.01, momentum=0.9, weight_decay=0.0005)\n",
        "  # optimizer = SAM(model.parameters(), base_optimizer, lr = 0.01)\n",
        "  criterion = nn.BCEWithLogitsLoss()\n",
        "\n",
        "  training_losses = []\n",
        "  training_accuracies = []\n",
        "  validation_accuracies = []\n",
        "  output_list = []  # previously called div_list\n",
        "\n",
        "  # Iterate through train set minibatchs \n",
        "  for epoch in trange(epochs):  \n",
        "      per_epoch_loss = 0\n",
        "      correct = 0\n",
        "      for numbers, labels in train_loader:\n",
        "          x = numbers[:,None]\n",
        "          x = x.to(device)\n",
        "          x = encode(x, digits, base).float()\n",
        "          labels = labels.double().to(device)[:,None]\n",
        "          # Zero out the gradients\n",
        "          optimizer.zero_grad()\n",
        "\n",
        "          def closure():\n",
        "            loss = criterion(model(x), labels)\n",
        "            loss.backward()\n",
        "            return loss\n",
        "\n",
        "          # Forward pass\n",
        "          y = model(x)\n",
        "          loss = criterion(y, labels)\n",
        "          if tracking:\n",
        "            # Tracking loss\n",
        "            per_epoch_loss += loss\n",
        "\n",
        "            # Train accuracy tracking\n",
        "            predictions = ((y>0)*1)\n",
        "            correct += torch.sum((predictions == labels).float())\n",
        "\n",
        "            # Validation accuracy tracking\n",
        "          loss.backward()\n",
        "          optimizer.step(closure)\n",
        "      if tracking:\n",
        "        correct_test = 0\n",
        "        with torch.no_grad():\n",
        "                # Iterate through test set minibatchs \n",
        "                for numbers2, labels2 in val_loader:\n",
        "                    numbers2 = numbers2.to(device)\n",
        "                    labels2 = labels2.double().to(device)[:,None]\n",
        "                    # Forward pass\n",
        "                    x2 = numbers2[:,None]\n",
        "                    x2 = encode(x2, digits, base).float()\n",
        "                    y2 = model(x2)\n",
        "                    predictions2 = ((y2>0)*1)[:,0]\n",
        "                    correct_test += torch.sum((predictions2 == labels2).float())\n",
        "\n",
        "        training_losses.append(per_epoch_loss/len(train_loader))\n",
        "        training_accuracies.append(correct/len(train_data))\n",
        "        validation_accuracies.append(correct_test/len(test_data))\n",
        "      if div_tracking:\n",
        "        with torch.no_grad():\n",
        "                x3 = torch.arange(1, N+1)[:, None]\n",
        "                x3 = encode(x3, digits, base).float()\n",
        "                model_outputs = model(x3)\n",
        "                output_list.append(model_outputs.detach().numpy())\n",
        "\n",
        "  training_losses = [i.item() for i in training_losses]\n",
        "  training_accuracies = [i.item() for i in training_accuracies]\n",
        "  validation_accuracies = [i.item() for i in validation_accuracies]\n",
        "\n",
        "  return model, training_losses, training_accuracies, validation_accuracies, np.array(output_list)"
      ]
    },
    {
      "cell_type": "code",
      "execution_count": 166,
      "metadata": {},
      "outputs": [
        {
          "data": {
            "application/vnd.jupyter.widget-view+json": {
              "model_id": "40036f234be948079ebb99ad1a32b15d",
              "version_major": 2,
              "version_minor": 0
            },
            "text/plain": [
              "  0%|          | 0/800 [00:00<?, ?it/s]"
            ]
          },
          "metadata": {},
          "output_type": "display_data"
        },
        {
          "data": {
            "image/png": "[encoded data removed]",
            "text/plain": [
              "<Figure size 1008x432 with 2 Axes>"
            ]
          },
          "metadata": {
            "needs_background": "light"
          },
          "output_type": "display_data"
        }
      ],
      "source": [
        "# base 10 - better generalization?\n",
        "base = 10\n",
        "digits = base*(math.floor(np.log(N)/np.log(base))+1)\n",
        "input = base*digits\n",
        "model, training_losses, training_accuracies, validation_accuracies, output_list = train_MLP(batch_size=32, epochs=800, tracking=True, div_tracking=False)\n",
        "plt.figure(figsize=(14, 6))\n",
        "plt.subplot(1, 2, 1)\n",
        "plt.plot(training_losses)\n",
        "plt.title('Training loss')\n",
        "plt.xlabel('epoch')\n",
        "plt.ylabel('loss')\n",
        "\n",
        "plt.subplot(1, 2, 2)\n",
        "plt.plot(training_accuracies, label='training')\n",
        "plt.plot(validation_accuracies, color = 'red', label='validation')\n",
        "plt.title('Accuracies')\n",
        "plt.legend(loc='lower right')\n",
        "plt.xlabel('epoch')\n",
        "plt.ylabel('accuracy')\n",
        "plt.show()"
      ]
    },
    {
      "cell_type": "code",
      "execution_count": 150,
      "metadata": {},
      "outputs": [
        {
          "data": {
            "application/vnd.jupyter.widget-view+json": {
              "model_id": "590d52b73c4d469286b09eb4b50fe802",
              "version_major": 2,
              "version_minor": 0
            },
            "text/plain": [
              "  0%|          | 0/10000 [00:00<?, ?it/s]"
            ]
          },
          "metadata": {},
          "output_type": "display_data"
        },
        {
          "data": {
            "image/png": "[encoded data removed]",
            "text/plain": [
              "<Figure size 1008x432 with 2 Axes>"
            ]
          },
          "metadata": {
            "needs_background": "light"
          },
          "output_type": "display_data"
        }
      ],
      "source": [
        "# base 2 - terrible overfitting\n",
        "base = 2\n",
        "digits = base*(math.floor(np.log(N)/np.log(base))+1)\n",
        "input = base*digits\n",
        "model, training_losses, training_accuracies, validation_accuracies, output_list = train_MLP(batch_size=32, epochs=10000, tracking=True, div_tracking=False)\n",
        "plt.figure(figsize=(14, 6))\n",
        "plt.subplot(1, 2, 1)\n",
        "plt.plot(training_losses)\n",
        "plt.title('Training loss')\n",
        "plt.xlabel('epoch')\n",
        "plt.ylabel('loss')\n",
        "\n",
        "plt.subplot(1, 2, 2)\n",
        "plt.plot(training_accuracies, label='training')\n",
        "plt.plot(validation_accuracies, color = 'red', label='validation')\n",
        "plt.title('Accuracies')\n",
        "plt.legend(loc='upper left')\n",
        "plt.xlabel('epoch')\n",
        "plt.ylabel('accuracy')\n",
        "plt.show()"
      ]
    },
    {
      "cell_type": "code",
      "execution_count": null,
      "metadata": {},
      "outputs": [],
      "source": [
        "model()"
      ]
    },
    {
      "cell_type": "code",
      "execution_count": 106,
      "metadata": {},
      "outputs": [
        {
          "data": {
            "application/vnd.jupyter.widget-view+json": {
              "model_id": "7a4e643c1c0c4654a68788dea5d4f8c4",
              "version_major": 2,
              "version_minor": 0
            },
            "text/plain": [
              "  0%|          | 0/2000 [00:00<?, ?it/s]"
            ]
          },
          "metadata": {},
          "output_type": "display_data"
        },
        {
          "name": "stderr",
          "output_type": "stream",
          "text": [
            "c:\\Users\\szilv\\OneDrive\\Dokumentumok\\summer_2022\\Summer-2022\\utils.py:61: UserWarning: __floordiv__ is deprecated, and its behavior will change in a future version of pytorch. It currently rounds toward 0 (like the 'trunc' function NOT 'floor'). This results in incorrect rounding for negative values. To keep the current behavior, use torch.div(a, b, rounding_mode='trunc'), or for actual floor division, use torch.div(a, b, rounding_mode='floor').\n",
            "  batch=torch.nn.functional.one_hot(torch.remainder(batch//t[None, :].to(torch.int64), base), num_classes=base)\n"
          ]
        }
      ],
      "source": [
        "model, training_losses, training_accuracies, validation_accuracies, output_list = train_MLP(batch_size=32, epochs=2000, tracking=True, div_tracking=True)"
      ]
    },
    {
      "cell_type": "code",
      "execution_count": 109,
      "metadata": {},
      "outputs": [
        {
          "data": {
            "image/png": "[encoded data removed]",
            "text/plain": [
              "<Figure size 864x432 with 1 Axes>"
            ]
          },
          "metadata": {
            "needs_background": "light"
          },
          "output_type": "display_data"
        }
      ],
      "source": [
        "plt.figure(figsize=(12, 6))\n",
        "non_primes = output_list[:,[x-1 for x in range(1, N+1) if x not in primes_upto(N+1)],0]\n",
        "false_positives = (non_primes > 0).mean(1)\n",
        "def false_positive_counter(prime):\n",
        "    output = output_list[:, prime-1 ::prime, 0]\n",
        "    false_positives = (output > 0).mean(1)\n",
        "    return false_positives\n",
        "\n",
        "plt.plot(false_positive_counter(7), label=\"7\")\n",
        "plt.plot(false_positive_counter(5), label=\"5\")\n",
        "plt.plot(false_positive_counter(3), label=\"3\")\n",
        "plt.plot(false_positives, label=\"all\")\n",
        "plt.legend(loc=\"upper right\")\n",
        "plt.show()"
      ]
    },
    {
      "cell_type": "code",
      "execution_count": 176,
      "metadata": {},
      "outputs": [
        {
          "data": {
            "application/vnd.jupyter.widget-view+json": {
              "model_id": "659eb94da4ed429aa8ea83bc85e00ac7",
              "version_major": 2,
              "version_minor": 0
            },
            "text/plain": [
              "  0%|          | 0/10 [00:00<?, ?it/s]"
            ]
          },
          "metadata": {},
          "output_type": "display_data"
        },
        {
          "name": "stderr",
          "output_type": "stream",
          "text": [
            "c:\\Users\\szilv\\OneDrive\\Dokumentumok\\summer_2022\\Summer-2022\\utils.py:61: UserWarning: __floordiv__ is deprecated, and its behavior will change in a future version of pytorch. It currently rounds toward 0 (like the 'trunc' function NOT 'floor'). This results in incorrect rounding for negative values. To keep the current behavior, use torch.div(a, b, rounding_mode='trunc'), or for actual floor division, use torch.div(a, b, rounding_mode='floor').\n",
            "  batch=torch.nn.functional.one_hot(torch.remainder(batch//t[None, :].to(torch.int64), base), num_classes=base)\n"
          ]
        },
        {
          "data": {
            "text/plain": [
              "array([[[-0.23701483],\n",
              "        [-0.34602487],\n",
              "        [-0.22390419],\n",
              "        ...,\n",
              "        [-0.19737293],\n",
              "        [-0.30877066],\n",
              "        [-0.18463853]],\n",
              "\n",
              "       [[-0.18522003],\n",
              "        [-0.61727947],\n",
              "        [-0.18398398],\n",
              "        ...,\n",
              "        [-0.1699786 ],\n",
              "        [-0.5975889 ],\n",
              "        [-0.16613378]],\n",
              "\n",
              "       [[ 0.3401658 ],\n",
              "        [-1.0615953 ],\n",
              "        [ 0.32573116],\n",
              "        ...,\n",
              "        [ 0.2589907 ],\n",
              "        [-1.0602769 ],\n",
              "        [ 0.24810697]],\n",
              "\n",
              "       ...,\n",
              "\n",
              "       [[ 0.6352004 ],\n",
              "        [-4.7321105 ],\n",
              "        [ 0.6796931 ],\n",
              "        ...,\n",
              "        [ 0.4235754 ],\n",
              "        [-4.990801  ],\n",
              "        [ 0.45263427]],\n",
              "\n",
              "       [[ 0.777862  ],\n",
              "        [-4.7124457 ],\n",
              "        [ 0.8453616 ],\n",
              "        ...,\n",
              "        [ 0.5481312 ],\n",
              "        [-5.041506  ],\n",
              "        [ 0.60604125]],\n",
              "\n",
              "       [[ 0.577339  ],\n",
              "        [-5.4340663 ],\n",
              "        [ 0.6439963 ],\n",
              "        ...,\n",
              "        [ 0.34107822],\n",
              "        [-5.7523236 ],\n",
              "        [ 0.40474612]]], dtype=float32)"
            ]
          },
          "execution_count": 176,
          "metadata": {},
          "output_type": "execute_result"
        }
      ],
      "source": [
        "model, training_losses, training_accuracies, validation_accuracies, output_list = train_MLP(batch_size=32, epochs=10, tracking=False, div_tracking=True)\n",
        "output_list"
      ]
    },
    {
      "cell_type": "code",
      "execution_count": 110,
      "metadata": {},
      "outputs": [
        {
          "data": {
            "text/plain": [
              "<matplotlib.legend.Legend at 0x1d1cc533ac0>"
            ]
          },
          "execution_count": 110,
          "metadata": {},
          "output_type": "execute_result"
        },
        {
          "data": {
            "image/png": "[encoded data removed]",
            "text/plain": [
              "<Figure size 432x288 with 1 Axes>"
            ]
          },
          "metadata": {
            "needs_background": "light"
          },
          "output_type": "display_data"
        }
      ],
      "source": [
        "#second classifier\n",
        "X = np.zeros((N, 4))\n",
        "X[1::2, 0] = 1\n",
        "X[2::3, 1] = 1\n",
        "X[4::5, 2] = 1\n",
        "X[6::7, 3] = 1\n",
        "coeffs=[]\n",
        "\n",
        "from sklearn.linear_model import LogisticRegression\n",
        "for e in range(0, 2000, 50):\n",
        "    explainer = LogisticRegression(penalty='l2')\n",
        "    explainer.fit(X, output_list[e, :, 0]>0)\n",
        "    coeffs.append(explainer.coef_)\n",
        "plt.plot(np.array(coeffs)[:,0,:], '.-')\n",
        "plt.legend([\"2\", \"3\", \"5\", \"7\"])"
      ]
    },
    {
      "cell_type": "code",
      "execution_count": 153,
      "metadata": {
        "id": "GC-05i3ojNMG"
      },
      "outputs": [
        {
          "data": {
            "application/vnd.jupyter.widget-view+json": {
              "model_id": "96bbbaa748544b5c856085c726f0302a",
              "version_major": 2,
              "version_minor": 0
            },
            "text/plain": [
              "  0%|          | 0/10 [00:00<?, ?it/s]"
            ]
          },
          "metadata": {},
          "output_type": "display_data"
        },
        {
          "name": "stdout",
          "output_type": "stream",
          "text": [
            "Test accuracy: 0.5577557682991028\n"
          ]
        },
        {
          "name": "stderr",
          "output_type": "stream",
          "text": [
            "c:\\Users\\szilv\\OneDrive\\Dokumentumok\\summer_2022\\Summer-2022\\utils.py:61: UserWarning: __floordiv__ is deprecated, and its behavior will change in a future version of pytorch. It currently rounds toward 0 (like the 'trunc' function NOT 'floor'). This results in incorrect rounding for negative values. To keep the current behavior, use torch.div(a, b, rounding_mode='trunc'), or for actual floor division, use torch.div(a, b, rounding_mode='floor').\n",
            "  batch=torch.nn.functional.one_hot(torch.remainder(batch//t[None, :].to(torch.int64), base), num_classes=base)\n"
          ]
        }
      ],
      "source": [
        " ## Testing\n",
        " correct = 0\n",
        " total = len(test_data)\n",
        " test_loader = torch.utils.data.DataLoader(test_data, batch_size=32, shuffle=False)\n",
        " with torch.no_grad():\n",
        "     # Iterate through test set minibatchs \n",
        "     for numbers, labels in tqdm(test_loader):\n",
        "         numbers = numbers.to(device)\n",
        "         labels = labels.to(device)\n",
        "         # Forward pass\n",
        "         x = numbers[:,None]\n",
        "         x = encode(x, digits, base).float()\n",
        "         y = model(x)\n",
        "         predictions = ((y>0)*1)[:, 0]\n",
        "         correct += torch.sum((predictions == labels).float())\n",
        "\n",
        " print('Test accuracy: {}'.format(correct/total))"
      ]
    },
    {
      "cell_type": "code",
      "execution_count": 159,
      "metadata": {
        "colab": {
          "base_uri": "https://localhost:8080/"
        },
        "id": "XCT9LpAYIfxi",
        "outputId": "360d9365-19b6-421c-c730-b4d747d70e46"
      },
      "outputs": [
        {
          "data": {
            "text/plain": [
              "tensor([[7.0062]], grad_fn=<AddmmBackward0>)"
            ]
          },
          "execution_count": 159,
          "metadata": {},
          "output_type": "execute_result"
        }
      ],
      "source": [
        "x = torch.tensor([[97]])\n",
        "\n",
        "x = encode(x, digits, base).float()\n",
        "model(x)"
      ]
    },
    {
      "cell_type": "code",
      "execution_count": null,
      "metadata": {
        "id": "Tn7ZQUIkW40N"
      },
      "outputs": [],
      "source": []
    }
  ],
  "metadata": {
    "colab": {
      "collapsed_sections": [],
      "name": "Primes_SAM.ipynb",
      "provenance": []
    },
    "kernelspec": {
      "display_name": "Python 3.8.3 ('base')",
      "language": "python",
      "name": "python3"
    },
    "language_info": {
      "codemirror_mode": {
        "name": "ipython",
        "version": 3
      },
      "file_extension": ".py",
      "mimetype": "text/x-python",
      "name": "python",
      "nbconvert_exporter": "python",
      "pygments_lexer": "ipython3",
      "version": "3.8.3"
    },
    "vscode": {
      "interpreter": {
        "hash": "cd78fef2128015050713e82ca51c6520b11aee7c9ee8df750520bbbc7384cbaa"
      }
    },
    "widgets": {
      "application/vnd.jupyter.widget-state+json": {
        "15362b0caff049228ae5222aa7082aa5": {
          "model_module": "@jupyter-widgets/controls",
          "model_module_version": "1.5.0",
          "model_name": "FloatProgressModel",
          "state": {
            "_dom_classes": [],
            "_model_module": "@jupyter-widgets/controls",
            "_model_module_version": "1.5.0",
            "_model_name": "FloatProgressModel",
            "_view_count": null,
            "_view_module": "@jupyter-widgets/controls",
            "_view_module_version": "1.5.0",
            "_view_name": "ProgressView",
            "bar_style": "",
            "description": "",
            "description_tooltip": null,
            "layout": "IPY_MODEL_a8c01873b21d482b98355fe3610e1abd",
            "max": 5000,
            "min": 0,
            "orientation": "horizontal",
            "style": "IPY_MODEL_2b88f1d4ac1640e49a86f9eb206b423f",
            "value": 1714
          }
        },
        "2ac973dc096c4e33aae80be44a019e6a": {
          "model_module": "@jupyter-widgets/base",
          "model_module_version": "1.2.0",
          "model_name": "LayoutModel",
          "state": {
            "_model_module": "@jupyter-widgets/base",
            "_model_module_version": "1.2.0",
            "_model_name": "LayoutModel",
            "_view_count": null,
            "_view_module": "@jupyter-widgets/base",
            "_view_module_version": "1.2.0",
            "_view_name": "LayoutView",
            "align_content": null,
            "align_items": null,
            "align_self": null,
            "border": null,
            "bottom": null,
            "display": null,
            "flex": null,
            "flex_flow": null,
            "grid_area": null,
            "grid_auto_columns": null,
            "grid_auto_flow": null,
            "grid_auto_rows": null,
            "grid_column": null,
            "grid_gap": null,
            "grid_row": null,
            "grid_template_areas": null,
            "grid_template_columns": null,
            "grid_template_rows": null,
            "height": null,
            "justify_content": null,
            "justify_items": null,
            "left": null,
            "margin": null,
            "max_height": null,
            "max_width": null,
            "min_height": null,
            "min_width": null,
            "object_fit": null,
            "object_position": null,
            "order": null,
            "overflow": null,
            "overflow_x": null,
            "overflow_y": null,
            "padding": null,
            "right": null,
            "top": null,
            "visibility": null,
            "width": null
          }
        },
        "2b88f1d4ac1640e49a86f9eb206b423f": {
          "model_module": "@jupyter-widgets/controls",
          "model_module_version": "1.5.0",
          "model_name": "ProgressStyleModel",
          "state": {
            "_model_module": "@jupyter-widgets/controls",
            "_model_module_version": "1.5.0",
            "_model_name": "ProgressStyleModel",
            "_view_count": null,
            "_view_module": "@jupyter-widgets/base",
            "_view_module_version": "1.2.0",
            "_view_name": "StyleView",
            "bar_color": null,
            "description_width": ""
          }
        },
        "2d1bd946a6714082a9667245304d4b98": {
          "model_module": "@jupyter-widgets/controls",
          "model_module_version": "1.5.0",
          "model_name": "DescriptionStyleModel",
          "state": {
            "_model_module": "@jupyter-widgets/controls",
            "_model_module_version": "1.5.0",
            "_model_name": "DescriptionStyleModel",
            "_view_count": null,
            "_view_module": "@jupyter-widgets/base",
            "_view_module_version": "1.2.0",
            "_view_name": "StyleView",
            "description_width": ""
          }
        },
        "4598d2e622a7470f99db32f841eb9676": {
          "model_module": "@jupyter-widgets/base",
          "model_module_version": "1.2.0",
          "model_name": "LayoutModel",
          "state": {
            "_model_module": "@jupyter-widgets/base",
            "_model_module_version": "1.2.0",
            "_model_name": "LayoutModel",
            "_view_count": null,
            "_view_module": "@jupyter-widgets/base",
            "_view_module_version": "1.2.0",
            "_view_name": "LayoutView",
            "align_content": null,
            "align_items": null,
            "align_self": null,
            "border": null,
            "bottom": null,
            "display": null,
            "flex": null,
            "flex_flow": null,
            "grid_area": null,
            "grid_auto_columns": null,
            "grid_auto_flow": null,
            "grid_auto_rows": null,
            "grid_column": null,
            "grid_gap": null,
            "grid_row": null,
            "grid_template_areas": null,
            "grid_template_columns": null,
            "grid_template_rows": null,
            "height": null,
            "justify_content": null,
            "justify_items": null,
            "left": null,
            "margin": null,
            "max_height": null,
            "max_width": null,
            "min_height": null,
            "min_width": null,
            "object_fit": null,
            "object_position": null,
            "order": null,
            "overflow": null,
            "overflow_x": null,
            "overflow_y": null,
            "padding": null,
            "right": null,
            "top": null,
            "visibility": null,
            "width": null
          }
        },
        "4d1ba3d1456f4366a154711eccec5019": {
          "model_module": "@jupyter-widgets/controls",
          "model_module_version": "1.5.0",
          "model_name": "HTMLModel",
          "state": {
            "_dom_classes": [],
            "_model_module": "@jupyter-widgets/controls",
            "_model_module_version": "1.5.0",
            "_model_name": "HTMLModel",
            "_view_count": null,
            "_view_module": "@jupyter-widgets/controls",
            "_view_module_version": "1.5.0",
            "_view_name": "HTMLView",
            "description": "",
            "description_tooltip": null,
            "layout": "IPY_MODEL_4598d2e622a7470f99db32f841eb9676",
            "placeholder": "​",
            "style": "IPY_MODEL_5452d3c580df4bdfa2e8d1733da9d36d",
            "value": " 34%"
          }
        },
        "5452d3c580df4bdfa2e8d1733da9d36d": {
          "model_module": "@jupyter-widgets/controls",
          "model_module_version": "1.5.0",
          "model_name": "DescriptionStyleModel",
          "state": {
            "_model_module": "@jupyter-widgets/controls",
            "_model_module_version": "1.5.0",
            "_model_name": "DescriptionStyleModel",
            "_view_count": null,
            "_view_module": "@jupyter-widgets/base",
            "_view_module_version": "1.2.0",
            "_view_name": "StyleView",
            "description_width": ""
          }
        },
        "9edebc7b31034270b04f46ca7a9eceab": {
          "model_module": "@jupyter-widgets/controls",
          "model_module_version": "1.5.0",
          "model_name": "HTMLModel",
          "state": {
            "_dom_classes": [],
            "_model_module": "@jupyter-widgets/controls",
            "_model_module_version": "1.5.0",
            "_model_name": "HTMLModel",
            "_view_count": null,
            "_view_module": "@jupyter-widgets/controls",
            "_view_module_version": "1.5.0",
            "_view_name": "HTMLView",
            "description": "",
            "description_tooltip": null,
            "layout": "IPY_MODEL_2ac973dc096c4e33aae80be44a019e6a",
            "placeholder": "​",
            "style": "IPY_MODEL_2d1bd946a6714082a9667245304d4b98",
            "value": " 1714/5000 [01:09&lt;02:11, 25.07it/s]"
          }
        },
        "a7526688b99344f18c1dafe3e2dfd521": {
          "model_module": "@jupyter-widgets/base",
          "model_module_version": "1.2.0",
          "model_name": "LayoutModel",
          "state": {
            "_model_module": "@jupyter-widgets/base",
            "_model_module_version": "1.2.0",
            "_model_name": "LayoutModel",
            "_view_count": null,
            "_view_module": "@jupyter-widgets/base",
            "_view_module_version": "1.2.0",
            "_view_name": "LayoutView",
            "align_content": null,
            "align_items": null,
            "align_self": null,
            "border": null,
            "bottom": null,
            "display": null,
            "flex": null,
            "flex_flow": null,
            "grid_area": null,
            "grid_auto_columns": null,
            "grid_auto_flow": null,
            "grid_auto_rows": null,
            "grid_column": null,
            "grid_gap": null,
            "grid_row": null,
            "grid_template_areas": null,
            "grid_template_columns": null,
            "grid_template_rows": null,
            "height": null,
            "justify_content": null,
            "justify_items": null,
            "left": null,
            "margin": null,
            "max_height": null,
            "max_width": null,
            "min_height": null,
            "min_width": null,
            "object_fit": null,
            "object_position": null,
            "order": null,
            "overflow": null,
            "overflow_x": null,
            "overflow_y": null,
            "padding": null,
            "right": null,
            "top": null,
            "visibility": null,
            "width": null
          }
        },
        "a8c01873b21d482b98355fe3610e1abd": {
          "model_module": "@jupyter-widgets/base",
          "model_module_version": "1.2.0",
          "model_name": "LayoutModel",
          "state": {
            "_model_module": "@jupyter-widgets/base",
            "_model_module_version": "1.2.0",
            "_model_name": "LayoutModel",
            "_view_count": null,
            "_view_module": "@jupyter-widgets/base",
            "_view_module_version": "1.2.0",
            "_view_name": "LayoutView",
            "align_content": null,
            "align_items": null,
            "align_self": null,
            "border": null,
            "bottom": null,
            "display": null,
            "flex": null,
            "flex_flow": null,
            "grid_area": null,
            "grid_auto_columns": null,
            "grid_auto_flow": null,
            "grid_auto_rows": null,
            "grid_column": null,
            "grid_gap": null,
            "grid_row": null,
            "grid_template_areas": null,
            "grid_template_columns": null,
            "grid_template_rows": null,
            "height": null,
            "justify_content": null,
            "justify_items": null,
            "left": null,
            "margin": null,
            "max_height": null,
            "max_width": null,
            "min_height": null,
            "min_width": null,
            "object_fit": null,
            "object_position": null,
            "order": null,
            "overflow": null,
            "overflow_x": null,
            "overflow_y": null,
            "padding": null,
            "right": null,
            "top": null,
            "visibility": null,
            "width": null
          }
        },
        "fae037db33204fb79bfc9bccceda876e": {
          "model_module": "@jupyter-widgets/controls",
          "model_module_version": "1.5.0",
          "model_name": "HBoxModel",
          "state": {
            "_dom_classes": [],
            "_model_module": "@jupyter-widgets/controls",
            "_model_module_version": "1.5.0",
            "_model_name": "HBoxModel",
            "_view_count": null,
            "_view_module": "@jupyter-widgets/controls",
            "_view_module_version": "1.5.0",
            "_view_name": "HBoxView",
            "box_style": "",
            "children": [
              "IPY_MODEL_4d1ba3d1456f4366a154711eccec5019",
              "IPY_MODEL_15362b0caff049228ae5222aa7082aa5",
              "IPY_MODEL_9edebc7b31034270b04f46ca7a9eceab"
            ],
            "layout": "IPY_MODEL_a7526688b99344f18c1dafe3e2dfd521"
          }
        }
      }
    }
  },
  "nbformat": 4,
  "nbformat_minor": 0
}
