{
  "cells": [
    {
      "cell_type": "code",
      "execution_count": 2,
      "metadata": {},
      "outputs": [
        {
          "name": "stdout",
          "output_type": "stream",
          "text": [
            "fatal: destination path 'sam' already exists and is not an empty directory.\n"
          ]
        }
      ],
      "source": [
        "!git clone https://github.com/davda54/sam"
      ]
    },
    {
      "cell_type": "code",
      "execution_count": 3,
      "metadata": {
        "id": "Q5w7ocn8DLsf"
      },
      "outputs": [],
      "source": [
        "import sys; sys.path.append(\"..\")\n",
        "\n",
        "sys.path.append(\"sam\")\n",
        "from sam import SAM"
      ]
    },
    {
      "cell_type": "code",
      "execution_count": 4,
      "metadata": {
        "id": "Y4Vcf17gzE9m"
      },
      "outputs": [],
      "source": [
        "import numpy as np\n",
        "import torch\n",
        "import torch.nn as nn\n",
        "import torch.nn.functional as F\n",
        "from torchvision import datasets, transforms\n",
        "from tqdm.notebook import tqdm\n",
        "import matplotlib.pyplot as plt\n",
        "from utils import *\n",
        "\n",
        "device = \"cuda\" if torch.cuda.is_available() else \"cpu\""
      ]
    },
    {
      "cell_type": "code",
      "execution_count": 5,
      "metadata": {
        "id": "RwO6nR1FzkC4"
      },
      "outputs": [],
      "source": [
        "np.random.seed(seed=1372022)\n",
        "N=999\n",
        "base = 10\n",
        "digits = base*(math.floor(np.log(N)/np.log(base))+1)\n",
        "\n",
        "train_primes = list(primes_upto(N+1))\n",
        "#train_composites = [i for i in range(1000) if i not in train_primes]\n",
        "all_data = []\n",
        "for k in range(N//len(train_primes)):\n",
        "    all_data += [tuple((i, 1)) for i in range(1,N+1) if i in train_primes]\n",
        "all_data += [tuple((i, 0)) for i in range(1,N+1) if i not in train_primes]\n",
        "\n",
        "# all_data = [tuple((i, 1)) for i in range(1,N+1) if i in train_primes] + [tuple((i, 0)) for i in range(1,N+1) if i not in train_primes if np.random.uniform(0, 1)<len(train_primes)/N]\n",
        "\n",
        "np.random.shuffle(all_data)\n",
        "\n",
        "train_data = all_data[: math.floor(len(all_data)*0.8)]\n",
        "test_data = set(all_data[math.floor(len(all_data)*0.8):])\n",
        "test_data.difference(set(train_data))\n",
        "test_data = list(test_data)"
      ]
    },
    {
      "cell_type": "code",
      "execution_count": 6,
      "metadata": {
        "colab": {
          "base_uri": "https://localhost:8080/"
        },
        "id": "IjfS7gWIWY5o",
        "outputId": "484541c5-604d-485a-ca83-eecbfc796cba"
      },
      "outputs": [
        {
          "name": "stdout",
          "output_type": "stream",
          "text": [
            "840 831\n",
            "[(593, 1), (932, 0), (229, 1), (772, 0), (835, 0), (461, 1), (214, 0), (643, 1), (822, 0), (563, 1), (39, 0), (839, 1), (947, 1), (727, 1), (522, 0), (389, 1), (181, 1), (36, 0), (991, 1), (353, 1)]\n",
            "1336\n",
            "275\n"
          ]
        }
      ],
      "source": [
        "counter_primes = 0\n",
        "counter = 0\n",
        "for i in all_data:\n",
        "    if i[1]:\n",
        "        counter_primes += 1\n",
        "    else:\n",
        "        counter += 1\n",
        "print(counter_primes, counter)\n",
        "\n",
        "print(train_data[:20])\n",
        "print(len(train_data))\n",
        "print(len(test_data))"
      ]
    },
    {
      "cell_type": "code",
      "execution_count": 7,
      "metadata": {
        "id": "S4AFjiz44uXK"
      },
      "outputs": [],
      "source": [
        "#model\n",
        "input = base*digits\n",
        "output1 = 64\n",
        "output2 = 128\n",
        "output3 = 64\n",
        "class MLP(nn.Module):\n",
        "    def __init__(self,output1,output2, output3):\n",
        "        super().__init__()\n",
        "        self.step1 = nn.Linear(input, output1)\n",
        "        self.step2 = nn.Linear(output1, output2)\n",
        "        self.step3 = nn.Linear(output2, 1)\n",
        "\n",
        "    def forward(self, x):\n",
        "        \n",
        "        x = self.step1(x)\n",
        "        x = F.relu(x)\n",
        "        x = self.step2(x)\n",
        "        x = F.relu(x)\n",
        "        #x = self.step3(x)\n",
        "        #x = F.relu(x)\n",
        "        x = self.step3(x)\n",
        "\n",
        "        return x"
      ]
    },
    {
      "cell_type": "code",
      "execution_count": 8,
      "metadata": {
        "colab": {
          "base_uri": "https://localhost:8080/",
          "height": 105,
          "referenced_widgets": [
            "fae037db33204fb79bfc9bccceda876e",
            "4d1ba3d1456f4366a154711eccec5019",
            "15362b0caff049228ae5222aa7082aa5",
            "9edebc7b31034270b04f46ca7a9eceab",
            "a7526688b99344f18c1dafe3e2dfd521",
            "4598d2e622a7470f99db32f841eb9676",
            "5452d3c580df4bdfa2e8d1733da9d36d",
            "a8c01873b21d482b98355fe3610e1abd",
            "2b88f1d4ac1640e49a86f9eb206b423f",
            "2ac973dc096c4e33aae80be44a019e6a",
            "2d1bd946a6714082a9667245304d4b98"
          ]
        },
        "id": "1p6v7N50SqVi",
        "outputId": "af901f9c-6ce6-4946-e888-284026031d4a"
      },
      "outputs": [],
      "source": [
        "def train_MLP(batch_size=32, epochs=10, tracking=False, div_tracking=False, divisor=2):\n",
        "  from torchvision import datasets, transforms\n",
        "  from tqdm.notebook import tqdm, trange\n",
        "\n",
        "  train_loader = torch.utils.data.DataLoader(train_data, batch_size=batch_size, shuffle=True)\n",
        "  test_loader = torch.utils.data.DataLoader(test_data, batch_size=batch_size, shuffle=False)\n",
        "  val_loader = torch.utils.data.DataLoader(test_data, shuffle=False)\n",
        "\n",
        "  ## Training\n",
        "  # Instantiate model  \n",
        "  model = MLP(output1, output2, output3).to(device) \n",
        "\n",
        "  # Loss and Optimizer\n",
        "  base_optimizer = torch.optim.SGD\n",
        "  optimizer = SAM(model.parameters(), base_optimizer,rho=0.05, lr = 0.01, momentum=0.9, weight_decay=0.0005)\n",
        "  # optimizer = SAM(model.parameters(), base_optimizer, lr = 0.01)\n",
        "  criterion = nn.BCEWithLogitsLoss()\n",
        "\n",
        "  training_losses = []\n",
        "  training_accuracies = []\n",
        "  validation_accuracies = []\n",
        "\n",
        "\n",
        "  div_list = []\n",
        "\n",
        "\n",
        "\n",
        "  # Iterate through train set minibatchs \n",
        "  for epoch in trange(epochs):  \n",
        "      per_epoch_loss = 0\n",
        "      correct = 0\n",
        "      for numbers, labels in train_loader:\n",
        "          x = numbers[:,None]\n",
        "          x = x.to(device)\n",
        "          x = encode(x, digits, base).float()\n",
        "          labels = labels.double().to(device)[:,None]\n",
        "          # Zero out the gradients\n",
        "          optimizer.zero_grad()\n",
        "\n",
        "          def closure():\n",
        "            loss = criterion(model(x), labels)\n",
        "            loss.backward()\n",
        "            return loss\n",
        "\n",
        "          # Forward pass\n",
        "          y = model(x)\n",
        "          loss = criterion(y, labels)\n",
        "          if tracking:\n",
        "            # Tracking loss\n",
        "            per_epoch_loss += loss\n",
        "\n",
        "            # Train accuracy tracking\n",
        "            predictions = ((y>0)*1)\n",
        "            correct += torch.sum((predictions == labels).float())\n",
        "\n",
        "            # Validation accuracy tracking\n",
        "\n",
        "\n",
        "          loss.backward()\n",
        "          optimizer.step(closure)\n",
        "      if tracking:\n",
        "        correct_test = 0\n",
        "        with torch.no_grad():\n",
        "                # Iterate through test set minibatchs \n",
        "                for numbers2, labels2 in val_loader:\n",
        "                    numbers2 = numbers2.to(device)\n",
        "                    labels2 = labels2.double().to(device)[:,None]\n",
        "                    # Forward pass\n",
        "                    x2 = numbers2[:,None]\n",
        "                    x2 = encode(x2, digits, base).float()\n",
        "                    y2 = model(x2)\n",
        "                    predictions2 = ((y2>0)*1)[:,0]\n",
        "                    correct_test += torch.sum((predictions2 == labels2).float())\n",
        "\n",
        "        training_losses.append(per_epoch_loss/len(train_loader))\n",
        "        training_accuracies.append(correct/len(train_data))\n",
        "        validation_accuracies.append(correct_test/len(test_data))\n",
        "      if div_tracking:\n",
        "        correct_div = 0\n",
        "        with torch.no_grad():\n",
        "                list_div = [i for i in range(divisor, N, divisor)]\n",
        "                test_div = [(divisor,isPrime(divisor))] + [(number, 0) for number in list_div[1:]]\n",
        "                # Iterate through test set minibatchs \n",
        "                div_loader = torch.utils.data.DataLoader(test_div, shuffle=False)\n",
        "                for numbers3, labels3 in div_loader:\n",
        "                    numbers3 = numbers3.to(device)\n",
        "                    labels3 = labels3.double().to(device)[:,None]\n",
        "                    # Forward pass\n",
        "                    x3 = numbers3[:,None]\n",
        "                    x3 = encode(x3, digits, base).float()\n",
        "                    y3 = model(x3)\n",
        "                    predictions3 = ((y3>0)*1)[:,0]\n",
        "                    correct_div += torch.sum((predictions3 == labels3).float())\n",
        "\n",
        "        div_list.append(1-correct_div/len(test_div))\n",
        "  training_losses = [i.item() for i in training_losses]\n",
        "  training_accuracies = [i.item() for i in training_accuracies]\n",
        "  validation_accuracies = [i.item() for i in validation_accuracies]\n",
        "  div_list = [i.item() for i in div_list]\n",
        "\n",
        "  return model, training_losses, training_accuracies, validation_accuracies, div_list\n"
      ]
    },
    {
      "cell_type": "code",
      "execution_count": 9,
      "metadata": {},
      "outputs": [
        {
          "data": {
            "application/vnd.jupyter.widget-view+json": {
              "model_id": "4d57153e98074a6e9728eb624dc35c4f",
              "version_major": 2,
              "version_minor": 0
            },
            "text/plain": [
              "HBox(children=(FloatProgress(value=0.0, max=10.0), HTML(value='')))"
            ]
          },
          "metadata": {},
          "output_type": "display_data"
        },
        {
          "name": "stderr",
          "output_type": "stream",
          "text": [
            "/Users/zsiga007/Summer_2022/Summer-2022/utils.py:61: UserWarning: __floordiv__ is deprecated, and its behavior will change in a future version of pytorch. It currently rounds toward 0 (like the 'trunc' function NOT 'floor'). This results in incorrect rounding for negative values. To keep the current behavior, use torch.div(a, b, rounding_mode='trunc'), or for actual floor division, use torch.div(a, b, rounding_mode='floor').\n",
            "  batch=torch.nn.functional.one_hot(torch.remainder(batch//t[None, :].to(torch.int64), base), num_classes=base)\n"
          ]
        },
        {
          "name": "stdout",
          "output_type": "stream",
          "text": [
            "\n",
            "[0.0020040273666381836, 0.018036067485809326, 0.008016049861907959, 0.06412827968597412, 0.0020040273666381836, 0.9478957653045654, 0.11222445964813232, 0.014028072357177734, 0.0020040273666381836, 0.0020040273666381836]\n"
          ]
        }
      ],
      "source": [
        "model, training_losses, training_accuracies, validation_accuracies, div_list = train_MLP(batch_size=32, epochs=10, tracking=True, div_tracking=True, divisor=2)\n",
        "print(div_list)"
      ]
    },
    {
      "cell_type": "code",
      "execution_count": 10,
      "metadata": {
        "id": "GC-05i3ojNMG"
      },
      "outputs": [],
      "source": [
        "# ## Testing\n",
        "# correct = 0\n",
        "# total = len(test_data)\n",
        "\n",
        "# with torch.no_grad():\n",
        "#     # Iterate through test set minibatchs \n",
        "#     for numbers, labels in tqdm(test_loader):\n",
        "#         numbers = numbers.to(device)\n",
        "#         labels = labels.to(device)\n",
        "#         # Forward pass\n",
        "#         x = numbers[:,None]\n",
        "#         x = encode(x, digits, base).float()\n",
        "#         y = model(x)\n",
        "#         predictions = ((y>0)*1)[:, 0]\n",
        "#         correct += torch.sum((predictions == labels).float())\n",
        "\n",
        "# print('Test accuracy: {}'.format(correct/total))"
      ]
    },
    {
      "cell_type": "code",
      "execution_count": 11,
      "metadata": {},
      "outputs": [
        {
          "data": {
            "image/png": "[encoded data removed]",
            "text/plain": [
              "<Figure size 1008x432 with 2 Axes>"
            ]
          },
          "metadata": {
            "needs_background": "light"
          },
          "output_type": "display_data"
        }
      ],
      "source": [
        "plt.figure(figsize=(14, 6))\n",
        "plt.subplot(1, 2, 1)\n",
        "plt.plot(training_losses)\n",
        "plt.title('Training loss')\n",
        "plt.xlabel('epoch')\n",
        "plt.ylabel('loss')\n",
        "\n",
        "plt.subplot(1, 2, 2)\n",
        "plt.plot(training_accuracies, label='training')\n",
        "plt.plot(validation_accuracies, color = 'red', label='validation')\n",
        "plt.title('Accuracies')\n",
        "plt.legend(loc='upper left')\n",
        "plt.xlabel('epoch')\n",
        "plt.ylabel('accuracy')\n",
        "plt.show()\n"
      ]
    },
    {
      "cell_type": "code",
      "execution_count": 12,
      "metadata": {},
      "outputs": [
        {
          "data": {
            "application/vnd.jupyter.widget-view+json": {
              "model_id": "38294fbc9d1b42e08ef910773bce8572",
              "version_major": 2,
              "version_minor": 0
            },
            "text/plain": [
              "HBox(children=(FloatProgress(value=0.0), HTML(value='')))"
            ]
          },
          "metadata": {},
          "output_type": "display_data"
        },
        {
          "name": "stdout",
          "output_type": "stream",
          "text": [
            "\n"
          ]
        },
        {
          "data": {
            "application/vnd.jupyter.widget-view+json": {
              "model_id": "105caf09d3274f5585f2a2daf74ac008",
              "version_major": 2,
              "version_minor": 0
            },
            "text/plain": [
              "HBox(children=(FloatProgress(value=0.0), HTML(value='')))"
            ]
          },
          "metadata": {},
          "output_type": "display_data"
        },
        {
          "name": "stdout",
          "output_type": "stream",
          "text": [
            "\n"
          ]
        },
        {
          "data": {
            "application/vnd.jupyter.widget-view+json": {
              "model_id": "c975a4d8d8b84ac08f22729ebc4f9373",
              "version_major": 2,
              "version_minor": 0
            },
            "text/plain": [
              "HBox(children=(FloatProgress(value=0.0), HTML(value='')))"
            ]
          },
          "metadata": {},
          "output_type": "display_data"
        },
        {
          "name": "stdout",
          "output_type": "stream",
          "text": [
            "\n"
          ]
        },
        {
          "data": {
            "application/vnd.jupyter.widget-view+json": {
              "model_id": "e7dc800e8acc4ed983939de1e47fdadd",
              "version_major": 2,
              "version_minor": 0
            },
            "text/plain": [
              "HBox(children=(FloatProgress(value=0.0), HTML(value='')))"
            ]
          },
          "metadata": {},
          "output_type": "display_data"
        },
        {
          "name": "stdout",
          "output_type": "stream",
          "text": [
            "\n"
          ]
        },
        {
          "data": {
            "image/png": "[encoded data removed]",
            "text/plain": [
              "<Figure size 864x432 with 1 Axes>"
            ]
          },
          "metadata": {
            "needs_background": "light"
          },
          "output_type": "display_data"
        }
      ],
      "source": [
        "plt.figure(figsize=(12, 6))\n",
        "plt.title('Mistakes in recognizing prime multiples')\n",
        "plt.xlabel(\"epoch\")\n",
        "plt.ylabel(\"incorrect fraction\")\n",
        "for prime in primes_upto(10):\n",
        "    _, _, _, _, div_list = train_MLP(batch_size=32, epochs=100, tracking=False, div_tracking=True, divisor=prime)\n",
        "    plt.plot(div_list, label=f\"multiples of {prime}\")\n",
        "plt.legend(loc=\"upper right\")\n",
        "plt.show()"
      ]
    },
    {
      "cell_type": "code",
      "execution_count": 13,
      "metadata": {
        "colab": {
          "base_uri": "https://localhost:8080/",
          "height": 460
        },
        "id": "WmSc91_qSqH_",
        "outputId": "8d8527fe-57b6-4ebf-9d4d-495509ab2aad"
      },
      "outputs": [
        {
          "data": {
            "image/png": "[encoded data removed]",
            "text/plain": [
              "<Figure size 1152x432 with 2 Axes>"
            ]
          },
          "metadata": {
            "needs_background": "light"
          },
          "output_type": "display_data"
        }
      ],
      "source": [
        "preds = [float(model(encode(torch.tensor([[i]]), digits, base).float())) for i in range(1,N+1)]\n",
        "\n",
        "plt.figure(figsize=(16, 6))\n",
        "plt.subplot(1, 2, 1)\n",
        "plt.plot(range(1, N+1)[1:100:2], preds[1:100:2], 'o', markersize = 2, label=\"even\")\n",
        "plt.plot(range(1, N+1)[0:100:2], preds[0:100:2], 'ro', markersize = 2, label=\"odd\")\n",
        "#plt.ylim([-100, 100])\n",
        "plt.plot(np.linspace(0, 100, 10000), np.zeros(10000), color='black')\n",
        "plt.xlabel('Number')\n",
        "plt.ylabel('Model outputs')\n",
        "plt.title('Showing divisibility by 2')\n",
        "plt.legend(loc='lower right')\n",
        "\n",
        "plt.subplot(1, 2, 2)\n",
        "# plt.plot(range(1, N+1)[1:100:3], preds[1:100:3], 'ro', markersize = 2, label=\"0 mod 3\")\n",
        "plt.plot(range(1, N+1)[0:100:5], preds[0:100:5], 'go', markersize = 2, label=\"1 mod 5\")\n",
        "plt.plot(range(1, N+1)[1:100:5], preds[1:100:5], 'o', markersize = 2, label=\"2 mod 5\")\n",
        "plt.plot(range(1, N+1)[2:100:5], preds[2:100:5], 'ro', markersize = 2, label=\"3 mod 5\")\n",
        "plt.plot(range(1, N+1)[3:100:5], preds[3:100:5], 'o', markersize = 2, label=\"4 mod 5\")\n",
        "plt.plot(range(1, N+1)[4:100:5], preds[4:100:5], 'bo', markersize = 2, label=\"0 mod 5\")\n",
        "plt.ylim([-100, 100])\n",
        "plt.plot(np.linspace(0, 100, 10000), np.zeros(10000), color='black')\n",
        "plt.xlabel('Number')\n",
        "plt.ylabel('Model outputs')\n",
        "plt.title('Showing divisibility by 5')\n",
        "plt.legend(loc='lower right')\n",
        "plt.show()\n",
        "\n"
      ]
    },
    {
      "cell_type": "code",
      "execution_count": 14,
      "metadata": {
        "colab": {
          "base_uri": "https://localhost:8080/"
        },
        "id": "gdD12E7kFjuV",
        "outputId": "00ff8949-23f3-4f4a-ac39-0c801d90a855"
      },
      "outputs": [
        {
          "name": "stdout",
          "output_type": "stream",
          "text": [
            "[5, 15, 25, 35, 45, 55, 65, 75, 85, 89, 95, 105, 115, 125, 129, 135, 145, 155, 159, 165]\n",
            "[[1], [9, 3, 3], [21, 3, 7.0], [27, 3, 3, 3], [33, 3, 11.0], [39, 3, 13.0], [49, 7, 7], [51, 3, 17.0], [57, 3, 19.0], [63, 3, 3, 7], [69, 3, 23.0], [77, 7, 11.0], [81, 3, 3, 3, 3], [87, 3, 29.0], [91, 7, 13.0], [93, 3, 31.0], [99, 3, 3, 11.0], [111, 3, 37.0], [117, 3, 3, 13.0], [119, 7, 17.0], [121, 11, 11], [123, 3, 41.0], [133, 7, 19.0], [141, 3, 47.0], [143, 11, 13.0], [147, 3, 7, 7], [153, 3, 3, 17.0], [161, 7, 23.0], [171, 3, 3, 19.0], [177, 3, 59.0], [183, 3, 61.0], [187, 11, 17.0], [201, 3, 67.0], [203, 7, 29.0], [207, 3, 3, 23.0], [209, 11, 19.0], [213, 3, 71.0], [217, 7, 31.0], [231, 3, 7, 11], [237, 3, 79.0], [243, 3, 3, 3, 3, 3], [247, 13, 19.0], [253, 11, 23.0], [267, 3, 89.0], [273, 3, 7, 13], [297, 3, 3, 3, 11], [301, 7, 43.0], [303, 3, 101.0], [309, 3, 103.0], [323, 17, 19.0], [327, 3, 109.0], [333, 3, 3, 37.0], [341, 11, 31.0], [343, 7, 7, 7], [357, 3, 7, 17], [363, 3, 11, 11], [371, 7, 53.0], [377, 13, 29.0], [387, 3, 3, 43.0], [393, 3, 131.0], [403, 13, 31.0], [407, 11, 37.0], [411, 3, 137.0], [413, 7, 59.0], [417, 3, 139.0], [423, 3, 3, 47.0], [427, 7, 61.0], [437, 19, 23.0], [441, 3, 3, 7, 7], [447, 3, 149.0], [453, 3, 151.0], [471, 3, 157.0], [473, 11, 43.0], [477, 3, 3, 53.0], [493, 17, 29.0], [497, 7, 71.0], [501, 3, 167.0], [507, 3, 13, 13], [513, 3, 3, 3, 19], [517, 11, 47.0], [533, 13, 41.0], [537, 3, 179.0], [543, 3, 181.0], [573, 3, 191.0], [597, 3, 199.0], [603, 3, 3, 67.0], [609, 3, 7, 29.0], [611, 13, 47.0], [623, 7, 89.0], [627, 3, 11, 19], [633, 3, 211.0], [637, 7, 7, 13], [657, 3, 3, 73.0], [663, 3, 13, 17], [667, 23, 29.0], [671, 11, 61.0], [679, 7, 97.0], [687, 3, 229.0], [693, 3, 3, 7, 11], [697, 17, 41.0], [703, 19, 37.0], [707, 7, 101.0], [713, 23, 31.0], [717, 3, 239.0], [737, 11, 67.0], [747, 3, 3, 83.0], [777, 3, 7, 37.0], [801, 3, 3, 89.0], [803, 11, 73.0], [807, 3, 269.0], [813, 3, 271.0], [817, 19, 43.0], [833, 7, 7, 17], [837, 3, 3, 3, 31.0], [847, 7, 11, 11], [873, 3, 3, 97.0], [897, 3, 13, 23], [901, 17, 53.0], [903, 3, 7, 43.0], [917, 7, 131.0], [933, 3, 311.0], [973, 7, 139.0]]\n",
            "[2, 5, 89, 181, 211, 223, 229, 239, 241, 251, 269, 281, 283, 349, 359, 383, 389, 419, 421, 449, 461, 499, 509, 521, 523, 541, 563, 569, 571, 587, 593, 599, 619, 659, 661, 683, 691, 709, 719, 727, 739, 751, 761, 769, 787, 809, 811, 821, 823, 827, 829, 839, 853, 857, 859, 863, 881, 883, 887, 911, 919, 929, 941, 953, 967, 971, 983, 991]\n"
          ]
        }
      ],
      "source": [
        "print([index+1 for index, i in enumerate(preds) if i<0 if index%2==0][:20])\n",
        "print([[index+1]+primeFactors(index+1) for index, i in enumerate(preds) if i > 0 if not isPrime(index+1)])\n",
        "print([index+1 for index, i in enumerate(preds) if i < 0 if isPrime(index+1)])"
      ]
    },
    {
      "cell_type": "code",
      "execution_count": 18,
      "metadata": {
        "colab": {
          "base_uri": "https://localhost:8080/"
        },
        "id": "XCT9LpAYIfxi",
        "outputId": "360d9365-19b6-421c-c730-b4d747d70e46"
      },
      "outputs": [
        {
          "name": "stderr",
          "output_type": "stream",
          "text": [
            "/Users/zsiga007/Summer_2022/Summer-2022/utils.py:61: UserWarning: __floordiv__ is deprecated, and its behavior will change in a future version of pytorch. It currently rounds toward 0 (like the 'trunc' function NOT 'floor'). This results in incorrect rounding for negative values. To keep the current behavior, use torch.div(a, b, rounding_mode='trunc'), or for actual floor division, use torch.div(a, b, rounding_mode='floor').\n",
            "  batch=torch.nn.functional.one_hot(torch.remainder(batch//t[None, :].to(torch.int64), base), num_classes=base)\n"
          ]
        },
        {
          "data": {
            "text/plain": [
              "tensor([[0.3199]], grad_fn=<AddmmBackward0>)"
            ]
          },
          "execution_count": 18,
          "metadata": {},
          "output_type": "execute_result"
        }
      ],
      "source": [
        "x = torch.tensor([[77]])\n",
        "\n",
        "x = encode(x, digits, base).float()\n",
        "model(x)"
      ]
    },
    {
      "cell_type": "code",
      "execution_count": null,
      "metadata": {
        "id": "Tn7ZQUIkW40N"
      },
      "outputs": [],
      "source": []
    }
  ],
  "metadata": {
    "colab": {
      "collapsed_sections": [],
      "name": "Primes_SAM.ipynb",
      "provenance": []
    },
    "kernelspec": {
      "display_name": "Python 3.8.3 ('base')",
      "language": "python",
      "name": "python3"
    },
    "language_info": {
      "codemirror_mode": {
        "name": "ipython",
        "version": 3
      },
      "file_extension": ".py",
      "mimetype": "text/x-python",
      "name": "python",
      "nbconvert_exporter": "python",
      "pygments_lexer": "ipython3",
      "version": "3.8.3"
    },
    "vscode": {
      "interpreter": {
        "hash": "cd78fef2128015050713e82ca51c6520b11aee7c9ee8df750520bbbc7384cbaa"
      }
    },
    "widgets": {
      "application/vnd.jupyter.widget-state+json": {
        "15362b0caff049228ae5222aa7082aa5": {
          "model_module": "@jupyter-widgets/controls",
          "model_module_version": "1.5.0",
          "model_name": "FloatProgressModel",
          "state": {
            "_dom_classes": [],
            "_model_module": "@jupyter-widgets/controls",
            "_model_module_version": "1.5.0",
            "_model_name": "FloatProgressModel",
            "_view_count": null,
            "_view_module": "@jupyter-widgets/controls",
            "_view_module_version": "1.5.0",
            "_view_name": "ProgressView",
            "bar_style": "",
            "description": "",
            "description_tooltip": null,
            "layout": "IPY_MODEL_a8c01873b21d482b98355fe3610e1abd",
            "max": 5000,
            "min": 0,
            "orientation": "horizontal",
            "style": "IPY_MODEL_2b88f1d4ac1640e49a86f9eb206b423f",
            "value": 1714
          }
        },
        "2ac973dc096c4e33aae80be44a019e6a": {
          "model_module": "@jupyter-widgets/base",
          "model_module_version": "1.2.0",
          "model_name": "LayoutModel",
          "state": {
            "_model_module": "@jupyter-widgets/base",
            "_model_module_version": "1.2.0",
            "_model_name": "LayoutModel",
            "_view_count": null,
            "_view_module": "@jupyter-widgets/base",
            "_view_module_version": "1.2.0",
            "_view_name": "LayoutView",
            "align_content": null,
            "align_items": null,
            "align_self": null,
            "border": null,
            "bottom": null,
            "display": null,
            "flex": null,
            "flex_flow": null,
            "grid_area": null,
            "grid_auto_columns": null,
            "grid_auto_flow": null,
            "grid_auto_rows": null,
            "grid_column": null,
            "grid_gap": null,
            "grid_row": null,
            "grid_template_areas": null,
            "grid_template_columns": null,
            "grid_template_rows": null,
            "height": null,
            "justify_content": null,
            "justify_items": null,
            "left": null,
            "margin": null,
            "max_height": null,
            "max_width": null,
            "min_height": null,
            "min_width": null,
            "object_fit": null,
            "object_position": null,
            "order": null,
            "overflow": null,
            "overflow_x": null,
            "overflow_y": null,
            "padding": null,
            "right": null,
            "top": null,
            "visibility": null,
            "width": null
          }
        },
        "2b88f1d4ac1640e49a86f9eb206b423f": {
          "model_module": "@jupyter-widgets/controls",
          "model_module_version": "1.5.0",
          "model_name": "ProgressStyleModel",
          "state": {
            "_model_module": "@jupyter-widgets/controls",
            "_model_module_version": "1.5.0",
            "_model_name": "ProgressStyleModel",
            "_view_count": null,
            "_view_module": "@jupyter-widgets/base",
            "_view_module_version": "1.2.0",
            "_view_name": "StyleView",
            "bar_color": null,
            "description_width": ""
          }
        },
        "2d1bd946a6714082a9667245304d4b98": {
          "model_module": "@jupyter-widgets/controls",
          "model_module_version": "1.5.0",
          "model_name": "DescriptionStyleModel",
          "state": {
            "_model_module": "@jupyter-widgets/controls",
            "_model_module_version": "1.5.0",
            "_model_name": "DescriptionStyleModel",
            "_view_count": null,
            "_view_module": "@jupyter-widgets/base",
            "_view_module_version": "1.2.0",
            "_view_name": "StyleView",
            "description_width": ""
          }
        },
        "4598d2e622a7470f99db32f841eb9676": {
          "model_module": "@jupyter-widgets/base",
          "model_module_version": "1.2.0",
          "model_name": "LayoutModel",
          "state": {
            "_model_module": "@jupyter-widgets/base",
            "_model_module_version": "1.2.0",
            "_model_name": "LayoutModel",
            "_view_count": null,
            "_view_module": "@jupyter-widgets/base",
            "_view_module_version": "1.2.0",
            "_view_name": "LayoutView",
            "align_content": null,
            "align_items": null,
            "align_self": null,
            "border": null,
            "bottom": null,
            "display": null,
            "flex": null,
            "flex_flow": null,
            "grid_area": null,
            "grid_auto_columns": null,
            "grid_auto_flow": null,
            "grid_auto_rows": null,
            "grid_column": null,
            "grid_gap": null,
            "grid_row": null,
            "grid_template_areas": null,
            "grid_template_columns": null,
            "grid_template_rows": null,
            "height": null,
            "justify_content": null,
            "justify_items": null,
            "left": null,
            "margin": null,
            "max_height": null,
            "max_width": null,
            "min_height": null,
            "min_width": null,
            "object_fit": null,
            "object_position": null,
            "order": null,
            "overflow": null,
            "overflow_x": null,
            "overflow_y": null,
            "padding": null,
            "right": null,
            "top": null,
            "visibility": null,
            "width": null
          }
        },
        "4d1ba3d1456f4366a154711eccec5019": {
          "model_module": "@jupyter-widgets/controls",
          "model_module_version": "1.5.0",
          "model_name": "HTMLModel",
          "state": {
            "_dom_classes": [],
            "_model_module": "@jupyter-widgets/controls",
            "_model_module_version": "1.5.0",
            "_model_name": "HTMLModel",
            "_view_count": null,
            "_view_module": "@jupyter-widgets/controls",
            "_view_module_version": "1.5.0",
            "_view_name": "HTMLView",
            "description": "",
            "description_tooltip": null,
            "layout": "IPY_MODEL_4598d2e622a7470f99db32f841eb9676",
            "placeholder": "​",
            "style": "IPY_MODEL_5452d3c580df4bdfa2e8d1733da9d36d",
            "value": " 34%"
          }
        },
        "5452d3c580df4bdfa2e8d1733da9d36d": {
          "model_module": "@jupyter-widgets/controls",
          "model_module_version": "1.5.0",
          "model_name": "DescriptionStyleModel",
          "state": {
            "_model_module": "@jupyter-widgets/controls",
            "_model_module_version": "1.5.0",
            "_model_name": "DescriptionStyleModel",
            "_view_count": null,
            "_view_module": "@jupyter-widgets/base",
            "_view_module_version": "1.2.0",
            "_view_name": "StyleView",
            "description_width": ""
          }
        },
        "9edebc7b31034270b04f46ca7a9eceab": {
          "model_module": "@jupyter-widgets/controls",
          "model_module_version": "1.5.0",
          "model_name": "HTMLModel",
          "state": {
            "_dom_classes": [],
            "_model_module": "@jupyter-widgets/controls",
            "_model_module_version": "1.5.0",
            "_model_name": "HTMLModel",
            "_view_count": null,
            "_view_module": "@jupyter-widgets/controls",
            "_view_module_version": "1.5.0",
            "_view_name": "HTMLView",
            "description": "",
            "description_tooltip": null,
            "layout": "IPY_MODEL_2ac973dc096c4e33aae80be44a019e6a",
            "placeholder": "​",
            "style": "IPY_MODEL_2d1bd946a6714082a9667245304d4b98",
            "value": " 1714/5000 [01:09&lt;02:11, 25.07it/s]"
          }
        },
        "a7526688b99344f18c1dafe3e2dfd521": {
          "model_module": "@jupyter-widgets/base",
          "model_module_version": "1.2.0",
          "model_name": "LayoutModel",
          "state": {
            "_model_module": "@jupyter-widgets/base",
            "_model_module_version": "1.2.0",
            "_model_name": "LayoutModel",
            "_view_count": null,
            "_view_module": "@jupyter-widgets/base",
            "_view_module_version": "1.2.0",
            "_view_name": "LayoutView",
            "align_content": null,
            "align_items": null,
            "align_self": null,
            "border": null,
            "bottom": null,
            "display": null,
            "flex": null,
            "flex_flow": null,
            "grid_area": null,
            "grid_auto_columns": null,
            "grid_auto_flow": null,
            "grid_auto_rows": null,
            "grid_column": null,
            "grid_gap": null,
            "grid_row": null,
            "grid_template_areas": null,
            "grid_template_columns": null,
            "grid_template_rows": null,
            "height": null,
            "justify_content": null,
            "justify_items": null,
            "left": null,
            "margin": null,
            "max_height": null,
            "max_width": null,
            "min_height": null,
            "min_width": null,
            "object_fit": null,
            "object_position": null,
            "order": null,
            "overflow": null,
            "overflow_x": null,
            "overflow_y": null,
            "padding": null,
            "right": null,
            "top": null,
            "visibility": null,
            "width": null
          }
        },
        "a8c01873b21d482b98355fe3610e1abd": {
          "model_module": "@jupyter-widgets/base",
          "model_module_version": "1.2.0",
          "model_name": "LayoutModel",
          "state": {
            "_model_module": "@jupyter-widgets/base",
            "_model_module_version": "1.2.0",
            "_model_name": "LayoutModel",
            "_view_count": null,
            "_view_module": "@jupyter-widgets/base",
            "_view_module_version": "1.2.0",
            "_view_name": "LayoutView",
            "align_content": null,
            "align_items": null,
            "align_self": null,
            "border": null,
            "bottom": null,
            "display": null,
            "flex": null,
            "flex_flow": null,
            "grid_area": null,
            "grid_auto_columns": null,
            "grid_auto_flow": null,
            "grid_auto_rows": null,
            "grid_column": null,
            "grid_gap": null,
            "grid_row": null,
            "grid_template_areas": null,
            "grid_template_columns": null,
            "grid_template_rows": null,
            "height": null,
            "justify_content": null,
            "justify_items": null,
            "left": null,
            "margin": null,
            "max_height": null,
            "max_width": null,
            "min_height": null,
            "min_width": null,
            "object_fit": null,
            "object_position": null,
            "order": null,
            "overflow": null,
            "overflow_x": null,
            "overflow_y": null,
            "padding": null,
            "right": null,
            "top": null,
            "visibility": null,
            "width": null
          }
        },
        "fae037db33204fb79bfc9bccceda876e": {
          "model_module": "@jupyter-widgets/controls",
          "model_module_version": "1.5.0",
          "model_name": "HBoxModel",
          "state": {
            "_dom_classes": [],
            "_model_module": "@jupyter-widgets/controls",
            "_model_module_version": "1.5.0",
            "_model_name": "HBoxModel",
            "_view_count": null,
            "_view_module": "@jupyter-widgets/controls",
            "_view_module_version": "1.5.0",
            "_view_name": "HBoxView",
            "box_style": "",
            "children": [
              "IPY_MODEL_4d1ba3d1456f4366a154711eccec5019",
              "IPY_MODEL_15362b0caff049228ae5222aa7082aa5",
              "IPY_MODEL_9edebc7b31034270b04f46ca7a9eceab"
            ],
            "layout": "IPY_MODEL_a7526688b99344f18c1dafe3e2dfd521"
          }
        }
      }
    }
  },
  "nbformat": 4,
  "nbformat_minor": 0
}
