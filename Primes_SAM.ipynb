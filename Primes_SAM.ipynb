{
  "cells": [
    {
      "cell_type": "code",
<<<<<<< HEAD
      "execution_count": 1,
      "metadata": {
        "colab": {
          "base_uri": "https://localhost:8080/"
        },
        "id": "Av_RC_2ADIy8",
        "outputId": "7726224b-e356-4664-a60d-e7777ba7be22"
      },
      "outputs": [
        {
          "name": "stderr",
          "output_type": "stream",
          "text": [
            "Cloning into 'sam'...\n"
          ]
        }
      ],
      "source": [
        "!git clone https://github.com/davda54/sam\n"
      ]
    },
    {
      "cell_type": "code",
      "execution_count": 2,
=======
      "execution_count": 31,
>>>>>>> 10a1f80 (utils.py)
      "metadata": {
        "id": "Q5w7ocn8DLsf"
      },
      "outputs": [],
      "source": [
        "import sys; sys.path.append(\"..\")\n",
        "\n",
        "sys.path.append(\"sam\")\n",
        "from sam import SAM"
      ]
    },
    {
      "cell_type": "code",
<<<<<<< HEAD
      "execution_count": 5,
=======
      "execution_count": 32,
>>>>>>> 10a1f80 (utils.py)
      "metadata": {
        "id": "Y4Vcf17gzE9m"
      },
      "outputs": [],
      "source": [
        "import numpy as np\n",
        "import random\n",
        "import torch\n",
        "import torch.nn as nn\n",
        "import torch.nn.functional as F\n",
        "from torchvision import datasets, transforms\n",
        "from tqdm.notebook import tqdm\n",
        "import matplotlib.pyplot as plt\n",
        "from utils import *\n",
        "\n",
        "device = \"cuda\" if torch.cuda.is_available() else \"cpu\""
      ]
    },
    {
      "cell_type": "code",
<<<<<<< HEAD
      "execution_count": 6,
      "metadata": {
        "id": "wQaVvb5rxDer"
      },
      "outputs": [],
      "source": [
        " # prime generating functions\n",
        "\n",
        "# Python program to print prime factors\n",
        " \n",
        "import math\n",
        " \n",
        "# A function to print all prime factors of\n",
        "# a given number n\n",
        "def primeFactors(n):\n",
        "    fact_array = []\n",
        "    # Print the number of two's that divide n\n",
        "    while n % 2 == 0:\n",
        "        fact_array.append(2)\n",
        "        n = n / 2\n",
        "         \n",
        "    # n must be odd at this point\n",
        "    # so a skip of 2 ( i = i + 2) can be used\n",
        "    for i in range(3,int(math.sqrt(n))+1,2):\n",
        "         \n",
        "        # while i divides n , print i and divide n\n",
        "        while n % i== 0:\n",
        "            fact_array.append(i)\n",
        "            n = n / i\n",
        "             \n",
        "    # Condition if n is a prime\n",
        "    # number greater than 2\n",
        "    if n > 2:\n",
        "        fact_array.append(n)\n",
        "    return fact_array\n",
        "\n",
        "\n",
        "def isPrime(n):\n",
        "  fact_array = primeFactors(n)\n",
        "  if len(fact_array) == 1:\n",
        "    return True\n",
        "  return False\n",
        "\n",
        "\n",
        "#primes up to \n",
        "def primes_upto(limit):\n",
        "    prime = [True] * limit\n",
        "    for n in range(2, limit):\n",
        "        if prime[n]:\n",
        "            yield n # n is a prime\n",
        "            for c in range(n*n, limit, n):\n",
        "                prime[c] = False # mark composites\n"
      ]
    },
    {
      "cell_type": "code",
      "execution_count": 7,
      "metadata": {
        "id": "ROSPoAsFTHrr"
      },
      "outputs": [],
      "source": [
        "# encoding algorithm\n",
        "def encode(batch, digits, base):\n",
        "  s=batch.size(dim=0)\n",
        "  t=base**torch.arange(digits-1,-1,-1).to(torch.int64)\n",
        "  batch=torch.nn.functional.one_hot(torch.remainder(batch//t[None, :].to(torch.int64), base), num_classes=base)\n",
        "  batch=torch.reshape(batch, (s, digits*base))\n",
        "  return(batch)\n",
        "\n",
        "def decode(batch, digits, syst):\n",
        "  batch=(torch.argmax(batch, dim=2)@t)[:, None]\n",
        "  return(batch)"
      ]
    },
    {
      "cell_type": "code",
      "execution_count": 8,
=======
      "execution_count": 33,
>>>>>>> 10a1f80 (utils.py)
      "metadata": {
        "id": "RwO6nR1FzkC4"
      },
      "outputs": [],
      "source": [
        "np.random.seed(seed=1372022)\n",
        "N=999\n",
        "base = 10\n",
        "digits = base*(math.floor(np.log(N)/np.log(base))+1)\n",
        "\n",
        "train_primes = list(primes_upto(N+1))\n",
        "#train_composites = [i for i in range(1000) if i not in train_primes]\n",
        "all_data = []\n",
        "for k in range(N//len(train_primes)):\n",
        "    all_data += [tuple((i, 1)) for i in range(1,N+1) if i in train_primes]\n",
        "all_data += [tuple((i, 0)) for i in range(1,N+1) if i not in train_primes]\n",
        "\n",
        "# all_data = [tuple((i, 1)) for i in range(1,N+1) if i in train_primes] + [tuple((i, 0)) for i in range(1,N+1) if i not in train_primes if np.random.uniform(0, 1)<len(train_primes)/N]\n",
        "\n",
        "np.random.shuffle(all_data)\n",
        "\n",
        "train_data = all_data[: math.floor(len(all_data)*0.8)]\n",
        "test_data = set(all_data[math.floor(len(all_data)*0.8):])\n",
        "test_data.difference(set(train_data))\n",
        "test_data = list(test_data)"
      ]
    },
    {
      "cell_type": "code",
<<<<<<< HEAD
      "execution_count": 9,
=======
      "execution_count": 34,
>>>>>>> 10a1f80 (utils.py)
      "metadata": {
        "colab": {
          "base_uri": "https://localhost:8080/"
        },
        "id": "IjfS7gWIWY5o",
        "outputId": "484541c5-604d-485a-ca83-eecbfc796cba"
      },
      "outputs": [
        {
          "name": "stdout",
          "output_type": "stream",
          "text": [
            "840 831\n",
            "[(593, 1), (932, 0), (229, 1), (772, 0), (835, 0), (461, 1), (214, 0), (643, 1), (822, 0), (563, 1), (39, 0), (839, 1), (947, 1), (727, 1), (522, 0), (389, 1), (181, 1), (36, 0), (991, 1), (353, 1)]\n",
            "1336\n",
            "275\n"
          ]
        }
      ],
      "source": [
        "counter_primes = 0\n",
        "counter = 0\n",
        "for i in all_data:\n",
        "    if i[1]:\n",
        "        counter_primes += 1\n",
        "    else:\n",
        "        counter += 1\n",
        "print(counter_primes, counter)\n",
        "\n",
        "print(train_data[:20])\n",
        "print(len(train_data))\n",
        "print(len(test_data))"
      ]
    },
    {
      "cell_type": "code",
<<<<<<< HEAD
      "execution_count": 10,
=======
      "execution_count": 35,
>>>>>>> 10a1f80 (utils.py)
      "metadata": {
        "id": "S4AFjiz44uXK"
      },
      "outputs": [],
      "source": [
        "#model\n",
        "input = base*digits\n",
        "output1 = 64\n",
        "output2 = 128\n",
        "output3 = 64\n",
        "class MLP(nn.Module):\n",
        "    def __init__(self,output1,output2, output3):\n",
        "        super().__init__()\n",
        "        self.step1 = nn.Linear(input, output1)\n",
        "        self.step2 = nn.Linear(output1, output2)\n",
        "        self.step3 = nn.Linear(output2, 1)\n",
        "\n",
        "    def forward(self, x):\n",
        "        \n",
        "        x = self.step1(x)\n",
        "        x = F.relu(x)\n",
        "        x = self.step2(x)\n",
        "        x = F.relu(x)\n",
        "        #x = self.step3(x)\n",
        "        #x = F.relu(x)\n",
        "        x = self.step3(x)\n",
        "\n",
        "        return x"
      ]
    },
    {
      "cell_type": "code",
<<<<<<< HEAD
      "execution_count": 11,
=======
      "execution_count": 36,
>>>>>>> 10a1f80 (utils.py)
      "metadata": {
        "colab": {
          "base_uri": "https://localhost:8080/",
          "height": 105,
          "referenced_widgets": [
            "fae037db33204fb79bfc9bccceda876e",
            "4d1ba3d1456f4366a154711eccec5019",
            "15362b0caff049228ae5222aa7082aa5",
            "9edebc7b31034270b04f46ca7a9eceab",
            "a7526688b99344f18c1dafe3e2dfd521",
            "4598d2e622a7470f99db32f841eb9676",
            "5452d3c580df4bdfa2e8d1733da9d36d",
            "a8c01873b21d482b98355fe3610e1abd",
            "2b88f1d4ac1640e49a86f9eb206b423f",
            "2ac973dc096c4e33aae80be44a019e6a",
            "2d1bd946a6714082a9667245304d4b98"
          ]
        },
        "id": "1p6v7N50SqVi",
        "outputId": "af901f9c-6ce6-4946-e888-284026031d4a"
      },
      "outputs": [],
      "source": [
        "def train_MLP(batch_size=32, epochs=10, tracking=False, div_tracking=False, divisor=2):\n",
        "  from torchvision import datasets, transforms\n",
        "  from tqdm.notebook import tqdm, trange\n",
        "\n",
        "  train_loader = torch.utils.data.DataLoader(train_data, batch_size=batch_size, shuffle=True)\n",
        "  test_loader = torch.utils.data.DataLoader(test_data, batch_size=batch_size, shuffle=False)\n",
        "  val_loader = torch.utils.data.DataLoader(test_data, shuffle=False)\n",
        "\n",
        "  ## Training\n",
        "  # Instantiate model  \n",
        "  model = MLP(output1, output2, output3).to(device) \n",
        "\n",
        "  # Loss and Optimizer\n",
        "  base_optimizer = torch.optim.SGD\n",
        "  optimizer = SAM(model.parameters(), base_optimizer,rho=0.05, lr = 0.01, momentum=0.9, weight_decay=0.0005)\n",
        "  # optimizer = SAM(model.parameters(), base_optimizer, lr = 0.01)\n",
        "  criterion = nn.BCEWithLogitsLoss()\n",
        "\n",
        "  training_losses = []\n",
        "  training_accuracies = []\n",
        "  validation_accuracies = []\n",
        "\n",
        "\n",
        "  div_list = []\n",
        "\n",
        "\n",
        "\n",
        "  # Iterate through train set minibatchs \n",
        "  for epoch in trange(epochs):  \n",
        "      per_epoch_loss = 0\n",
        "      correct = 0\n",
        "      for numbers, labels in train_loader:\n",
        "          x = numbers[:,None]\n",
        "          x = x.to(device)\n",
        "          x = encode(x, digits, base).float()\n",
        "          labels = labels.double().to(device)[:,None]\n",
        "          # Zero out the gradients\n",
        "          optimizer.zero_grad()\n",
        "\n",
        "          def closure():\n",
        "            loss = criterion(model(x), labels)\n",
        "            loss.backward()\n",
        "            return loss\n",
        "\n",
        "          # Forward pass\n",
        "          y = model(x)\n",
        "          loss = criterion(y, labels)\n",
        "          if tracking:\n",
        "            # Tracking loss\n",
        "            per_epoch_loss += loss\n",
        "\n",
        "            # Train accuracy tracking\n",
        "            predictions = ((y>0)*1)\n",
        "            correct += torch.sum((predictions == labels).float())\n",
        "\n",
        "            # Validation accuracy tracking\n",
        "\n",
        "\n",
        "          loss.backward()\n",
        "          optimizer.step(closure)\n",
        "      if tracking:\n",
        "        correct_test = 0\n",
        "        with torch.no_grad():\n",
        "                # Iterate through test set minibatchs \n",
        "                for numbers2, labels2 in val_loader:\n",
        "                    numbers2 = numbers2.to(device)\n",
        "                    labels2 = labels2.double().to(device)[:,None]\n",
        "                    # Forward pass\n",
        "                    x2 = numbers2[:,None]\n",
        "                    x2 = encode(x2, digits, base).float()\n",
        "                    y2 = model(x2)\n",
        "                    predictions2 = ((y2>0)*1)[:,0]\n",
        "                    correct_test += torch.sum((predictions2 == labels2).float())\n",
        "\n",
        "        training_losses.append(per_epoch_loss/len(train_loader))\n",
        "        training_accuracies.append(correct/len(train_data))\n",
        "        validation_accuracies.append(correct_test/len(test_data))\n",
        "      if div_tracking:\n",
        "        correct_div = 0\n",
        "        with torch.no_grad():\n",
        "                list_div = [i for i in range(divisor, N, divisor)]\n",
        "                test_div = [(divisor,isPrime(divisor))] + [(number, 0) for number in list_div[1:]]\n",
        "                # Iterate through test set minibatchs \n",
        "                div_loader = torch.utils.data.DataLoader(test_div, shuffle=False)\n",
        "                for numbers3, labels3 in div_loader:\n",
        "                    numbers3 = numbers3.to(device)\n",
        "                    labels3 = labels3.double().to(device)[:,None]\n",
        "                    # Forward pass\n",
        "                    x3 = numbers3[:,None]\n",
        "                    x3 = encode(x3, digits, base).float()\n",
        "                    y3 = model(x3)\n",
        "                    predictions3 = ((y3>0)*1)[:,0]\n",
        "                    correct_div += torch.sum((predictions3 == labels3).float())\n",
        "\n",
        "        div_list.append(1-correct_div/len(test_div))\n",
        "  training_losses = [i.item() for i in training_losses]\n",
        "  training_accuracies = [i.item() for i in training_accuracies]\n",
        "  validation_accuracies = [i.item() for i in validation_accuracies]\n",
        "  div_list = [i.item() for i in div_list]\n",
        "\n",
        "  return model, training_losses, training_accuracies, validation_accuracies, div_list\n"
      ]
    },
    {
      "cell_type": "code",
<<<<<<< HEAD
      "execution_count": 15,
      "metadata": {},
      "outputs": [
        {
          "ename": "ImportError",
          "evalue": "IProgress not found. Please update jupyter and ipywidgets. See https://ipywidgets.readthedocs.io/en/stable/user_install.html",
          "output_type": "error",
          "traceback": [
            "\u001b[1;31m---------------------------------------------------------------------------\u001b[0m",
            "\u001b[1;31mImportError\u001b[0m                               Traceback (most recent call last)",
            "\u001b[1;32mc:\\Users\\szilv\\OneDrive\\Dokumentumok\\summer_2022\\Summer-2022\\Primes_SAM.ipynb Cell 10\u001b[0m in \u001b[0;36m<cell line: 1>\u001b[1;34m()\u001b[0m\n\u001b[1;32m----> <a href='vscode-notebook-cell:/c%3A/Users/szilv/OneDrive/Dokumentumok/summer_2022/Summer-2022/Primes_SAM.ipynb#ch0000009?line=0'>1</a>\u001b[0m model, training_losses, training_accuracies, validation_accuracies, div_list \u001b[39m=\u001b[39m train_MLP(batch_size\u001b[39m=\u001b[39;49m\u001b[39m32\u001b[39;49m, epochs\u001b[39m=\u001b[39;49m\u001b[39m10\u001b[39;49m, tracking\u001b[39m=\u001b[39;49m\u001b[39mTrue\u001b[39;49;00m, div_tracking\u001b[39m=\u001b[39;49m\u001b[39mTrue\u001b[39;49;00m, divisor\u001b[39m=\u001b[39;49m\u001b[39m2\u001b[39;49m)\n\u001b[0;32m      <a href='vscode-notebook-cell:/c%3A/Users/szilv/OneDrive/Dokumentumok/summer_2022/Summer-2022/Primes_SAM.ipynb#ch0000009?line=1'>2</a>\u001b[0m \u001b[39mprint\u001b[39m(div_list[:\u001b[39m10\u001b[39m])\n",
            "\u001b[1;32mc:\\Users\\szilv\\OneDrive\\Dokumentumok\\summer_2022\\Summer-2022\\Primes_SAM.ipynb Cell 10\u001b[0m in \u001b[0;36mtrain_MLP\u001b[1;34m(batch_size, epochs, tracking, div_tracking, divisor)\u001b[0m\n\u001b[0;32m     <a href='vscode-notebook-cell:/c%3A/Users/szilv/OneDrive/Dokumentumok/summer_2022/Summer-2022/Primes_SAM.ipynb#ch0000009?line=23'>24</a>\u001b[0m div_list \u001b[39m=\u001b[39m []\n\u001b[0;32m     <a href='vscode-notebook-cell:/c%3A/Users/szilv/OneDrive/Dokumentumok/summer_2022/Summer-2022/Primes_SAM.ipynb#ch0000009?line=27'>28</a>\u001b[0m \u001b[39m# Iterate through train set minibatchs \u001b[39;00m\n\u001b[1;32m---> <a href='vscode-notebook-cell:/c%3A/Users/szilv/OneDrive/Dokumentumok/summer_2022/Summer-2022/Primes_SAM.ipynb#ch0000009?line=28'>29</a>\u001b[0m \u001b[39mfor\u001b[39;00m epoch \u001b[39min\u001b[39;00m trange(epochs):  \n\u001b[0;32m     <a href='vscode-notebook-cell:/c%3A/Users/szilv/OneDrive/Dokumentumok/summer_2022/Summer-2022/Primes_SAM.ipynb#ch0000009?line=29'>30</a>\u001b[0m     per_epoch_loss \u001b[39m=\u001b[39m \u001b[39m0\u001b[39m\n\u001b[0;32m     <a href='vscode-notebook-cell:/c%3A/Users/szilv/OneDrive/Dokumentumok/summer_2022/Summer-2022/Primes_SAM.ipynb#ch0000009?line=30'>31</a>\u001b[0m     correct \u001b[39m=\u001b[39m \u001b[39m0\u001b[39m\n",
            "File \u001b[1;32mc:\\Users\\szilv\\OneDrive\\Dokumentumok\\summer_2022\\summer_venv\\lib\\site-packages\\tqdm\\notebook.py:323\u001b[0m, in \u001b[0;36mtnrange\u001b[1;34m(*args, **kwargs)\u001b[0m\n\u001b[0;32m    318\u001b[0m \u001b[39mdef\u001b[39;00m \u001b[39mtnrange\u001b[39m(\u001b[39m*\u001b[39margs, \u001b[39m*\u001b[39m\u001b[39m*\u001b[39mkwargs):\n\u001b[0;32m    319\u001b[0m     \u001b[39m\"\"\"\u001b[39;00m\n\u001b[0;32m    320\u001b[0m \u001b[39m    A shortcut for `tqdm.notebook.tqdm(xrange(*args), **kwargs)`.\u001b[39;00m\n\u001b[0;32m    321\u001b[0m \u001b[39m    On Python3+, `range` is used instead of `xrange`.\u001b[39;00m\n\u001b[0;32m    322\u001b[0m \u001b[39m    \"\"\"\u001b[39;00m\n\u001b[1;32m--> 323\u001b[0m     \u001b[39mreturn\u001b[39;00m tqdm_notebook(_range(\u001b[39m*\u001b[39margs), \u001b[39m*\u001b[39m\u001b[39m*\u001b[39mkwargs)\n",
            "File \u001b[1;32mc:\\Users\\szilv\\OneDrive\\Dokumentumok\\summer_2022\\summer_venv\\lib\\site-packages\\tqdm\\notebook.py:242\u001b[0m, in \u001b[0;36mtqdm_notebook.__init__\u001b[1;34m(self, *args, **kwargs)\u001b[0m\n\u001b[0;32m    240\u001b[0m unit_scale \u001b[39m=\u001b[39m \u001b[39m1\u001b[39m \u001b[39mif\u001b[39;00m \u001b[39mself\u001b[39m\u001b[39m.\u001b[39munit_scale \u001b[39mis\u001b[39;00m \u001b[39mTrue\u001b[39;00m \u001b[39melse\u001b[39;00m \u001b[39mself\u001b[39m\u001b[39m.\u001b[39munit_scale \u001b[39mor\u001b[39;00m \u001b[39m1\u001b[39m\n\u001b[0;32m    241\u001b[0m total \u001b[39m=\u001b[39m \u001b[39mself\u001b[39m\u001b[39m.\u001b[39mtotal \u001b[39m*\u001b[39m unit_scale \u001b[39mif\u001b[39;00m \u001b[39mself\u001b[39m\u001b[39m.\u001b[39mtotal \u001b[39melse\u001b[39;00m \u001b[39mself\u001b[39m\u001b[39m.\u001b[39mtotal\n\u001b[1;32m--> 242\u001b[0m \u001b[39mself\u001b[39m\u001b[39m.\u001b[39mcontainer \u001b[39m=\u001b[39m \u001b[39mself\u001b[39;49m\u001b[39m.\u001b[39;49mstatus_printer(\u001b[39mself\u001b[39;49m\u001b[39m.\u001b[39;49mfp, total, \u001b[39mself\u001b[39;49m\u001b[39m.\u001b[39;49mdesc, \u001b[39mself\u001b[39;49m\u001b[39m.\u001b[39;49mncols)\n\u001b[0;32m    243\u001b[0m \u001b[39mself\u001b[39m\u001b[39m.\u001b[39mcontainer\u001b[39m.\u001b[39mpbar \u001b[39m=\u001b[39m proxy(\u001b[39mself\u001b[39m)\n\u001b[0;32m    244\u001b[0m \u001b[39mself\u001b[39m\u001b[39m.\u001b[39mdisplayed \u001b[39m=\u001b[39m \u001b[39mFalse\u001b[39;00m\n",
            "File \u001b[1;32mc:\\Users\\szilv\\OneDrive\\Dokumentumok\\summer_2022\\summer_venv\\lib\\site-packages\\tqdm\\notebook.py:118\u001b[0m, in \u001b[0;36mtqdm_notebook.status_printer\u001b[1;34m(_, total, desc, ncols)\u001b[0m\n\u001b[0;32m    109\u001b[0m \u001b[39m# Fallback to text bar if there's no total\u001b[39;00m\n\u001b[0;32m    110\u001b[0m \u001b[39m# DEPRECATED: replaced with an 'info' style bar\u001b[39;00m\n\u001b[0;32m    111\u001b[0m \u001b[39m# if not total:\u001b[39;00m\n\u001b[1;32m   (...)\u001b[0m\n\u001b[0;32m    115\u001b[0m \n\u001b[0;32m    116\u001b[0m \u001b[39m# Prepare IPython progress bar\u001b[39;00m\n\u001b[0;32m    117\u001b[0m \u001b[39mif\u001b[39;00m IProgress \u001b[39mis\u001b[39;00m \u001b[39mNone\u001b[39;00m:  \u001b[39m# #187 #451 #558 #872\u001b[39;00m\n\u001b[1;32m--> 118\u001b[0m     \u001b[39mraise\u001b[39;00m \u001b[39mImportError\u001b[39;00m(WARN_NOIPYW)\n\u001b[0;32m    119\u001b[0m \u001b[39mif\u001b[39;00m total:\n\u001b[0;32m    120\u001b[0m     pbar \u001b[39m=\u001b[39m IProgress(\u001b[39mmin\u001b[39m\u001b[39m=\u001b[39m\u001b[39m0\u001b[39m, \u001b[39mmax\u001b[39m\u001b[39m=\u001b[39mtotal)\n",
            "\u001b[1;31mImportError\u001b[0m: IProgress not found. Please update jupyter and ipywidgets. See https://ipywidgets.readthedocs.io/en/stable/user_install.html"
=======
      "execution_count": 37,
      "metadata": {},
      "outputs": [
        {
          "data": {
            "application/vnd.jupyter.widget-view+json": {
              "model_id": "f15b0caba9b34de2aac52615bcd2f542",
              "version_major": 2,
              "version_minor": 0
            },
            "text/plain": [
              "HBox(children=(FloatProgress(value=0.0, max=10.0), HTML(value='')))"
            ]
          },
          "metadata": {},
          "output_type": "display_data"
        },
        {
          "name": "stdout",
          "output_type": "stream",
          "text": [
            "\n",
            "[0.9298596978187561, 0.11422842741012573, 0.0020040273666381836, 0.9478957653045654, 0.25050097703933716, 0.0020040273666381836, 0.0020040273666381836, 0.0020040273666381836, 0.018036067485809326, 0.0020040273666381836]\n"
>>>>>>> 10a1f80 (utils.py)
          ]
        }
      ],
      "source": [
        "model, training_losses, training_accuracies, validation_accuracies, div_list = train_MLP(batch_size=32, epochs=10, tracking=True, div_tracking=True, divisor=2)\n",
        "print(div_list[:10])"
      ]
    },
    {
      "cell_type": "code",
      "execution_count": 38,
      "metadata": {
        "id": "GC-05i3ojNMG"
      },
      "outputs": [],
      "source": [
        "# ## Testing\n",
        "# correct = 0\n",
        "# total = len(test_data)\n",
        "\n",
        "# with torch.no_grad():\n",
        "#     # Iterate through test set minibatchs \n",
        "#     for numbers, labels in tqdm(test_loader):\n",
        "#         numbers = numbers.to(device)\n",
        "#         labels = labels.to(device)\n",
        "#         # Forward pass\n",
        "#         x = numbers[:,None]\n",
        "#         x = encode(x, digits, base).float()\n",
        "#         y = model(x)\n",
        "#         predictions = ((y>0)*1)[:, 0]\n",
        "#         correct += torch.sum((predictions == labels).float())\n",
        "\n",
        "# print('Test accuracy: {}'.format(correct/total))"
      ]
    },
    {
      "cell_type": "code",
      "execution_count": null,
      "metadata": {},
      "outputs": [
        {
          "data": {
<<<<<<< HEAD
            "text/plain": [
              "[<matplotlib.lines.Line2D at 0x7fe431c67d00>]"
            ]
          },
          "execution_count": 50,
          "metadata": {},
          "output_type": "execute_result"
        },
        {
          "data": {
            "image/png": "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",
            "text/plain": [
              "<Figure size 432x288 with 1 Axes>"
            ]
          },
          "metadata": {
            "needs_background": "light"
          },
          "output_type": "display_data"
        }
      ],
      "source": [
        "plt.figure(figsize=(12, 6))\n",
        "plt.title('Mistakes in recognizing prime multiples')\n",
        "plt.xlabel(\"epoch\")\n",
        "plt.ylabel(\"incorrect fraction\")\n",
        "for prime in primes_upto(10):\n",
        "    _, _, _, _, div_list = train_MLP(batch_size=32, epochs=100, tracking=False, div_tracking=True, divisor=prime)\n",
        "    plt.plot(div_list, label=f\"multiples of {prime}\")\n",
        "plt.legend(loc=\"upper right\")\n",
        "plt.show()\n"
      ]
    },
    {
      "cell_type": "code",
      "execution_count": 70,
      "metadata": {},
      "outputs": [
        {
          "data": {
            "image/png": "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",
=======
            "image/png": "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",
>>>>>>> 10a1f80 (utils.py)
            "text/plain": [
              "<Figure size 1008x432 with 2 Axes>"
            ]
          },
          "metadata": {
            "needs_background": "light"
          },
          "output_type": "display_data"
        }
      ],
      "source": [
        "plt.figure(figsize=(14, 6))\n",
        "plt.subplot(1, 2, 1)\n",
        "plt.plot(training_losses)\n",
        "plt.title('Training loss')\n",
        "plt.xlabel('epoch')\n",
        "plt.ylabel('loss')\n",
        "\n",
        "plt.subplot(1, 2, 2)\n",
        "plt.plot(training_accuracies, label='training')\n",
        "plt.plot(validation_accuracies, color = 'red', label='validation')\n",
        "plt.title('Accuracies')\n",
        "plt.legend(loc='upper left')\n",
        "plt.xlabel('epoch')\n",
        "plt.ylabel('accuracy')\n",
        "plt.show()\n"
      ]
    },
    {
      "cell_type": "code",
      "execution_count": null,
      "metadata": {
        "colab": {
          "base_uri": "https://localhost:8080/",
          "height": 460
        },
        "id": "WmSc91_qSqH_",
        "outputId": "8d8527fe-57b6-4ebf-9d4d-495509ab2aad"
      },
      "outputs": [
        {
          "name": "stderr",
          "output_type": "stream",
          "text": [
            "<ipython-input-5-5e5797f04886>:5: UserWarning: __floordiv__ is deprecated, and its behavior will change in a future version of pytorch. It currently rounds toward 0 (like the 'trunc' function NOT 'floor'). This results in incorrect rounding for negative values. To keep the current behavior, use torch.div(a, b, rounding_mode='trunc'), or for actual floor division, use torch.div(a, b, rounding_mode='floor').\n",
            "  batch=torch.nn.functional.one_hot(torch.remainder(batch//t[None, :].to(torch.int64), base), num_classes=base)\n"
          ]
        },
        {
          "data": {
            "image/png": "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",
            "text/plain": [
              "<Figure size 1152x432 with 2 Axes>"
            ]
          },
          "metadata": {
            "needs_background": "light"
          },
          "output_type": "display_data"
        }
      ],
      "source": [
        "preds = [float(model(encode(torch.tensor([[i]]), digits, base).float())) for i in range(1,N+1)]\n",
        "\n",
        "plt.figure(figsize=(16, 6))\n",
        "plt.subplot(1, 2, 1)\n",
        "plt.plot(range(1, N+1)[1:100:2], preds[1:100:2], 'o', markersize = 2, label=\"even\")\n",
        "plt.plot(range(1, N+1)[0:100:2], preds[0:100:2], 'ro', markersize = 2, label=\"odd\")\n",
        "#plt.ylim([-100, 100])\n",
        "plt.plot(np.linspace(0, 100, 10000), np.zeros(10000), color='black')\n",
        "plt.xlabel('Number')\n",
        "plt.ylabel('Model outputs')\n",
        "plt.title('Showing divisibility by 2')\n",
        "plt.legend(loc='lower right')\n",
        "\n",
        "plt.subplot(1, 2, 2)\n",
        "# plt.plot(range(1, N+1)[1:100:3], preds[1:100:3], 'ro', markersize = 2, label=\"0 mod 3\")\n",
        "plt.plot(range(1, N+1)[0:100:5], preds[0:100:5], 'go', markersize = 2, label=\"1 mod 5\")\n",
        "plt.plot(range(1, N+1)[1:100:5], preds[1:100:5], 'o', markersize = 2, label=\"2 mod 5\")\n",
        "plt.plot(range(1, N+1)[2:100:5], preds[2:100:5], 'ro', markersize = 2, label=\"3 mod 5\")\n",
        "plt.plot(range(1, N+1)[3:100:5], preds[3:100:5], 'o', markersize = 2, label=\"4 mod 5\")\n",
        "plt.plot(range(1, N+1)[4:100:5], preds[4:100:5], 'bo', markersize = 2, label=\"0 mod 5\")\n",
        "plt.ylim([-100, 100])\n",
        "plt.plot(np.linspace(0, 100, 10000), np.zeros(10000), color='black')\n",
        "plt.xlabel('Number')\n",
        "plt.ylabel('Model outputs')\n",
        "plt.title('Showing divisibility by 5')\n",
        "plt.legend(loc='lower right')\n",
        "plt.show()\n",
        "\n"
      ]
    },
    {
      "cell_type": "code",
      "execution_count": null,
      "metadata": {
        "colab": {
          "base_uri": "https://localhost:8080/"
        },
        "id": "gdD12E7kFjuV",
        "outputId": "00ff8949-23f3-4f4a-ac39-0c801d90a855"
      },
      "outputs": [
        {
          "name": "stdout",
          "output_type": "stream",
          "text": [
            "[5, 15, 25, 35, 45, 55, 65, 75, 85, 95, 105, 115, 125, 135, 145, 155, 165, 175, 185, 195]\n",
            "[[1], [9, 3, 3], [21, 3, 7.0], [27, 3, 3, 3], [33, 3, 11.0], [39, 3, 13.0], [49, 7, 7], [51, 3, 17.0], [57, 3, 19.0], [63, 3, 3, 7], [69, 3, 23.0], [77, 7, 11.0], [81, 3, 3, 3, 3], [87, 3, 29.0], [91, 7, 13.0], [93, 3, 31.0], [99, 3, 3, 11.0], [111, 3, 37.0], [117, 3, 3, 13.0], [119, 7, 17.0], [121, 11, 11], [123, 3, 41.0], [129, 3, 43.0], [133, 7, 19.0], [141, 3, 47.0], [143, 11, 13.0], [147, 3, 7, 7], [153, 3, 3, 17.0], [159, 3, 53.0], [161, 7, 23.0], [169, 13, 13], [171, 3, 3, 19.0], [177, 3, 59.0], [183, 3, 61.0], [187, 11, 17.0], [189, 3, 3, 3, 7], [201, 3, 67.0], [203, 7, 29.0], [207, 3, 3, 23.0], [209, 11, 19.0], [213, 3, 71.0], [217, 7, 31.0], [219, 3, 73.0], [221, 13, 17.0], [231, 3, 7, 11], [237, 3, 79.0], [243, 3, 3, 3, 3, 3], [247, 13, 19.0], [249, 3, 83.0], [253, 11, 23.0], [259, 7, 37.0], [261, 3, 3, 29.0], [267, 3, 89.0], [273, 3, 7, 13], [279, 3, 3, 31.0], [287, 7, 41.0], [289, 17, 17], [291, 3, 97.0], [297, 3, 3, 3, 11], [299, 13, 23.0], [301, 7, 43.0], [303, 3, 101.0], [309, 3, 103.0], [319, 11, 29.0], [321, 3, 107.0], [323, 17, 19.0], [327, 3, 109.0], [329, 7, 47.0], [333, 3, 3, 37.0], [339, 3, 113.0], [341, 11, 31.0], [343, 7, 7, 7], [351, 3, 3, 3, 13], [357, 3, 7, 17], [361, 19, 19], [363, 3, 11, 11], [369, 3, 3, 41.0], [371, 7, 53.0], [377, 13, 29.0], [381, 3, 127.0], [387, 3, 3, 43.0], [391, 17, 23.0], [393, 3, 131.0], [399, 3, 7, 19], [403, 13, 31.0], [407, 11, 37.0], [411, 3, 137.0], [413, 7, 59.0], [417, 3, 139.0], [423, 3, 3, 47.0], [427, 7, 61.0], [429, 3, 11, 13], [437, 19, 23.0], [441, 3, 3, 7, 7], [447, 3, 149.0], [451, 11, 41.0], [453, 3, 151.0], [459, 3, 3, 3, 17], [469, 7, 67.0], [471, 3, 157.0], [473, 11, 43.0], [477, 3, 3, 53.0], [481, 13, 37.0], [483, 3, 7, 23.0], [489, 3, 163.0], [493, 17, 29.0], [497, 7, 71.0], [501, 3, 167.0], [507, 3, 13, 13], [511, 7, 73.0], [513, 3, 3, 3, 19], [517, 11, 47.0], [519, 3, 173.0], [527, 17, 31.0], [529, 23, 23], [531, 3, 3, 59.0], [533, 13, 41.0], [537, 3, 179.0], [539, 7, 7, 11], [543, 3, 181.0], [549, 3, 3, 61.0], [551, 19, 29.0], [553, 7, 79.0], [559, 13, 43.0], [561, 3, 11, 17], [567, 3, 3, 3, 3, 7], [573, 3, 191.0], [579, 3, 193.0], [581, 7, 83.0], [583, 11, 53.0], [589, 19, 31.0], [591, 3, 197.0], [597, 3, 199.0], [603, 3, 3, 67.0], [609, 3, 7, 29.0], [611, 13, 47.0], [621, 3, 3, 3, 23], [623, 7, 89.0], [627, 3, 11, 19], [629, 17, 37.0], [633, 3, 211.0], [637, 7, 7, 13], [639, 3, 3, 71.0], [649, 11, 59.0], [651, 3, 7, 31.0], [657, 3, 3, 73.0], [663, 3, 13, 17], [667, 23, 29.0], [669, 3, 223.0], [671, 11, 61.0], [679, 7, 97.0], [681, 3, 227.0], [687, 3, 229.0], [689, 13, 53.0], [693, 3, 3, 7, 11], [697, 17, 41.0], [699, 3, 233.0], [703, 19, 37.0], [707, 7, 101.0], [711, 3, 3, 79.0], [713, 23, 31.0], [717, 3, 239.0], [721, 7, 103.0], [723, 3, 241.0], [729, 3, 3, 3, 3, 3, 3], [731, 17, 43.0], [737, 11, 67.0], [741, 3, 13, 19], [747, 3, 3, 83.0], [749, 7, 107.0], [753, 3, 251.0], [759, 3, 11, 23], [763, 7, 109.0], [767, 13, 59.0], [771, 3, 257.0], [777, 3, 7, 37.0], [779, 19, 41.0], [781, 11, 71.0], [783, 3, 3, 3, 29.0], [789, 3, 263.0], [791, 7, 113.0], [793, 13, 61.0], [799, 17, 47.0], [801, 3, 3, 89.0], [803, 11, 73.0], [807, 3, 269.0], [813, 3, 271.0], [817, 19, 43.0], [819, 3, 3, 7, 13], [831, 3, 277.0], [833, 7, 7, 17], [837, 3, 3, 3, 31.0], [841, 29, 29], [843, 3, 281.0], [847, 7, 11, 11], [849, 3, 283.0], [851, 23, 37.0], [861, 3, 7, 41.0], [867, 3, 17, 17], [869, 11, 79.0], [871, 13, 67.0], [873, 3, 3, 97.0], [879, 3, 293.0], [889, 7, 127.0], [891, 3, 3, 3, 3, 11], [893, 19, 47.0], [897, 3, 13, 23], [899, 29, 31.0], [901, 17, 53.0], [903, 3, 7, 43.0], [909, 3, 3, 101.0], [913, 11, 83.0], [917, 7, 131.0], [921, 3, 307.0], [923, 13, 71.0], [927, 3, 3, 103.0], [931, 7, 7, 19], [933, 3, 311.0], [939, 3, 313.0], [943, 23, 41.0], [949, 13, 73.0], [951, 3, 317.0], [957, 3, 11, 29], [959, 7, 137.0], [961, 31, 31], [963, 3, 3, 107.0], [969, 3, 17, 19], [973, 7, 139.0], [979, 11, 89.0], [981, 3, 3, 109.0], [987, 3, 7, 47.0], [989, 23, 43.0], [993, 3, 331.0], [999, 3, 3, 3, 37.0]]\n",
            "[2, 5]\n"
          ]
        }
      ],
      "source": [
        "print([index+1 for index, i in enumerate(preds) if i<0 if index%2==0][:20])\n",
        "print([[index+1]+primeFactors(index+1) for index, i in enumerate(preds) if i > 0 if not isPrime(index+1)])\n",
        "print([index+1 for index, i in enumerate(preds) if i < 0 if isPrime(index+1)])"
      ]
    },
    {
      "cell_type": "code",
      "execution_count": null,
      "metadata": {
        "id": "UOAlYHCcVRlc"
      },
      "outputs": [],
      "source": [
        "# ## Testing\n",
        "# correct = 0\n",
        "# total = len(train_data)\n",
        "\n",
        "# with torch.no_grad():\n",
        "#     # Iterate through test set minibatchs \n",
        "#     for numbers, labels in tqdm(train_loader):\n",
        "#         numbers = numbers.to(device)\n",
        "#         labels = labels.to(device)\n",
        "#         # Forward pass\n",
        "#         x = numbers[:,None]\n",
        "#         x = encode(x, digits, base).float()\n",
        "#         y = model(x)\n",
        "\n",
        "#         predictions = ((y>0)*1)[:, 0]\n",
        "#         correct += torch.sum((predictions == labels).float())\n",
        "\n",
        "# print('Train accuracy: {}'.format(correct/total))"
      ]
    },
    {
      "cell_type": "code",
      "execution_count": null,
      "metadata": {
        "colab": {
          "base_uri": "https://localhost:8080/"
        },
        "id": "XCT9LpAYIfxi",
        "outputId": "360d9365-19b6-421c-c730-b4d747d70e46"
      },
      "outputs": [
        {
          "name": "stderr",
          "output_type": "stream",
          "text": [
            "<ipython-input-5-5e5797f04886>:5: UserWarning: __floordiv__ is deprecated, and its behavior will change in a future version of pytorch. It currently rounds toward 0 (like the 'trunc' function NOT 'floor'). This results in incorrect rounding for negative values. To keep the current behavior, use torch.div(a, b, rounding_mode='trunc'), or for actual floor division, use torch.div(a, b, rounding_mode='floor').\n",
            "  batch=torch.nn.functional.one_hot(torch.remainder(batch//t[None, :].to(torch.int64), base), num_classes=base)\n"
          ]
        },
        {
          "data": {
            "text/plain": [
              "tensor([[1.7567]], grad_fn=<AddmmBackward0>)"
            ]
          },
          "execution_count": 20,
          "metadata": {},
          "output_type": "execute_result"
        }
      ],
      "source": [
        "x = torch.tensor([[77]])\n",
        "\n",
        "x = encode(x, digits, base).float()\n",
        "model(x)"
      ]
    },
    {
      "cell_type": "code",
      "execution_count": null,
      "metadata": {
        "id": "Tn7ZQUIkW40N"
      },
      "outputs": [],
      "source": []
    }
  ],
  "metadata": {
    "colab": {
      "collapsed_sections": [],
      "name": "Primes_SAM.ipynb",
      "provenance": []
    },
    "kernelspec": {
      "display_name": "Python 3.9.7 ('summer_venv': venv)",
      "language": "python",
      "name": "python3"
    },
    "language_info": {
      "codemirror_mode": {
        "name": "ipython",
        "version": 3
      },
      "file_extension": ".py",
      "mimetype": "text/x-python",
      "name": "python",
      "nbconvert_exporter": "python",
      "pygments_lexer": "ipython3",
      "version": "3.9.7"
    },
    "vscode": {
      "interpreter": {
        "hash": "b8ea205e4e66ef442b0492f00be4073d98056112e4a1c26a4f26bb5aea81c264"
      }
    },
    "widgets": {
      "application/vnd.jupyter.widget-state+json": {
        "15362b0caff049228ae5222aa7082aa5": {
          "model_module": "@jupyter-widgets/controls",
          "model_module_version": "1.5.0",
          "model_name": "FloatProgressModel",
          "state": {
            "_dom_classes": [],
            "_model_module": "@jupyter-widgets/controls",
            "_model_module_version": "1.5.0",
            "_model_name": "FloatProgressModel",
            "_view_count": null,
            "_view_module": "@jupyter-widgets/controls",
            "_view_module_version": "1.5.0",
            "_view_name": "ProgressView",
            "bar_style": "",
            "description": "",
            "description_tooltip": null,
            "layout": "IPY_MODEL_a8c01873b21d482b98355fe3610e1abd",
            "max": 5000,
            "min": 0,
            "orientation": "horizontal",
            "style": "IPY_MODEL_2b88f1d4ac1640e49a86f9eb206b423f",
            "value": 1714
          }
        },
        "2ac973dc096c4e33aae80be44a019e6a": {
          "model_module": "@jupyter-widgets/base",
          "model_module_version": "1.2.0",
          "model_name": "LayoutModel",
          "state": {
            "_model_module": "@jupyter-widgets/base",
            "_model_module_version": "1.2.0",
            "_model_name": "LayoutModel",
            "_view_count": null,
            "_view_module": "@jupyter-widgets/base",
            "_view_module_version": "1.2.0",
            "_view_name": "LayoutView",
            "align_content": null,
            "align_items": null,
            "align_self": null,
            "border": null,
            "bottom": null,
            "display": null,
            "flex": null,
            "flex_flow": null,
            "grid_area": null,
            "grid_auto_columns": null,
            "grid_auto_flow": null,
            "grid_auto_rows": null,
            "grid_column": null,
            "grid_gap": null,
            "grid_row": null,
            "grid_template_areas": null,
            "grid_template_columns": null,
            "grid_template_rows": null,
            "height": null,
            "justify_content": null,
            "justify_items": null,
            "left": null,
            "margin": null,
            "max_height": null,
            "max_width": null,
            "min_height": null,
            "min_width": null,
            "object_fit": null,
            "object_position": null,
            "order": null,
            "overflow": null,
            "overflow_x": null,
            "overflow_y": null,
            "padding": null,
            "right": null,
            "top": null,
            "visibility": null,
            "width": null
          }
        },
        "2b88f1d4ac1640e49a86f9eb206b423f": {
          "model_module": "@jupyter-widgets/controls",
          "model_module_version": "1.5.0",
          "model_name": "ProgressStyleModel",
          "state": {
            "_model_module": "@jupyter-widgets/controls",
            "_model_module_version": "1.5.0",
            "_model_name": "ProgressStyleModel",
            "_view_count": null,
            "_view_module": "@jupyter-widgets/base",
            "_view_module_version": "1.2.0",
            "_view_name": "StyleView",
            "bar_color": null,
            "description_width": ""
          }
        },
        "2d1bd946a6714082a9667245304d4b98": {
          "model_module": "@jupyter-widgets/controls",
          "model_module_version": "1.5.0",
          "model_name": "DescriptionStyleModel",
          "state": {
            "_model_module": "@jupyter-widgets/controls",
            "_model_module_version": "1.5.0",
            "_model_name": "DescriptionStyleModel",
            "_view_count": null,
            "_view_module": "@jupyter-widgets/base",
            "_view_module_version": "1.2.0",
            "_view_name": "StyleView",
            "description_width": ""
          }
        },
        "4598d2e622a7470f99db32f841eb9676": {
          "model_module": "@jupyter-widgets/base",
          "model_module_version": "1.2.0",
          "model_name": "LayoutModel",
          "state": {
            "_model_module": "@jupyter-widgets/base",
            "_model_module_version": "1.2.0",
            "_model_name": "LayoutModel",
            "_view_count": null,
            "_view_module": "@jupyter-widgets/base",
            "_view_module_version": "1.2.0",
            "_view_name": "LayoutView",
            "align_content": null,
            "align_items": null,
            "align_self": null,
            "border": null,
            "bottom": null,
            "display": null,
            "flex": null,
            "flex_flow": null,
            "grid_area": null,
            "grid_auto_columns": null,
            "grid_auto_flow": null,
            "grid_auto_rows": null,
            "grid_column": null,
            "grid_gap": null,
            "grid_row": null,
            "grid_template_areas": null,
            "grid_template_columns": null,
            "grid_template_rows": null,
            "height": null,
            "justify_content": null,
            "justify_items": null,
            "left": null,
            "margin": null,
            "max_height": null,
            "max_width": null,
            "min_height": null,
            "min_width": null,
            "object_fit": null,
            "object_position": null,
            "order": null,
            "overflow": null,
            "overflow_x": null,
            "overflow_y": null,
            "padding": null,
            "right": null,
            "top": null,
            "visibility": null,
            "width": null
          }
        },
        "4d1ba3d1456f4366a154711eccec5019": {
          "model_module": "@jupyter-widgets/controls",
          "model_module_version": "1.5.0",
          "model_name": "HTMLModel",
          "state": {
            "_dom_classes": [],
            "_model_module": "@jupyter-widgets/controls",
            "_model_module_version": "1.5.0",
            "_model_name": "HTMLModel",
            "_view_count": null,
            "_view_module": "@jupyter-widgets/controls",
            "_view_module_version": "1.5.0",
            "_view_name": "HTMLView",
            "description": "",
            "description_tooltip": null,
            "layout": "IPY_MODEL_4598d2e622a7470f99db32f841eb9676",
            "placeholder": "​",
            "style": "IPY_MODEL_5452d3c580df4bdfa2e8d1733da9d36d",
            "value": " 34%"
          }
        },
        "5452d3c580df4bdfa2e8d1733da9d36d": {
          "model_module": "@jupyter-widgets/controls",
          "model_module_version": "1.5.0",
          "model_name": "DescriptionStyleModel",
          "state": {
            "_model_module": "@jupyter-widgets/controls",
            "_model_module_version": "1.5.0",
            "_model_name": "DescriptionStyleModel",
            "_view_count": null,
            "_view_module": "@jupyter-widgets/base",
            "_view_module_version": "1.2.0",
            "_view_name": "StyleView",
            "description_width": ""
          }
        },
        "9edebc7b31034270b04f46ca7a9eceab": {
          "model_module": "@jupyter-widgets/controls",
          "model_module_version": "1.5.0",
          "model_name": "HTMLModel",
          "state": {
            "_dom_classes": [],
            "_model_module": "@jupyter-widgets/controls",
            "_model_module_version": "1.5.0",
            "_model_name": "HTMLModel",
            "_view_count": null,
            "_view_module": "@jupyter-widgets/controls",
            "_view_module_version": "1.5.0",
            "_view_name": "HTMLView",
            "description": "",
            "description_tooltip": null,
            "layout": "IPY_MODEL_2ac973dc096c4e33aae80be44a019e6a",
            "placeholder": "​",
            "style": "IPY_MODEL_2d1bd946a6714082a9667245304d4b98",
            "value": " 1714/5000 [01:09&lt;02:11, 25.07it/s]"
          }
        },
        "a7526688b99344f18c1dafe3e2dfd521": {
          "model_module": "@jupyter-widgets/base",
          "model_module_version": "1.2.0",
          "model_name": "LayoutModel",
          "state": {
            "_model_module": "@jupyter-widgets/base",
            "_model_module_version": "1.2.0",
            "_model_name": "LayoutModel",
            "_view_count": null,
            "_view_module": "@jupyter-widgets/base",
            "_view_module_version": "1.2.0",
            "_view_name": "LayoutView",
            "align_content": null,
            "align_items": null,
            "align_self": null,
            "border": null,
            "bottom": null,
            "display": null,
            "flex": null,
            "flex_flow": null,
            "grid_area": null,
            "grid_auto_columns": null,
            "grid_auto_flow": null,
            "grid_auto_rows": null,
            "grid_column": null,
            "grid_gap": null,
            "grid_row": null,
            "grid_template_areas": null,
            "grid_template_columns": null,
            "grid_template_rows": null,
            "height": null,
            "justify_content": null,
            "justify_items": null,
            "left": null,
            "margin": null,
            "max_height": null,
            "max_width": null,
            "min_height": null,
            "min_width": null,
            "object_fit": null,
            "object_position": null,
            "order": null,
            "overflow": null,
            "overflow_x": null,
            "overflow_y": null,
            "padding": null,
            "right": null,
            "top": null,
            "visibility": null,
            "width": null
          }
        },
        "a8c01873b21d482b98355fe3610e1abd": {
          "model_module": "@jupyter-widgets/base",
          "model_module_version": "1.2.0",
          "model_name": "LayoutModel",
          "state": {
            "_model_module": "@jupyter-widgets/base",
            "_model_module_version": "1.2.0",
            "_model_name": "LayoutModel",
            "_view_count": null,
            "_view_module": "@jupyter-widgets/base",
            "_view_module_version": "1.2.0",
            "_view_name": "LayoutView",
            "align_content": null,
            "align_items": null,
            "align_self": null,
            "border": null,
            "bottom": null,
            "display": null,
            "flex": null,
            "flex_flow": null,
            "grid_area": null,
            "grid_auto_columns": null,
            "grid_auto_flow": null,
            "grid_auto_rows": null,
            "grid_column": null,
            "grid_gap": null,
            "grid_row": null,
            "grid_template_areas": null,
            "grid_template_columns": null,
            "grid_template_rows": null,
            "height": null,
            "justify_content": null,
            "justify_items": null,
            "left": null,
            "margin": null,
            "max_height": null,
            "max_width": null,
            "min_height": null,
            "min_width": null,
            "object_fit": null,
            "object_position": null,
            "order": null,
            "overflow": null,
            "overflow_x": null,
            "overflow_y": null,
            "padding": null,
            "right": null,
            "top": null,
            "visibility": null,
            "width": null
          }
        },
        "fae037db33204fb79bfc9bccceda876e": {
          "model_module": "@jupyter-widgets/controls",
          "model_module_version": "1.5.0",
          "model_name": "HBoxModel",
          "state": {
            "_dom_classes": [],
            "_model_module": "@jupyter-widgets/controls",
            "_model_module_version": "1.5.0",
            "_model_name": "HBoxModel",
            "_view_count": null,
            "_view_module": "@jupyter-widgets/controls",
            "_view_module_version": "1.5.0",
            "_view_name": "HBoxView",
            "box_style": "",
            "children": [
              "IPY_MODEL_4d1ba3d1456f4366a154711eccec5019",
              "IPY_MODEL_15362b0caff049228ae5222aa7082aa5",
              "IPY_MODEL_9edebc7b31034270b04f46ca7a9eceab"
            ],
            "layout": "IPY_MODEL_a7526688b99344f18c1dafe3e2dfd521"
          }
        }
      }
    }
  },
  "nbformat": 4,
  "nbformat_minor": 0
}
