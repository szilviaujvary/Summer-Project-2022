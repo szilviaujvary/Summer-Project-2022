{
  "cells": [
    {
      "cell_type": "code",
      "execution_count": 1,
      "metadata": {
        "colab": {
          "base_uri": "https://localhost:8080/"
        },
        "id": "Av_RC_2ADIy8",
        "outputId": "7726224b-e356-4664-a60d-e7777ba7be22"
      },
      "outputs": [
        {
          "name": "stdout",
          "output_type": "stream",
          "text": [
            "fatal: destination path 'sam' already exists and is not an empty directory.\n"
          ]
        }
      ],
      "source": [
        "!git clone https://github.com/davda54/sam\n"
      ]
    },
    {
      "cell_type": "code",
      "execution_count": 2,
      "metadata": {
        "id": "Q5w7ocn8DLsf"
      },
      "outputs": [],
      "source": [
        "import sys; sys.path.append(\"..\")\n",
        "\n",
        "sys.path.append(\"sam\")\n",
        "from sam import SAM"
      ]
    },
    {
      "cell_type": "code",
      "execution_count": 3,
      "metadata": {
        "id": "Y4Vcf17gzE9m"
      },
      "outputs": [],
      "source": [
        "import numpy as np\n",
        "import random\n",
        "import torch\n",
        "import torch.nn as nn\n",
        "import torch.nn.functional as F\n",
        "from torchvision import datasets, transforms\n",
        "from tqdm.notebook import tqdm\n",
        "import matplotlib.pyplot as plt\n",
        "\n",
        "device = \"cuda\" if torch.cuda.is_available() else \"cpu\""
      ]
    },
    {
      "cell_type": "code",
      "execution_count": 4,
      "metadata": {
        "id": "wQaVvb5rxDer"
      },
      "outputs": [],
      "source": [
        " # prime generating functions\n",
        "\n",
        "# Python program to print prime factors\n",
        " \n",
        "import math\n",
        " \n",
        "# A function to print all prime factors of\n",
        "# a given number n\n",
        "def primeFactors(n):\n",
        "    fact_array = []\n",
        "    # Print the number of two's that divide n\n",
        "    while n % 2 == 0:\n",
        "        fact_array.append(2)\n",
        "        n = n / 2\n",
        "         \n",
        "    # n must be odd at this point\n",
        "    # so a skip of 2 ( i = i + 2) can be used\n",
        "    for i in range(3,int(math.sqrt(n))+1,2):\n",
        "         \n",
        "        # while i divides n , print i and divide n\n",
        "        while n % i== 0:\n",
        "            fact_array.append(i)\n",
        "            n = n / i\n",
        "             \n",
        "    # Condition if n is a prime\n",
        "    # number greater than 2\n",
        "    if n > 2:\n",
        "        fact_array.append(n)\n",
        "    return fact_array\n",
        "\n",
        "\n",
        "def isPrime(n):\n",
        "  fact_array = primeFactors(n)\n",
        "  if len(fact_array) == 1:\n",
        "    return True\n",
        "  return False\n",
        "\n",
        "\n",
        "#primes up to \n",
        "def primes_upto(limit):\n",
        "    prime = [True] * limit\n",
        "    for n in range(2, limit):\n",
        "        if prime[n]:\n",
        "            yield n # n is a prime\n",
        "            for c in range(n*n, limit, n):\n",
        "                prime[c] = False # mark composites\n"
      ]
    },
    {
      "cell_type": "code",
      "execution_count": 5,
      "metadata": {
        "id": "ROSPoAsFTHrr"
      },
      "outputs": [],
      "source": [
        "# encoding algorithm\n",
        "def encode(batch, digits, base):\n",
        "  s=batch.size(dim=0)\n",
        "  t=base**torch.arange(digits-1,-1,-1).to(torch.int64)\n",
        "  batch=torch.nn.functional.one_hot(torch.remainder(batch//t[None, :].to(torch.int64), base), num_classes=base)\n",
        "  batch=torch.reshape(batch, (s, digits*base))\n",
        "  return(batch)\n",
        "\n",
        "def decode(batch, digits, syst):\n",
        "  batch=(torch.argmax(batch, dim=2)@t)[:, None]\n",
        "  return(batch)"
      ]
    },
    {
      "cell_type": "code",
      "execution_count": 6,
      "metadata": {
        "id": "RwO6nR1FzkC4"
      },
      "outputs": [],
      "source": [
        "np.random.seed(seed=1372022)\n",
        "N=999\n",
        "base = 10\n",
        "digits = base*(math.floor(np.log(N)/np.log(base))+1)\n",
        "\n",
        "train_primes = list(primes_upto(N+1))\n",
        "#train_composites = [i for i in range(1000) if i not in train_primes]\n",
        "all_data = []\n",
        "for k in range(N//len(train_primes)):\n",
        "    all_data += [tuple((i, 1)) for i in range(1,N+1) if i in train_primes]\n",
        "all_data += [tuple((i, 0)) for i in range(1,N+1) if i not in train_primes]\n",
        "\n",
        "# all_data = [tuple((i, 1)) for i in range(1,N+1) if i in train_primes] + [tuple((i, 0)) for i in range(1,N+1) if i not in train_primes if np.random.uniform(0, 1)<len(train_primes)/N]\n",
        "\n",
        "np.random.shuffle(all_data)\n",
        "\n",
        "train_data = all_data[: math.floor(len(all_data)*0.8)]\n",
        "test_data = set(all_data[math.floor(len(all_data)*0.8):])\n",
        "test_data.difference(set(train_data))\n",
        "test_data = list(test_data)"
      ]
    },
    {
      "cell_type": "code",
      "execution_count": 7,
      "metadata": {
        "colab": {
          "base_uri": "https://localhost:8080/"
        },
        "id": "IjfS7gWIWY5o",
        "outputId": "484541c5-604d-485a-ca83-eecbfc796cba"
      },
      "outputs": [
        {
          "name": "stdout",
          "output_type": "stream",
          "text": [
            "840 831\n",
            "[(593, 1), (932, 0), (229, 1), (772, 0), (835, 0), (461, 1), (214, 0), (643, 1), (822, 0), (563, 1), (39, 0), (839, 1), (947, 1), (727, 1), (522, 0), (389, 1), (181, 1), (36, 0), (991, 1), (353, 1)]\n",
            "1336\n",
            "275\n"
          ]
        }
      ],
      "source": [
        "counter_primes = 0\n",
        "counter = 0\n",
        "for i in all_data:\n",
        "    if i[1]:\n",
        "        counter_primes += 1\n",
        "    else:\n",
        "        counter += 1\n",
        "print(counter_primes, counter)\n",
        "\n",
        "print(train_data[:20])\n",
        "print(len(train_data))\n",
        "print(len(test_data))"
      ]
    },
    {
      "cell_type": "code",
      "execution_count": 8,
      "metadata": {
        "id": "S4AFjiz44uXK"
      },
      "outputs": [],
      "source": [
        "#model\n",
        "input = base*digits\n",
        "output1 = 64\n",
        "output2 = 128\n",
        "output3 = 64\n",
        "class MLP(nn.Module):\n",
        "    def __init__(self,output1,output2, output3):\n",
        "        super().__init__()\n",
        "        self.step1 = nn.Linear(input, output1)\n",
        "        self.step2 = nn.Linear(output1, output2)\n",
        "        self.step3 = nn.Linear(output2, 1)\n",
        "\n",
        "    def forward(self, x):\n",
        "        \n",
        "        x = self.step1(x)\n",
        "        x = F.relu(x)\n",
        "        x = self.step2(x)\n",
        "        x = F.relu(x)\n",
        "        #x = self.step3(x)\n",
        "        #x = F.relu(x)\n",
        "        x = self.step3(x)\n",
        "\n",
        "        return x"
      ]
    },
    {
      "cell_type": "code",
      "execution_count": 62,
      "metadata": {
        "colab": {
          "base_uri": "https://localhost:8080/",
          "height": 105,
          "referenced_widgets": [
            "fae037db33204fb79bfc9bccceda876e",
            "4d1ba3d1456f4366a154711eccec5019",
            "15362b0caff049228ae5222aa7082aa5",
            "9edebc7b31034270b04f46ca7a9eceab",
            "a7526688b99344f18c1dafe3e2dfd521",
            "4598d2e622a7470f99db32f841eb9676",
            "5452d3c580df4bdfa2e8d1733da9d36d",
            "a8c01873b21d482b98355fe3610e1abd",
            "2b88f1d4ac1640e49a86f9eb206b423f",
            "2ac973dc096c4e33aae80be44a019e6a",
            "2d1bd946a6714082a9667245304d4b98"
          ]
        },
        "id": "1p6v7N50SqVi",
        "outputId": "af901f9c-6ce6-4946-e888-284026031d4a"
      },
      "outputs": [],
      "source": [
        "def train_MLP(batch_size=32, epochs=10, tracking=False, div_tracking=False, divisor=2):\n",
        "  from torchvision import datasets, transforms\n",
        "  from tqdm.notebook import tqdm, trange\n",
        "\n",
        "  train_loader = torch.utils.data.DataLoader(train_data, batch_size=batch_size, shuffle=True)\n",
        "  test_loader = torch.utils.data.DataLoader(test_data, batch_size=batch_size, shuffle=False)\n",
        "  val_loader = torch.utils.data.DataLoader(test_data, shuffle=False)\n",
        "\n",
        "  ## Training\n",
        "  # Instantiate model  \n",
        "  model = MLP(output1, output2, output3).to(device) \n",
        "\n",
        "  # Loss and Optimizer\n",
        "  base_optimizer = torch.optim.SGD\n",
        "  optimizer = SAM(model.parameters(), base_optimizer,rho=0.05, lr = 0.01, momentum=0.9, weight_decay=0.0005)\n",
        "  # optimizer = SAM(model.parameters(), base_optimizer, lr = 0.01)\n",
        "  criterion = nn.BCEWithLogitsLoss()\n",
        "\n",
        "  training_losses = []\n",
        "  training_accuracies = []\n",
        "  validation_accuracies = []\n",
        "\n",
        "\n",
        "  div_list = []\n",
        "\n",
        "\n",
        "\n",
        "  # Iterate through train set minibatchs \n",
        "  for epoch in trange(epochs):  \n",
        "      per_epoch_loss = 0\n",
        "      correct = 0\n",
        "      for numbers, labels in train_loader:\n",
        "          x = numbers[:,None]\n",
        "          x = x.to(device)\n",
        "          x = encode(x, digits, base).float()\n",
        "          labels = labels.double().to(device)[:,None]\n",
        "          # Zero out the gradients\n",
        "          optimizer.zero_grad()\n",
        "\n",
        "          def closure():\n",
        "            loss = criterion(model(x), labels)\n",
        "            loss.backward()\n",
        "            return loss\n",
        "\n",
        "          # Forward pass\n",
        "          y = model(x)\n",
        "          loss = criterion(y, labels)\n",
        "          if tracking:\n",
        "            # Tracking loss\n",
        "            per_epoch_loss += loss\n",
        "\n",
        "            # Train accuracy tracking\n",
        "            predictions = ((y>0)*1)\n",
        "            correct += torch.sum((predictions == labels).float())\n",
        "\n",
        "            # Validation accuracy tracking\n",
        "\n",
        "\n",
        "          loss.backward()\n",
        "          optimizer.step(closure)\n",
        "      if tracking:\n",
        "        correct_test = 0\n",
        "        with torch.no_grad():\n",
        "                # Iterate through test set minibatchs \n",
        "                for numbers2, labels2 in val_loader:\n",
        "                    numbers2 = numbers2.to(device)\n",
        "                    labels2 = labels2.double().to(device)[:,None]\n",
        "                    # Forward pass\n",
        "                    x2 = numbers2[:,None]\n",
        "                    x2 = encode(x2, digits, base).float()\n",
        "                    y2 = model(x2)\n",
        "                    predictions2 = ((y2>0)*1)[:,0]\n",
        "                    correct_test += torch.sum((predictions2 == labels2).float())\n",
        "\n",
        "        training_losses.append(per_epoch_loss/len(train_loader))\n",
        "        training_accuracies.append(correct/len(train_data))\n",
        "        validation_accuracies.append(correct_test/len(test_data))\n",
        "      if div_tracking:\n",
        "        correct_div = 0\n",
        "        with torch.no_grad():\n",
        "                list_div = [i for i in range(divisor, N, divisor)]\n",
        "                test_div = [(divisor,isPrime(divisor))] + [(number, 0) for number in list_div[1:]]\n",
        "                # Iterate through test set minibatchs \n",
        "                div_loader = torch.utils.data.DataLoader(test_div, shuffle=False)\n",
        "                for numbers3, labels3 in div_loader:\n",
        "                    numbers3 = numbers3.to(device)\n",
        "                    labels3 = labels3.double().to(device)[:,None]\n",
        "                    # Forward pass\n",
        "                    x3 = numbers3[:,None]\n",
        "                    x3 = encode(x3, digits, base).float()\n",
        "                    y3 = model(x3)\n",
        "                    predictions3 = ((y3>0)*1)[:,0]\n",
        "                    correct_div += torch.sum((predictions3 == labels3).float())\n",
        "\n",
        "        div_list.append(1-correct_div/len(test_div))\n",
        "  training_losses = [i.item() for i in training_losses]\n",
        "  training_accuracies = [i.item() for i in training_accuracies]\n",
        "  validation_accuracies = [i.item() for i in validation_accuracies]\n",
        "\n",
        "  return model, training_losses, training_accuracies, validation_accuracies, div_list\n"
      ]
    },
    {
      "cell_type": "code",
      "execution_count": 65,
      "metadata": {},
      "outputs": [
        {
          "data": {
            "application/vnd.jupyter.widget-view+json": {
              "model_id": "68f7de23082044679925b60bbbb83d08",
              "version_major": 2,
              "version_minor": 0
            },
            "text/plain": [
              "HBox(children=(FloatProgress(value=0.0, max=10.0), HTML(value='')))"
            ]
          },
          "metadata": {},
          "output_type": "display_data"
        },
        {
          "name": "stderr",
          "output_type": "stream",
          "text": [
            "<ipython-input-5-5e5797f04886>:5: UserWarning: __floordiv__ is deprecated, and its behavior will change in a future version of pytorch. It currently rounds toward 0 (like the 'trunc' function NOT 'floor'). This results in incorrect rounding for negative values. To keep the current behavior, use torch.div(a, b, rounding_mode='trunc'), or for actual floor division, use torch.div(a, b, rounding_mode='floor').\n",
            "  batch=torch.nn.functional.one_hot(torch.remainder(batch//t[None, :].to(torch.int64), base), num_classes=base)\n"
          ]
        },
        {
          "name": "stdout",
          "output_type": "stream",
          "text": [
            "\n",
            "[tensor(0.0020), tensor(0.3447), tensor(0.8337), tensor(0.0401), tensor(0.0020), tensor(0.3447), tensor(0.0261), tensor(0.0020), tensor(0.0020), tensor(0.0020)]\n"
          ]
        }
      ],
      "source": [
        "model, training_losses, training_accuracies, validation_accuracies, div_list = train_MLP(batch_size=32, epochs=10, tracking=True, div_tracking=True, divisor=2)\n",
        "print(div_list)"
      ]
    },
    {
      "cell_type": "code",
      "execution_count": 66,
      "metadata": {
        "id": "GC-05i3ojNMG"
      },
      "outputs": [],
      "source": [
        "# ## Testing\n",
        "# correct = 0\n",
        "# total = len(test_data)\n",
        "\n",
        "# with torch.no_grad():\n",
        "#     # Iterate through test set minibatchs \n",
        "#     for numbers, labels in tqdm(test_loader):\n",
        "#         numbers = numbers.to(device)\n",
        "#         labels = labels.to(device)\n",
        "#         # Forward pass\n",
        "#         x = numbers[:,None]\n",
        "#         x = encode(x, digits, base).float()\n",
        "#         y = model(x)\n",
        "#         predictions = ((y>0)*1)[:, 0]\n",
        "#         correct += torch.sum((predictions == labels).float())\n",
        "\n",
        "# print('Test accuracy: {}'.format(correct/total))"
      ]
    },
    {
      "cell_type": "code",
      "execution_count": 50,
      "metadata": {},
      "outputs": [
        {
          "data": {
            "text/plain": [
              "[<matplotlib.lines.Line2D at 0x7fe431c67d00>]"
            ]
          },
          "execution_count": 50,
          "metadata": {},
          "output_type": "execute_result"
        },
        {
          "data": {
            "image/png": "[encoded data removed]",
            "text/plain": [
              "<Figure size 432x288 with 1 Axes>"
            ]
          },
          "metadata": {
            "needs_background": "light"
          },
          "output_type": "display_data"
        }
      ],
      "source": [
        "plt.plot([i.item() for i in div_list])"
      ]
    },
    {
      "cell_type": "code",
      "execution_count": 70,
      "metadata": {},
      "outputs": [
        {
          "data": {
            "image/png": "[encoded data removed]",
            "text/plain": [
              "<Figure size 1008x432 with 2 Axes>"
            ]
          },
          "metadata": {
            "needs_background": "light"
          },
          "output_type": "display_data"
        }
      ],
      "source": [
        "plt.figure(figsize=(14, 6))\n",
        "plt.subplot(1, 2, 1)\n",
        "plt.plot(training_losses)\n",
        "plt.title('Training loss')\n",
        "plt.xlabel('epoch')\n",
        "plt.ylabel('loss')\n",
        "\n",
        "plt.subplot(1, 2, 2)\n",
        "plt.plot(training_accuracies, label='training')\n",
        "plt.plot(validation_accuracies, color = 'red', label='validation')\n",
        "plt.title('Accuracies')\n",
        "plt.legend(loc='upper left')\n",
        "plt.xlabel('epoch')\n",
        "plt.ylabel('accuracy')\n",
        "plt.show()\n"
      ]
    },
    {
      "cell_type": "code",
      "execution_count": 12,
      "metadata": {},
      "outputs": [
        {
          "data": {
            "text/plain": [
              "[<matplotlib.lines.Line2D at 0x7fe431b64490>]"
            ]
          },
          "execution_count": 12,
          "metadata": {},
          "output_type": "execute_result"
        },
        {
          "data": {
            "image/png": "[encoded data removed]",
            "text/plain": [
              "<Figure size 432x288 with 1 Axes>"
            ]
          },
          "metadata": {
            "needs_background": "light"
          },
          "output_type": "display_data"
        }
      ],
      "source": [
        "plt.plot([i.item() for i in training_accuracies])\n",
        "plt.plot([i.item() for i in validation_accuracies], color = 'red')"
      ]
    },
    {
      "cell_type": "code",
      "execution_count": 21,
      "metadata": {
        "colab": {
          "base_uri": "https://localhost:8080/",
          "height": 460
        },
        "id": "WmSc91_qSqH_",
        "outputId": "8d8527fe-57b6-4ebf-9d4d-495509ab2aad"
      },
      "outputs": [
        {
          "name": "stderr",
          "output_type": "stream",
          "text": [
            "<ipython-input-5-5e5797f04886>:5: UserWarning: __floordiv__ is deprecated, and its behavior will change in a future version of pytorch. It currently rounds toward 0 (like the 'trunc' function NOT 'floor'). This results in incorrect rounding for negative values. To keep the current behavior, use torch.div(a, b, rounding_mode='trunc'), or for actual floor division, use torch.div(a, b, rounding_mode='floor').\n",
            "  batch=torch.nn.functional.one_hot(torch.remainder(batch//t[None, :].to(torch.int64), base), num_classes=base)\n"
          ]
        },
        {
          "data": {
            "image/png": "[encoded data removed]",
            "text/plain": [
              "<Figure size 1152x432 with 2 Axes>"
            ]
          },
          "metadata": {
            "needs_background": "light"
          },
          "output_type": "display_data"
        }
      ],
      "source": [
        "preds = [float(model(encode(torch.tensor([[i]]), digits, base).float())) for i in range(1,N+1)]\n",
        "\n",
        "plt.figure(figsize=(16, 6))\n",
        "plt.subplot(1, 2, 1)\n",
        "plt.plot(range(1, N+1)[1:100:2], preds[1:100:2], 'o', markersize = 2, label=\"even\")\n",
        "plt.plot(range(1, N+1)[0:100:2], preds[0:100:2], 'ro', markersize = 2, label=\"odd\")\n",
        "#plt.ylim([-100, 100])\n",
        "plt.plot(np.linspace(0, 100, 10000), np.zeros(10000), color='black')\n",
        "plt.xlabel('Number')\n",
        "plt.ylabel('Model outputs')\n",
        "plt.title('Showing divisibility by 2')\n",
        "plt.legend(loc='lower right')\n",
        "\n",
        "plt.subplot(1, 2, 2)\n",
        "# plt.plot(range(1, N+1)[1:100:3], preds[1:100:3], 'ro', markersize = 2, label=\"0 mod 3\")\n",
        "plt.plot(range(1, N+1)[0:100:5], preds[0:100:5], 'go', markersize = 2, label=\"1 mod 5\")\n",
        "plt.plot(range(1, N+1)[1:100:5], preds[1:100:5], 'o', markersize = 2, label=\"2 mod 5\")\n",
        "plt.plot(range(1, N+1)[2:100:5], preds[2:100:5], 'ro', markersize = 2, label=\"3 mod 5\")\n",
        "plt.plot(range(1, N+1)[3:100:5], preds[3:100:5], 'o', markersize = 2, label=\"4 mod 5\")\n",
        "plt.plot(range(1, N+1)[4:100:5], preds[4:100:5], 'bo', markersize = 2, label=\"0 mod 5\")\n",
        "plt.ylim([-100, 100])\n",
        "plt.plot(np.linspace(0, 100, 10000), np.zeros(10000), color='black')\n",
        "plt.xlabel('Number')\n",
        "plt.ylabel('Model outputs')\n",
        "plt.title('Showing divisibility by 5')\n",
        "plt.legend(loc='lower right')\n",
        "plt.show()\n",
        "\n"
      ]
    },
    {
      "cell_type": "code",
      "execution_count": 58,
      "metadata": {
        "colab": {
          "base_uri": "https://localhost:8080/"
        },
        "id": "gdD12E7kFjuV",
        "outputId": "00ff8949-23f3-4f4a-ac39-0c801d90a855"
      },
      "outputs": [
        {
          "name": "stdout",
          "output_type": "stream",
          "text": [
            "[1, 9, 15, 21, 25, 27, 33, 35, 39, 45, 49, 51, 55, 57, 63, 65, 69, 75, 77, 81]\n",
            "[[183, 3, 61.0], [243, 3, 3, 3, 3, 3], [309, 3, 103.0], [319, 11, 29.0], [371, 7, 53.0], [377, 13, 29.0], [427, 7, 61.0], [429, 3, 11, 13], [447, 3, 149.0], [581, 7, 83.0], [671, 11, 61.0], [731, 17, 43.0], [737, 11, 67.0], [753, 3, 251.0], [767, 13, 59.0], [849, 3, 283.0], [927, 3, 3, 103.0], [949, 13, 73.0]]\n",
            "[]\n"
          ]
        }
      ],
      "source": [
        "print([index+1 for index, i in enumerate(preds) if i<0 if index%2==0][:20])\n",
        "print([[index+1]+primeFactors(index+1) for index, i in enumerate(preds) if i > 0 if not isPrime(index+1)])\n",
        "print([index+1 for index, i in enumerate(preds) if i < 0 if isPrime(index+1)])"
      ]
    },
    {
      "cell_type": "code",
      "execution_count": 23,
      "metadata": {
        "id": "UOAlYHCcVRlc"
      },
      "outputs": [
        {
          "data": {
            "application/vnd.jupyter.widget-view+json": {
              "model_id": "986591e1c3ae4b4e9170798ab70e74d1",
              "version_major": 2,
              "version_minor": 0
            },
            "text/plain": [
              "HBox(children=(FloatProgress(value=0.0, max=21.0), HTML(value='')))"
            ]
          },
          "metadata": {},
          "output_type": "display_data"
        },
        {
          "name": "stdout",
          "output_type": "stream",
          "text": [
            "\n",
            "Train accuracy: 1.0\n"
          ]
        },
        {
          "name": "stderr",
          "output_type": "stream",
          "text": [
            "<ipython-input-5-5e5797f04886>:5: UserWarning: __floordiv__ is deprecated, and its behavior will change in a future version of pytorch. It currently rounds toward 0 (like the 'trunc' function NOT 'floor'). This results in incorrect rounding for negative values. To keep the current behavior, use torch.div(a, b, rounding_mode='trunc'), or for actual floor division, use torch.div(a, b, rounding_mode='floor').\n",
            "  batch=torch.nn.functional.one_hot(torch.remainder(batch//t[None, :].to(torch.int64), base), num_classes=base)\n"
          ]
        }
      ],
      "source": [
        "## Testing\n",
        "correct = 0\n",
        "total = len(train_data)\n",
        "\n",
        "with torch.no_grad():\n",
        "    # Iterate through test set minibatchs \n",
        "    for numbers, labels in tqdm(train_loader):\n",
        "        numbers = numbers.to(device)\n",
        "        labels = labels.to(device)\n",
        "        # Forward pass\n",
        "        x = numbers[:,None]\n",
        "        x = encode(x, digits, base).float()\n",
        "        y = model(x)\n",
        "\n",
        "        predictions = ((y>0)*1)[:, 0]\n",
        "        correct += torch.sum((predictions == labels).float())\n",
        "\n",
        "print('Train accuracy: {}'.format(correct/total))"
      ]
    },
    {
      "cell_type": "code",
      "execution_count": 57,
      "metadata": {
        "colab": {
          "base_uri": "https://localhost:8080/"
        },
        "id": "XCT9LpAYIfxi",
        "outputId": "360d9365-19b6-421c-c730-b4d747d70e46"
      },
      "outputs": [
        {
          "name": "stderr",
          "output_type": "stream",
          "text": [
            "<ipython-input-5-5e5797f04886>:5: UserWarning: __floordiv__ is deprecated, and its behavior will change in a future version of pytorch. It currently rounds toward 0 (like the 'trunc' function NOT 'floor'). This results in incorrect rounding for negative values. To keep the current behavior, use torch.div(a, b, rounding_mode='trunc'), or for actual floor division, use torch.div(a, b, rounding_mode='floor').\n",
            "  batch=torch.nn.functional.one_hot(torch.remainder(batch//t[None, :].to(torch.int64), base), num_classes=base)\n"
          ]
        },
        {
          "data": {
            "text/plain": [
              "tensor([[1.7959]], grad_fn=<AddmmBackward0>)"
            ]
          },
          "execution_count": 57,
          "metadata": {},
          "output_type": "execute_result"
        }
      ],
      "source": [
        "x = torch.tensor([[77]])\n",
        "\n",
        "x = encode(x, digits, base).float()\n",
        "model(x)"
      ]
    },
    {
      "cell_type": "code",
      "execution_count": null,
      "metadata": {
        "id": "Tn7ZQUIkW40N"
      },
      "outputs": [],
      "source": []
    }
  ],
  "metadata": {
    "colab": {
      "collapsed_sections": [],
      "name": "Primes_SAM.ipynb",
      "provenance": []
    },
    "kernelspec": {
      "display_name": "Python 3.8.3 ('base')",
      "language": "python",
      "name": "python3"
    },
    "language_info": {
      "codemirror_mode": {
        "name": "ipython",
        "version": 3
      },
      "file_extension": ".py",
      "mimetype": "text/x-python",
      "name": "python",
      "nbconvert_exporter": "python",
      "pygments_lexer": "ipython3",
      "version": "3.8.3"
    },
    "vscode": {
      "interpreter": {
        "hash": "cd78fef2128015050713e82ca51c6520b11aee7c9ee8df750520bbbc7384cbaa"
      }
    },
    "widgets": {
      "application/vnd.jupyter.widget-state+json": {
        "15362b0caff049228ae5222aa7082aa5": {
          "model_module": "@jupyter-widgets/controls",
          "model_module_version": "1.5.0",
          "model_name": "FloatProgressModel",
          "state": {
            "_dom_classes": [],
            "_model_module": "@jupyter-widgets/controls",
            "_model_module_version": "1.5.0",
            "_model_name": "FloatProgressModel",
            "_view_count": null,
            "_view_module": "@jupyter-widgets/controls",
            "_view_module_version": "1.5.0",
            "_view_name": "ProgressView",
            "bar_style": "",
            "description": "",
            "description_tooltip": null,
            "layout": "IPY_MODEL_a8c01873b21d482b98355fe3610e1abd",
            "max": 5000,
            "min": 0,
            "orientation": "horizontal",
            "style": "IPY_MODEL_2b88f1d4ac1640e49a86f9eb206b423f",
            "value": 1714
          }
        },
        "2ac973dc096c4e33aae80be44a019e6a": {
          "model_module": "@jupyter-widgets/base",
          "model_module_version": "1.2.0",
          "model_name": "LayoutModel",
          "state": {
            "_model_module": "@jupyter-widgets/base",
            "_model_module_version": "1.2.0",
            "_model_name": "LayoutModel",
            "_view_count": null,
            "_view_module": "@jupyter-widgets/base",
            "_view_module_version": "1.2.0",
            "_view_name": "LayoutView",
            "align_content": null,
            "align_items": null,
            "align_self": null,
            "border": null,
            "bottom": null,
            "display": null,
            "flex": null,
            "flex_flow": null,
            "grid_area": null,
            "grid_auto_columns": null,
            "grid_auto_flow": null,
            "grid_auto_rows": null,
            "grid_column": null,
            "grid_gap": null,
            "grid_row": null,
            "grid_template_areas": null,
            "grid_template_columns": null,
            "grid_template_rows": null,
            "height": null,
            "justify_content": null,
            "justify_items": null,
            "left": null,
            "margin": null,
            "max_height": null,
            "max_width": null,
            "min_height": null,
            "min_width": null,
            "object_fit": null,
            "object_position": null,
            "order": null,
            "overflow": null,
            "overflow_x": null,
            "overflow_y": null,
            "padding": null,
            "right": null,
            "top": null,
            "visibility": null,
            "width": null
          }
        },
        "2b88f1d4ac1640e49a86f9eb206b423f": {
          "model_module": "@jupyter-widgets/controls",
          "model_module_version": "1.5.0",
          "model_name": "ProgressStyleModel",
          "state": {
            "_model_module": "@jupyter-widgets/controls",
            "_model_module_version": "1.5.0",
            "_model_name": "ProgressStyleModel",
            "_view_count": null,
            "_view_module": "@jupyter-widgets/base",
            "_view_module_version": "1.2.0",
            "_view_name": "StyleView",
            "bar_color": null,
            "description_width": ""
          }
        },
        "2d1bd946a6714082a9667245304d4b98": {
          "model_module": "@jupyter-widgets/controls",
          "model_module_version": "1.5.0",
          "model_name": "DescriptionStyleModel",
          "state": {
            "_model_module": "@jupyter-widgets/controls",
            "_model_module_version": "1.5.0",
            "_model_name": "DescriptionStyleModel",
            "_view_count": null,
            "_view_module": "@jupyter-widgets/base",
            "_view_module_version": "1.2.0",
            "_view_name": "StyleView",
            "description_width": ""
          }
        },
        "4598d2e622a7470f99db32f841eb9676": {
          "model_module": "@jupyter-widgets/base",
          "model_module_version": "1.2.0",
          "model_name": "LayoutModel",
          "state": {
            "_model_module": "@jupyter-widgets/base",
            "_model_module_version": "1.2.0",
            "_model_name": "LayoutModel",
            "_view_count": null,
            "_view_module": "@jupyter-widgets/base",
            "_view_module_version": "1.2.0",
            "_view_name": "LayoutView",
            "align_content": null,
            "align_items": null,
            "align_self": null,
            "border": null,
            "bottom": null,
            "display": null,
            "flex": null,
            "flex_flow": null,
            "grid_area": null,
            "grid_auto_columns": null,
            "grid_auto_flow": null,
            "grid_auto_rows": null,
            "grid_column": null,
            "grid_gap": null,
            "grid_row": null,
            "grid_template_areas": null,
            "grid_template_columns": null,
            "grid_template_rows": null,
            "height": null,
            "justify_content": null,
            "justify_items": null,
            "left": null,
            "margin": null,
            "max_height": null,
            "max_width": null,
            "min_height": null,
            "min_width": null,
            "object_fit": null,
            "object_position": null,
            "order": null,
            "overflow": null,
            "overflow_x": null,
            "overflow_y": null,
            "padding": null,
            "right": null,
            "top": null,
            "visibility": null,
            "width": null
          }
        },
        "4d1ba3d1456f4366a154711eccec5019": {
          "model_module": "@jupyter-widgets/controls",
          "model_module_version": "1.5.0",
          "model_name": "HTMLModel",
          "state": {
            "_dom_classes": [],
            "_model_module": "@jupyter-widgets/controls",
            "_model_module_version": "1.5.0",
            "_model_name": "HTMLModel",
            "_view_count": null,
            "_view_module": "@jupyter-widgets/controls",
            "_view_module_version": "1.5.0",
            "_view_name": "HTMLView",
            "description": "",
            "description_tooltip": null,
            "layout": "IPY_MODEL_4598d2e622a7470f99db32f841eb9676",
            "placeholder": "​",
            "style": "IPY_MODEL_5452d3c580df4bdfa2e8d1733da9d36d",
            "value": " 34%"
          }
        },
        "5452d3c580df4bdfa2e8d1733da9d36d": {
          "model_module": "@jupyter-widgets/controls",
          "model_module_version": "1.5.0",
          "model_name": "DescriptionStyleModel",
          "state": {
            "_model_module": "@jupyter-widgets/controls",
            "_model_module_version": "1.5.0",
            "_model_name": "DescriptionStyleModel",
            "_view_count": null,
            "_view_module": "@jupyter-widgets/base",
            "_view_module_version": "1.2.0",
            "_view_name": "StyleView",
            "description_width": ""
          }
        },
        "9edebc7b31034270b04f46ca7a9eceab": {
          "model_module": "@jupyter-widgets/controls",
          "model_module_version": "1.5.0",
          "model_name": "HTMLModel",
          "state": {
            "_dom_classes": [],
            "_model_module": "@jupyter-widgets/controls",
            "_model_module_version": "1.5.0",
            "_model_name": "HTMLModel",
            "_view_count": null,
            "_view_module": "@jupyter-widgets/controls",
            "_view_module_version": "1.5.0",
            "_view_name": "HTMLView",
            "description": "",
            "description_tooltip": null,
            "layout": "IPY_MODEL_2ac973dc096c4e33aae80be44a019e6a",
            "placeholder": "​",
            "style": "IPY_MODEL_2d1bd946a6714082a9667245304d4b98",
            "value": " 1714/5000 [01:09&lt;02:11, 25.07it/s]"
          }
        },
        "a7526688b99344f18c1dafe3e2dfd521": {
          "model_module": "@jupyter-widgets/base",
          "model_module_version": "1.2.0",
          "model_name": "LayoutModel",
          "state": {
            "_model_module": "@jupyter-widgets/base",
            "_model_module_version": "1.2.0",
            "_model_name": "LayoutModel",
            "_view_count": null,
            "_view_module": "@jupyter-widgets/base",
            "_view_module_version": "1.2.0",
            "_view_name": "LayoutView",
            "align_content": null,
            "align_items": null,
            "align_self": null,
            "border": null,
            "bottom": null,
            "display": null,
            "flex": null,
            "flex_flow": null,
            "grid_area": null,
            "grid_auto_columns": null,
            "grid_auto_flow": null,
            "grid_auto_rows": null,
            "grid_column": null,
            "grid_gap": null,
            "grid_row": null,
            "grid_template_areas": null,
            "grid_template_columns": null,
            "grid_template_rows": null,
            "height": null,
            "justify_content": null,
            "justify_items": null,
            "left": null,
            "margin": null,
            "max_height": null,
            "max_width": null,
            "min_height": null,
            "min_width": null,
            "object_fit": null,
            "object_position": null,
            "order": null,
            "overflow": null,
            "overflow_x": null,
            "overflow_y": null,
            "padding": null,
            "right": null,
            "top": null,
            "visibility": null,
            "width": null
          }
        },
        "a8c01873b21d482b98355fe3610e1abd": {
          "model_module": "@jupyter-widgets/base",
          "model_module_version": "1.2.0",
          "model_name": "LayoutModel",
          "state": {
            "_model_module": "@jupyter-widgets/base",
            "_model_module_version": "1.2.0",
            "_model_name": "LayoutModel",
            "_view_count": null,
            "_view_module": "@jupyter-widgets/base",
            "_view_module_version": "1.2.0",
            "_view_name": "LayoutView",
            "align_content": null,
            "align_items": null,
            "align_self": null,
            "border": null,
            "bottom": null,
            "display": null,
            "flex": null,
            "flex_flow": null,
            "grid_area": null,
            "grid_auto_columns": null,
            "grid_auto_flow": null,
            "grid_auto_rows": null,
            "grid_column": null,
            "grid_gap": null,
            "grid_row": null,
            "grid_template_areas": null,
            "grid_template_columns": null,
            "grid_template_rows": null,
            "height": null,
            "justify_content": null,
            "justify_items": null,
            "left": null,
            "margin": null,
            "max_height": null,
            "max_width": null,
            "min_height": null,
            "min_width": null,
            "object_fit": null,
            "object_position": null,
            "order": null,
            "overflow": null,
            "overflow_x": null,
            "overflow_y": null,
            "padding": null,
            "right": null,
            "top": null,
            "visibility": null,
            "width": null
          }
        },
        "fae037db33204fb79bfc9bccceda876e": {
          "model_module": "@jupyter-widgets/controls",
          "model_module_version": "1.5.0",
          "model_name": "HBoxModel",
          "state": {
            "_dom_classes": [],
            "_model_module": "@jupyter-widgets/controls",
            "_model_module_version": "1.5.0",
            "_model_name": "HBoxModel",
            "_view_count": null,
            "_view_module": "@jupyter-widgets/controls",
            "_view_module_version": "1.5.0",
            "_view_name": "HBoxView",
            "box_style": "",
            "children": [
              "IPY_MODEL_4d1ba3d1456f4366a154711eccec5019",
              "IPY_MODEL_15362b0caff049228ae5222aa7082aa5",
              "IPY_MODEL_9edebc7b31034270b04f46ca7a9eceab"
            ],
            "layout": "IPY_MODEL_a7526688b99344f18c1dafe3e2dfd521"
          }
        }
      }
    }
  },
  "nbformat": 4,
  "nbformat_minor": 0
}
