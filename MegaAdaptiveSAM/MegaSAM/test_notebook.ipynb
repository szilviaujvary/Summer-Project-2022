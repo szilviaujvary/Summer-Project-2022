{
 "cells": [
  {
   "cell_type": "code",
   "execution_count": 1,
   "metadata": {},
   "outputs": [],
   "source": [
    "from test import *\n"
   ]
  },
  {
   "cell_type": "code",
   "execution_count": 2,
   "metadata": {},
   "outputs": [
    {
     "data": {
      "application/vnd.jupyter.widget-view+json": {
       "model_id": "ae0ded7e6bad49039df6f17d709b4bba",
       "version_major": 2,
       "version_minor": 0
      },
      "text/plain": [
       "  0%|          | 0/5 [00:00<?, ?it/s]"
      ]
     },
     "metadata": {},
     "output_type": "display_data"
    }
   ],
   "source": [
    "model, training_losses, training_accuracies, validation_accuracies = train_multi_model(train_data=training_set, test_data=test_set, model=MLP,\n",
    "                        optim=\"SAM\", batch_size=100, epochs=5, tracking=True)\n",
    "                        "
   ]
  },
  {
   "cell_type": "code",
   "execution_count": 3,
   "metadata": {},
   "outputs": [
    {
     "name": "stdout",
     "output_type": "stream",
     "text": [
      "SAM training accuracies: [0.7462999820709229, 0.9121666550636292, 0.9282833337783813, 0.9371833205223083, 0.9430333375930786]\n",
      "SAM validation accuracies: [0.8942999839782715, 0.9240999817848206, 0.9336000084877014, 0.9412999749183655, 0.944100022315979]\n"
     ]
    }
   ],
   "source": [
    "print(f\"SAM training accuracies: {training_accuracies}\")\n",
    "print(f\"SAM validation accuracies: {validation_accuracies}\")"
   ]
  },
  {
   "cell_type": "code",
   "execution_count": 1,
   "metadata": {},
   "outputs": [],
   "source": [
    "# be careful with comparisons, you have to restart the kernel every time to initialize a new model\n",
    "from test import *"
   ]
  },
  {
   "cell_type": "code",
   "execution_count": 2,
   "metadata": {},
   "outputs": [
    {
     "data": {
      "application/vnd.jupyter.widget-view+json": {
       "model_id": "4b8241ecf4f144bca3f9032b539a96ce",
       "version_major": 2,
       "version_minor": 0
      },
      "text/plain": [
       "  0%|          | 0/5 [00:00<?, ?it/s]"
      ]
     },
     "metadata": {},
     "output_type": "display_data"
    },
    {
     "name": "stderr",
     "output_type": "stream",
     "text": [
      "c:\\Users\\szilv\\OneDrive\\Dokumentumok\\summer_2022\\Summer-2022\\MegaAdaptiveSAM\\MegaSAM\\mega_adaptive_sam.py:91: UserWarning: The use of `x.T` on tensors of dimension other than 2 to reverse their shape is deprecated and it will throw an error in a future release. Consider `x.mT` to transpose batches of matricesor `x.permute(*torch.arange(x.ndim - 1, -1, -1))` to reverse the dimensions of a tensor. (Triggered internally at  C:\\actions-runner\\_work\\pytorch\\pytorch\\builder\\windows\\pytorch\\aten\\src\\ATen\\native\\TensorShape.cpp:2985.)\n",
      "  norm = torch.sqrt(M_inv.T @ grads_flattened**2)\n"
     ]
    }
   ],
   "source": [
    "model, training_losses, training_accuracies, validation_accuracies = train_multi_model(train_data=training_set, test_data=test_set, model=MLP,\n",
    "                        optim=\"MegaSAM\", batch_size=100, epochs=5, tracking=True)"
   ]
  },
  {
   "cell_type": "code",
   "execution_count": 3,
   "metadata": {},
   "outputs": [
    {
     "name": "stdout",
     "output_type": "stream",
     "text": [
      "SAM training accuracies: [0.4179333448410034, 0.8238499760627747, 0.8766833543777466, 0.8924166560173035, 0.9017500281333923]\n",
      "SAM validation accuracies: [0.7551000118255615, 0.8705999851226807, 0.8917999863624573, 0.9021999835968018, 0.9074000120162964]\n"
     ]
    }
   ],
   "source": [
    "print(f\"SAM training accuracies: {training_accuracies}\")\n",
    "print(f\"SAM validation accuracies: {validation_accuracies}\")"
   ]
  },
  {
   "cell_type": "code",
   "execution_count": null,
   "metadata": {},
   "outputs": [],
   "source": []
  }
 ],
 "metadata": {
  "kernelspec": {
   "display_name": "Python 3.9.7 ('summer_venv': venv)",
   "language": "python",
   "name": "python3"
  },
  "language_info": {
   "codemirror_mode": {
    "name": "ipython",
    "version": 3
   },
   "file_extension": ".py",
   "mimetype": "text/x-python",
   "name": "python",
   "nbconvert_exporter": "python",
   "pygments_lexer": "ipython3",
   "version": "3.9.7"
  },
  "orig_nbformat": 4,
  "vscode": {
   "interpreter": {
    "hash": "b8ea205e4e66ef442b0492f00be4073d98056112e4a1c26a4f26bb5aea81c264"
   }
  }
 },
 "nbformat": 4,
 "nbformat_minor": 2
}
