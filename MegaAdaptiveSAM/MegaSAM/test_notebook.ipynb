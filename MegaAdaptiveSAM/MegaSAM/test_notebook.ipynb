{
 "cells": [
  {
   "cell_type": "code",
   "execution_count": 1,
   "metadata": {},
   "outputs": [],
   "source": [
    "import numpy as np\n",
    "import torch\n",
    "import torch.nn as nn\n",
    "import torch.nn.functional as F\n",
    "from torchvision import datasets, transforms\n",
    "from tqdm.notebook import tqdm, trange\n",
    "# from sklearn import datasets\n",
    "from tqdm.notebook import tqdm\n",
    "import matplotlib.pyplot as plt\n",
    "device = \"cuda\" if torch.cuda.is_available() else \"cpu\"\n",
    "from sam.sam import SAM\n",
    "\n",
    "from mega_sam_feri import MegaSAM\n",
    "from NN_utils import train_multi_model\n",
    "import pickle\n",
    "import blosc\n"
   ]
  },
  {
   "cell_type": "code",
   "execution_count": 2,
   "metadata": {},
   "outputs": [],
   "source": [
    "with open(\"compressed_training\", \"rb\") as f:\n",
    "    compressed_pickle = f.read()\n",
    "\n",
    "depressed_pickle = blosc.decompress(compressed_pickle)\n",
    "training_set = pickle.loads(depressed_pickle)  # turn bytes object back into data\n",
    "\n",
    "with open(\"compressed_test\", \"rb\") as f:\n",
    "    compressed_pickle = f.read()\n",
    "\n",
    "depressed_pickle = blosc.decompress(compressed_pickle)\n",
    "test_set = pickle.loads(depressed_pickle)\n",
    "\n",
    "# with open ('compressed_training', 'rb') as fp:\n",
    "#     training_set = pickle.load(fp)\n",
    "# with open ('compressed_test', 'rb') as fp:\n",
    "#     test_set = pickle.load(fp)"
   ]
  },
  {
   "cell_type": "code",
   "execution_count": 3,
   "metadata": {},
   "outputs": [],
   "source": [
    "# We can compress data like this\n",
    "# import blosc\n",
    "# pickled_data = pickle.dumps(test_set)  # returns data as a bytes object\n",
    "# compressed_pickle = blosc.compress(pickled_data)\n",
    "\n",
    "# with open(\"compressed_test\", \"wb\") as f:\n",
    "#     f.write(compressed_pickle)"
   ]
  },
  {
   "cell_type": "code",
   "execution_count": 4,
   "metadata": {},
   "outputs": [
    {
     "name": "stdout",
     "output_type": "stream",
     "text": [
      "5\n"
     ]
    },
    {
     "data": {
      "image/png": "[encoded data removed]",
      "text/plain": [
       "<Figure size 432x288 with 1 Axes>"
      ]
     },
     "metadata": {
      "needs_background": "light"
     },
     "output_type": "display_data"
    }
   ],
   "source": [
    "n = 244\n",
    "print(training_set[n][1])\n",
    "plt.pcolor(training_set[n][0].numpy().reshape((28,28)))\n",
    "plt.gca().invert_yaxis()\n",
    "\n",
    "# print(torch.argmax(model(training_set[0][0])))"
   ]
  },
  {
   "cell_type": "code",
   "execution_count": 5,
   "metadata": {},
   "outputs": [],
   "source": [
    "output1 = 64\n",
    "output2 = 32\n",
    "\n",
    "MLP = nn.Sequential(\n",
    "    nn.Linear(28 * 28, output1),\n",
    "    nn.ReLU(),\n",
    "    nn.Linear(output1, 10),\n",
    "    # nn.ReLU(),\n",
    "    # nn.Linear(output2, 10)\n",
    "    )"
   ]
  },
  {
   "cell_type": "code",
   "execution_count": 6,
   "metadata": {},
   "outputs": [
    {
     "name": "stdout",
     "output_type": "stream",
     "text": [
      "Starting M: [tensor([[1.3706, 1.1836, 1.4389,  ..., 1.2711, 1.1349, 1.0224],\n",
      "        [1.2410, 0.9836, 1.0918,  ..., 0.9815, 0.8754, 0.9994],\n",
      "        [1.0472, 0.9313, 1.3028,  ..., 1.2116, 0.9969, 0.8366],\n",
      "        ...,\n",
      "        [0.7911, 1.1267, 1.2969,  ..., 1.2937, 1.1466, 0.7562],\n",
      "        [1.2356, 0.8054, 1.0801,  ..., 1.3566, 0.7474, 0.9450],\n",
      "        [1.3654, 1.4385, 0.7172,  ..., 1.1065, 1.1017, 0.7871]],\n",
      "       grad_fn=<MulBackward0>), tensor([1.2487, 0.9965, 1.4136, 0.8018, 0.6199, 1.3061, 0.5036, 1.2602, 0.9233,\n",
      "        0.7007, 0.9946, 1.0434, 1.4739, 1.1294, 0.9170, 0.9930, 0.4201, 0.7596,\n",
      "        0.7808, 1.0932, 1.4355, 0.6670, 0.8176, 1.0246, 0.5537, 1.3455, 0.9569,\n",
      "        1.4070, 1.1398, 0.8607, 1.2698, 0.8352, 0.9051, 1.8269, 1.1514, 0.8999,\n",
      "        0.6586, 1.2158, 0.7529, 0.8599, 0.5684, 0.7033, 1.3177, 1.0564, 1.3572,\n",
      "        1.1230, 1.3546, 1.0589, 0.9004, 1.0192, 1.1445, 0.9744, 0.9024, 0.7162,\n",
      "        0.8729, 1.1418, 1.1688, 1.2229, 1.5397, 0.9041, 1.0399, 0.6676, 1.0338,\n",
      "        1.4560], grad_fn=<MulBackward0>), tensor([[ 0.6136,  1.2638,  1.3609,  0.6312,  1.1386,  0.8241,  0.9536,  1.1598,\n",
      "          1.1481,  0.8104,  0.8010,  0.8150,  0.8296,  1.3970,  1.2754,  0.6424,\n",
      "          1.1618,  0.9100,  1.2170,  1.0920,  0.4734,  0.8184,  1.1019,  1.0763,\n",
      "          0.9822,  0.8186,  1.0464,  1.3944,  1.1043,  1.2743,  1.2407,  0.8220,\n",
      "          0.9672,  0.6211,  0.5082,  1.1026,  1.0680,  1.3745,  0.5311,  0.7923,\n",
      "          1.0805,  0.6263,  0.6709,  1.0360,  1.2050,  1.0250,  1.0130,  1.1051,\n",
      "          0.7773,  1.3087,  1.0814,  0.5603,  1.2552,  0.7935,  0.9182,  1.2485,\n",
      "          1.1901,  1.0199,  1.0087,  1.5163,  0.7581,  1.0270,  0.9865,  1.1905],\n",
      "        [ 1.3617,  0.9816,  1.3382,  0.8414,  0.4511,  0.9153,  0.8147,  1.4825,\n",
      "          0.9050,  1.2623,  1.3330,  0.5585,  1.0461,  1.4858,  0.7942,  0.6234,\n",
      "          1.2209,  1.0971,  0.8710,  0.8004,  1.0888,  1.3237,  0.9363,  0.6572,\n",
      "          1.2279,  1.0793,  0.9315,  0.6460,  2.0553,  0.6010,  0.8518,  1.1314,\n",
      "          1.2649,  0.9285,  1.3278,  0.7144,  1.0575,  1.1552,  0.7951,  1.1141,\n",
      "          0.7799,  0.9815,  0.9056,  0.9252,  0.9996,  0.8775,  0.8653,  0.8868,\n",
      "          0.6831,  1.7273,  1.1936,  1.0876,  0.8753,  1.1128,  0.8492,  1.3529,\n",
      "          0.7993,  0.9386,  0.9692,  1.0087,  1.1934,  0.9274,  0.9042,  1.2181],\n",
      "        [ 1.2885,  1.0268,  1.5637,  1.2324,  1.4677,  1.1338,  1.2821,  0.5928,\n",
      "          1.0560,  1.3998,  0.6588,  1.0676,  0.9335,  0.7955,  1.2356,  1.2818,\n",
      "          1.3522,  1.1143,  0.7998,  0.6002,  1.0657,  1.0567,  0.9297,  1.1003,\n",
      "          0.9143,  0.9279,  0.9890,  0.9368,  1.1435,  1.1567,  1.2697,  0.7136,\n",
      "          0.9235,  1.0381,  1.0712,  1.3385,  0.5736,  0.5240,  0.6783,  1.0424,\n",
      "          1.0790,  0.8089,  1.1486,  1.0204,  1.1276,  0.9655,  1.5546,  1.4398,\n",
      "          1.1223,  0.6696,  0.8716,  1.0897,  0.8707,  0.9560,  1.0881,  1.6476,\n",
      "          0.7946,  0.8010,  0.8345,  1.1073,  1.4386,  1.2217,  0.7601,  0.8863],\n",
      "        [ 1.2638,  1.0227,  0.9645,  1.0493,  0.8948,  1.0710,  0.7446,  0.8566,\n",
      "          0.9223,  0.9723,  1.1760,  0.7701,  1.1072,  0.9763,  0.8939,  1.1439,\n",
      "          1.3779,  1.4977,  1.2063,  1.1393,  1.4719,  1.1029,  0.5788,  1.2353,\n",
      "          1.0843,  0.6689,  1.0253,  0.8649,  0.7312,  0.8480,  0.5028,  1.0591,\n",
      "          1.0766,  1.0756,  0.8000,  1.2486,  0.5522,  0.9347,  1.1099,  1.0092,\n",
      "          0.8670,  0.7133,  0.9654,  0.8104,  0.8773,  1.2225,  1.2657,  1.1256,\n",
      "          1.1137,  0.9630,  1.1144,  1.1374,  1.0311,  1.2492,  1.1848,  0.8170,\n",
      "          1.2314,  1.3954,  1.3009,  0.6492,  0.7618,  1.0529,  0.8742,  0.8786],\n",
      "        [ 1.0351,  1.1816,  0.6888,  1.2603,  0.6667,  0.7492,  0.9529,  0.6118,\n",
      "          0.9367,  1.2871,  1.0600,  1.0303,  0.8982,  1.3813,  1.0616,  1.0094,\n",
      "          0.9290,  1.1286,  1.0262,  0.8097,  0.8482,  0.8356,  0.5727,  0.5545,\n",
      "          1.3753,  0.7151,  1.1018,  0.7572,  0.3110,  0.9207,  1.0654,  0.6287,\n",
      "          1.0432,  1.0525,  1.1615,  0.7012,  0.8516,  0.6718,  1.1327,  1.0784,\n",
      "          0.6762,  1.3075,  0.7352,  1.2853,  1.2950,  0.7893,  1.3450,  0.8256,\n",
      "          0.9600,  0.9920,  1.1920,  0.9438,  1.4582,  1.3338,  1.4446,  1.0558,\n",
      "          1.5791,  1.1544,  1.0897,  1.2795,  1.3804,  1.4866,  0.8077,  0.6850],\n",
      "        [ 1.4469,  0.7287,  0.3637,  1.2694,  1.2277,  0.9315,  0.9675,  0.5351,\n",
      "          1.2217,  1.1372,  1.2795,  1.0017,  0.6911,  0.8471,  1.0144,  1.0594,\n",
      "          0.9334,  0.8313,  1.2044,  1.1660,  1.0434,  0.7859,  1.0492,  0.3843,\n",
      "          0.9877,  1.2599,  1.0662,  0.8334,  0.4741,  1.0426,  0.7819,  1.1064,\n",
      "          1.3466,  0.6898,  0.8474,  1.2248,  1.3959,  1.3512,  1.6365,  1.7308,\n",
      "          1.2535,  1.3586,  0.8286,  0.7062,  0.5576,  1.3958,  1.2381,  0.8694,\n",
      "          0.6090,  1.1359,  0.6452,  1.0695,  0.6375,  1.2352,  1.2010,  1.0069,\n",
      "          0.9127,  1.2564,  0.7487,  1.0212,  0.9095,  0.9017,  0.7768,  0.6113],\n",
      "        [ 1.2085,  1.0063,  1.1407,  1.0740,  0.6582,  1.0648,  0.7385,  0.9505,\n",
      "          0.9715,  1.2053,  0.7262,  1.4919,  1.3763,  1.0239,  0.9579,  1.1175,\n",
      "          1.1952,  0.7388,  1.4170,  1.0635,  1.0611,  0.8018,  0.8065,  0.7967,\n",
      "          0.5474,  0.7725,  0.8480,  1.2623,  0.9505,  0.9265,  0.5640,  0.5483,\n",
      "          1.0271,  0.9434,  1.3961,  0.9001,  0.3263,  1.1752,  1.5478,  0.7466,\n",
      "          1.0591,  0.9970,  1.3575,  0.8585,  0.6147,  0.9652,  1.2871,  0.9747,\n",
      "          0.8079,  1.3715,  1.1589,  0.6813,  0.8532,  1.3020,  1.0902,  1.3871,\n",
      "          1.0188,  1.1373, -0.0354,  0.9314,  1.3077,  0.7162,  1.1012,  1.0508],\n",
      "        [ 1.2402,  1.1641,  0.7154,  1.0709,  1.0531,  0.8014,  1.2984,  0.9485,\n",
      "          1.4358,  1.2001,  0.7514,  0.6317,  1.0600,  0.9865,  0.6867,  0.7678,\n",
      "          1.3948,  0.8969,  1.0561,  0.7971,  0.4847,  0.9664,  0.8595,  0.8719,\n",
      "          0.9172,  1.5303,  0.9262,  0.6840,  1.1135,  1.4189,  0.8939,  0.7151,\n",
      "          1.1195,  1.2027,  1.1140,  1.0039,  1.0093,  0.9012,  1.3291,  0.7242,\n",
      "          1.2819,  1.0501,  1.5640,  0.9759,  0.8231,  0.9400,  0.9331,  0.6950,\n",
      "          0.9276,  1.3437,  1.1116,  0.5868,  0.8107,  0.9913,  1.3866,  1.4488,\n",
      "          1.2984,  1.1600,  0.6717,  0.5839,  0.9947,  1.3394,  1.2432,  0.8800],\n",
      "        [ 1.3348,  1.0961,  0.9248,  1.2110,  1.2807,  1.0409,  1.5154,  1.2040,\n",
      "          0.6502,  0.9122,  1.2294,  1.3073,  0.4706,  1.1196,  0.5264,  1.1265,\n",
      "          1.3246,  0.6404,  0.7449,  0.8180,  0.7268,  1.3251,  1.1438,  0.7676,\n",
      "          0.9402,  1.2185,  1.1947,  0.9973,  1.0600,  1.2656,  0.7509,  1.1978,\n",
      "          0.9870,  0.9437,  1.0946,  0.9642,  0.6519,  1.2264,  1.0770,  0.9934,\n",
      "          0.8782,  1.1128,  0.6250,  0.4302,  1.0523,  0.8014,  1.0923,  0.8703,\n",
      "          1.0652,  0.5072,  1.3428,  0.8335,  1.1940,  1.4974,  0.7999,  1.0890,\n",
      "          1.3481,  0.6972,  1.0907,  0.7268,  0.9468,  1.1014,  1.1482,  0.6247],\n",
      "        [ 0.8117,  0.8691,  1.1211,  1.2581,  0.7835,  1.1122,  0.1818,  1.0680,\n",
      "          1.0888,  1.0107,  0.7464,  0.3964,  0.9150,  0.8736,  0.5564,  0.9361,\n",
      "          1.5674,  0.3972,  0.6656,  1.0317,  1.1326,  1.1962,  0.9585,  1.1797,\n",
      "          0.8683,  0.8849,  1.4378,  0.6808,  1.0801,  1.2118,  1.0499,  0.8928,\n",
      "          1.2914,  1.5411,  1.0666,  0.9974,  1.4918,  1.2221,  0.3858,  1.4105,\n",
      "          1.0202,  1.3427,  0.7850,  0.8826,  0.8126,  0.4725,  1.1732,  1.0711,\n",
      "          0.9926,  1.0772,  1.0702,  0.3925,  0.8399,  0.5644,  1.1695,  1.1163,\n",
      "          0.7312,  0.5628,  1.0818,  1.1224,  1.1480,  0.9365,  0.6309,  1.0159]],\n",
      "       grad_fn=<MulBackward0>), tensor([0.7122, 0.8095, 0.9711, 0.8567, 0.8847, 0.5845, 0.9200, 1.1124, 0.8009,\n",
      "        0.7163], grad_fn=<MulBackward0>)]\n"
     ]
    },
    {
     "ename": "ValueError",
     "evalue": "can't optimize a non-leaf Tensor",
     "output_type": "error",
     "traceback": [
      "\u001b[1;31m---------------------------------------------------------------------------\u001b[0m",
      "\u001b[1;31mValueError\u001b[0m                                Traceback (most recent call last)",
      "\u001b[1;32mc:\\Users\\szilv\\OneDrive\\Dokumentumok\\summer_2022\\Summer-2022\\MegaAdaptiveSAM\\MegaSAM\\test_notebook.ipynb Cell 6\u001b[0m in \u001b[0;36m<cell line: 1>\u001b[1;34m()\u001b[0m\n\u001b[1;32m----> <a href='vscode-notebook-cell:/c%3A/Users/szilv/OneDrive/Dokumentumok/summer_2022/Summer-2022/MegaAdaptiveSAM/MegaSAM/test_notebook.ipynb#W5sZmlsZQ%3D%3D?line=0'>1</a>\u001b[0m model, training_losses, training_accuracies, validation_accuracies, optimizer \u001b[39m=\u001b[39m train_multi_model(train_data\u001b[39m=\u001b[39;49mtraining_set, test_data\u001b[39m=\u001b[39;49mtest_set, model\u001b[39m=\u001b[39;49mMLP,\n\u001b[0;32m      <a href='vscode-notebook-cell:/c%3A/Users/szilv/OneDrive/Dokumentumok/summer_2022/Summer-2022/MegaAdaptiveSAM/MegaSAM/test_notebook.ipynb#W5sZmlsZQ%3D%3D?line=1'>2</a>\u001b[0m                         optim\u001b[39m=\u001b[39;49m\u001b[39m\"\u001b[39;49m\u001b[39mMegaSAM\u001b[39;49m\u001b[39m\"\u001b[39;49m, batch_size\u001b[39m=\u001b[39;49m\u001b[39m128\u001b[39;49m, epochs\u001b[39m=\u001b[39;49m\u001b[39m5\u001b[39;49m, tracking\u001b[39m=\u001b[39;49m\u001b[39mTrue\u001b[39;49;00m, alpha\u001b[39m=\u001b[39;49m\u001b[39m.2\u001b[39;49m, lr_M\u001b[39m=\u001b[39;49m\u001b[39m10\u001b[39;49m, lr\u001b[39m=\u001b[39;49m\u001b[39m.2\u001b[39;49m)\n",
      "File \u001b[1;32mc:\\Users\\szilv\\OneDrive\\Dokumentumok\\summer_2022\\Summer-2022\\MegaAdaptiveSAM\\MegaSAM\\NN_utils.py:76\u001b[0m, in \u001b[0;36mtrain_multi_model\u001b[1;34m(model, train_data, test_data, optim, batch_size, epochs, tracking, shuffle_loader, lr, momentum, criterion, rho, alpha, lr_M)\u001b[0m\n\u001b[0;32m     74\u001b[0m \u001b[39mif\u001b[39;00m optim \u001b[39m==\u001b[39m \u001b[39m'\u001b[39m\u001b[39mMegaSAM\u001b[39m\u001b[39m'\u001b[39m:\n\u001b[0;32m     75\u001b[0m     base_optimizer \u001b[39m=\u001b[39m torch\u001b[39m.\u001b[39moptim\u001b[39m.\u001b[39mSGD\n\u001b[1;32m---> 76\u001b[0m     optimizer \u001b[39m=\u001b[39m MegaSAM(model\u001b[39m.\u001b[39;49mparameters(), base_optimizer\u001b[39m=\u001b[39;49mbase_optimizer, lr\u001b[39m=\u001b[39;49mlr, lr_M\u001b[39m=\u001b[39;49mlr_M, alpha\u001b[39m=\u001b[39;49malpha)\n\u001b[0;32m     78\u001b[0m training_losses \u001b[39m=\u001b[39m []\n\u001b[0;32m     79\u001b[0m training_accuracies \u001b[39m=\u001b[39m []\n",
      "File \u001b[1;32mc:\\Users\\szilv\\OneDrive\\Dokumentumok\\summer_2022\\Summer-2022\\MegaAdaptiveSAM\\MegaSAM\\mega_sam_feri.py:36\u001b[0m, in \u001b[0;36mMegaSAM.__init__\u001b[1;34m(self, params, base_optimizer, lr_M, rho, alpha, trace_penalty, **kwargs)\u001b[0m\n\u001b[0;32m     32\u001b[0m     \u001b[39mself\u001b[39m\u001b[39m.\u001b[39mM_param_groups\u001b[39m.\u001b[39mappend(M_param_group)\n\u001b[0;32m     34\u001b[0m \u001b[39mprint\u001b[39m(\u001b[39mf\u001b[39m\u001b[39m\"\u001b[39m\u001b[39mStarting M: \u001b[39m\u001b[39m{\u001b[39;00m\u001b[39mself\u001b[39m\u001b[39m.\u001b[39mM_param_groups[\u001b[39m0\u001b[39m][\u001b[39m'\u001b[39m\u001b[39mparams\u001b[39m\u001b[39m'\u001b[39m]\u001b[39m}\u001b[39;00m\u001b[39m\"\u001b[39m)\n\u001b[1;32m---> 36\u001b[0m \u001b[39mself\u001b[39m\u001b[39m.\u001b[39mbase_optimizer \u001b[39m=\u001b[39m base_optimizer(\n\u001b[0;32m     37\u001b[0m     \u001b[39mself\u001b[39m\u001b[39m.\u001b[39mparam_groups \u001b[39m+\u001b[39m \u001b[39mself\u001b[39m\u001b[39m.\u001b[39mM_param_groups, \u001b[39m*\u001b[39m\u001b[39m*\u001b[39mkwargs)\n\u001b[0;32m     39\u001b[0m \u001b[39mself\u001b[39m\u001b[39m.\u001b[39meps \u001b[39m=\u001b[39m \u001b[39mmax\u001b[39m(torch\u001b[39m.\u001b[39mfinfo(\n\u001b[0;32m     40\u001b[0m     \u001b[39mself\u001b[39m\u001b[39m.\u001b[39mparam_groups[\u001b[39m0\u001b[39m][\u001b[39m'\u001b[39m\u001b[39mparams\u001b[39m\u001b[39m'\u001b[39m][\u001b[39m0\u001b[39m]\u001b[39m.\u001b[39mdtype)\u001b[39m.\u001b[39meps, \u001b[39m1e-12\u001b[39m)\n\u001b[0;32m     42\u001b[0m \u001b[39mself\u001b[39m\u001b[39m.\u001b[39mshared_device \u001b[39m=\u001b[39m \u001b[39mself\u001b[39m\u001b[39m.\u001b[39mparam_groups[\u001b[39m0\u001b[39m][\u001b[39m\"\u001b[39m\u001b[39mparams\u001b[39m\u001b[39m\"\u001b[39m][\u001b[39m0\u001b[39m]\u001b[39m.\u001b[39mdevice\n",
      "File \u001b[1;32mc:\\Users\\szilv\\OneDrive\\Dokumentumok\\summer_2022\\summer_venv\\lib\\site-packages\\torch\\optim\\sgd.py:105\u001b[0m, in \u001b[0;36mSGD.__init__\u001b[1;34m(self, params, lr, momentum, dampening, weight_decay, nesterov, maximize, foreach)\u001b[0m\n\u001b[0;32m    103\u001b[0m \u001b[39mif\u001b[39;00m nesterov \u001b[39mand\u001b[39;00m (momentum \u001b[39m<\u001b[39m\u001b[39m=\u001b[39m \u001b[39m0\u001b[39m \u001b[39mor\u001b[39;00m dampening \u001b[39m!=\u001b[39m \u001b[39m0\u001b[39m):\n\u001b[0;32m    104\u001b[0m     \u001b[39mraise\u001b[39;00m \u001b[39mValueError\u001b[39;00m(\u001b[39m\"\u001b[39m\u001b[39mNesterov momentum requires a momentum and zero dampening\u001b[39m\u001b[39m\"\u001b[39m)\n\u001b[1;32m--> 105\u001b[0m \u001b[39msuper\u001b[39;49m(SGD, \u001b[39mself\u001b[39;49m)\u001b[39m.\u001b[39;49m\u001b[39m__init__\u001b[39;49m(params, defaults)\n",
      "File \u001b[1;32mc:\\Users\\szilv\\OneDrive\\Dokumentumok\\summer_2022\\summer_venv\\lib\\site-packages\\torch\\optim\\optimizer.py:54\u001b[0m, in \u001b[0;36mOptimizer.__init__\u001b[1;34m(self, params, defaults)\u001b[0m\n\u001b[0;32m     51\u001b[0m     param_groups \u001b[39m=\u001b[39m [{\u001b[39m'\u001b[39m\u001b[39mparams\u001b[39m\u001b[39m'\u001b[39m: param_groups}]\n\u001b[0;32m     53\u001b[0m \u001b[39mfor\u001b[39;00m param_group \u001b[39min\u001b[39;00m param_groups:\n\u001b[1;32m---> 54\u001b[0m     \u001b[39mself\u001b[39;49m\u001b[39m.\u001b[39;49madd_param_group(param_group)\n\u001b[0;32m     56\u001b[0m \u001b[39m# Allows _cuda_graph_capture_health_check to rig a poor man's TORCH_WARN_ONCE in python,\u001b[39;00m\n\u001b[0;32m     57\u001b[0m \u001b[39m# which I don't think exists\u001b[39;00m\n\u001b[0;32m     58\u001b[0m \u001b[39m# https://github.com/pytorch/pytorch/issues/72948\u001b[39;00m\n\u001b[0;32m     59\u001b[0m \u001b[39mself\u001b[39m\u001b[39m.\u001b[39m_warned_capturable_if_run_uncaptured \u001b[39m=\u001b[39m \u001b[39mTrue\u001b[39;00m\n",
      "File \u001b[1;32mc:\\Users\\szilv\\OneDrive\\Dokumentumok\\summer_2022\\summer_venv\\lib\\site-packages\\torch\\optim\\optimizer.py:292\u001b[0m, in \u001b[0;36mOptimizer.add_param_group\u001b[1;34m(self, param_group)\u001b[0m\n\u001b[0;32m    289\u001b[0m         \u001b[39mraise\u001b[39;00m \u001b[39mTypeError\u001b[39;00m(\u001b[39m\"\u001b[39m\u001b[39moptimizer can only optimize Tensors, \u001b[39m\u001b[39m\"\u001b[39m\n\u001b[0;32m    290\u001b[0m                         \u001b[39m\"\u001b[39m\u001b[39mbut one of the params is \u001b[39m\u001b[39m\"\u001b[39m \u001b[39m+\u001b[39m torch\u001b[39m.\u001b[39mtypename(param))\n\u001b[0;32m    291\u001b[0m     \u001b[39mif\u001b[39;00m \u001b[39mnot\u001b[39;00m param\u001b[39m.\u001b[39mis_leaf:\n\u001b[1;32m--> 292\u001b[0m         \u001b[39mraise\u001b[39;00m \u001b[39mValueError\u001b[39;00m(\u001b[39m\"\u001b[39m\u001b[39mcan\u001b[39m\u001b[39m'\u001b[39m\u001b[39mt optimize a non-leaf Tensor\u001b[39m\u001b[39m\"\u001b[39m)\n\u001b[0;32m    294\u001b[0m \u001b[39mfor\u001b[39;00m name, default \u001b[39min\u001b[39;00m \u001b[39mself\u001b[39m\u001b[39m.\u001b[39mdefaults\u001b[39m.\u001b[39mitems():\n\u001b[0;32m    295\u001b[0m     \u001b[39mif\u001b[39;00m default \u001b[39mis\u001b[39;00m required \u001b[39mand\u001b[39;00m name \u001b[39mnot\u001b[39;00m \u001b[39min\u001b[39;00m param_group:\n",
      "\u001b[1;31mValueError\u001b[0m: can't optimize a non-leaf Tensor"
     ]
    }
   ],
   "source": [
    "model, training_losses, training_accuracies, validation_accuracies, optimizer = train_multi_model(train_data=training_set, test_data=test_set, model=MLP,\n",
    "                        optim=\"MegaSAM\", batch_size=128, epochs=5, tracking=True, alpha=.2, lr_M=10, lr=.2)\n",
    "                        "
   ]
  },
  {
   "cell_type": "code",
   "execution_count": null,
   "metadata": {},
   "outputs": [
    {
     "data": {
      "text/plain": [
       "[0.9276000261306763,\n",
       " 0.9429000020027161,\n",
       " 0.955299973487854,\n",
       " 0.9578999876976013,\n",
       " 0.9663000106811523]"
      ]
     },
     "execution_count": 7,
     "metadata": {},
     "output_type": "execute_result"
    }
   ],
   "source": [
    "validation_accuracies"
   ]
  },
  {
   "cell_type": "code",
   "execution_count": null,
   "metadata": {},
   "outputs": [
    {
     "name": "stdout",
     "output_type": "stream",
     "text": [
      "torch.Size([64, 784])\n"
     ]
    }
   ],
   "source": [
    "print(optimizer.M_param_groups[0]['params'][0].size())\n",
    "#print([tensor.size() for tensor in optimizer.M_param_groups[0]['params']])"
   ]
  },
  {
   "cell_type": "code",
   "execution_count": null,
   "metadata": {},
   "outputs": [
    {
     "name": "stdout",
     "output_type": "stream",
     "text": [
      "120.3730697631836 in chunk 0, row 0 and position494\n",
      "177.48426818847656 in chunk 0, row 3 and position631\n",
      "653.5955200195312 in chunk 0, row 14 and position418\n",
      "165.32151794433594 in chunk 0, row 17 and position570\n",
      "9640.34765625 in chunk 0, row 19 and position97\n",
      "157.94908142089844 in chunk 0, row 22 and position182\n",
      "2527.271240234375 in chunk 0, row 23 and position248\n",
      "767.9175415039062 in chunk 0, row 27 and position287\n",
      "35.28828430175781 in chunk 0, row 29 and position181\n",
      "23983.9375 in chunk 0, row 32 and position540\n",
      "237.6343231201172 in chunk 0, row 33 and position238\n",
      "2246.13232421875 in chunk 0, row 35 and position86\n",
      "404.9916687011719 in chunk 0, row 35 and position277\n",
      "182.11741638183594 in chunk 0, row 36 and position465\n",
      "84.77960968017578 in chunk 0, row 39 and position278\n",
      "1870.4244384765625 in chunk 0, row 42 and position555\n",
      "700.7183837890625 in chunk 0, row 45 and position386\n",
      "138.3374481201172 in chunk 0, row 45 and position699\n",
      "122.71334075927734 in chunk 0, row 46 and position613\n",
      "103.5284652709961 in chunk 0, row 53 and position781\n",
      "984.31494140625 in chunk 0, row 54 and position630\n",
      "163.66908264160156 in chunk 0, row 55 and position728\n",
      "9657.923828125 in chunk 0, row 58 and position27\n",
      "68.14807891845703 in chunk 0, row 58 and position542\n",
      "670.984375 in chunk 0, row 62 and position496\n",
      "109.93358612060547 in chunk 0, row 63 and position479\n",
      "70.90511322021484 in chunk 2, row 0 and position14\n"
     ]
    }
   ],
   "source": [
    "for i, chunk in enumerate(optimizer.M_param_groups[0]['params']):\n",
    "    for j, row in enumerate(chunk):\n",
    "        if not row.size():\n",
    "                if abs(row) > 1.2:\n",
    "                    print(f\"{row} in chunk {i} position{j}\")\n",
    "        else:\n",
    "            for k, element in enumerate(row):\n",
    "                if abs(element) > 1.2:\n",
    "                    print(f\"{element} in chunk {i}, row {j} and position{k}\")"
   ]
  },
  {
   "cell_type": "code",
   "execution_count": null,
   "metadata": {},
   "outputs": [
    {
     "data": {
      "text/plain": [
       "<matplotlib.image.AxesImage at 0x1a8b30f0640>"
      ]
     },
     "execution_count": 10,
     "metadata": {},
     "output_type": "execute_result"
    },
    {
     "data": {
      "image/png": "[encoded data removed]",
      "text/plain": [
       "<Figure size 432x720 with 1 Axes>"
      ]
     },
     "metadata": {
      "needs_background": "light"
     },
     "output_type": "display_data"
    }
   ],
   "source": [
    "#f, axarr = plt.subplots(1, 2)\n",
    "plt.figure(figsize=(6, 10))\n",
    "plt.imshow(optimizer.M_param_groups[0]['params'][0].detach())\n",
    "#axarr[0].imshow(torch.diag(optimizer.M_param_groups[0]['params'][0]).detach().numpy())\n",
    "#axarr[1].imshow(torch.diag(optimizer.M_param_groups[0]['params'][0]))\n",
    "#plt.pcolor(optimizer.M_param_groups[0]['params'][0].detach()))\n",
    "#plt.gca().invert_yaxis()"
   ]
  },
  {
   "cell_type": "code",
   "execution_count": null,
   "metadata": {},
   "outputs": [
    {
     "data": {
      "text/plain": [
       "[<matplotlib.lines.Line2D at 0x1a8afa1a970>]"
      ]
     },
     "execution_count": 17,
     "metadata": {},
     "output_type": "execute_result"
    },
    {
     "data": {
      "image/png": "[encoded data removed]",
      "text/plain": [
       "<Figure size 432x288 with 1 Axes>"
      ]
     },
     "metadata": {
      "needs_background": "light"
     },
     "output_type": "display_data"
    }
   ],
   "source": [
    "plt.plot(optimizer.M_param_groups[0]['params'][0][21].detach(), '.')"
   ]
  },
  {
   "cell_type": "code",
   "execution_count": null,
   "metadata": {},
   "outputs": [],
   "source": [
    "# print(list(model[0].parameters()))"
   ]
  },
  {
   "cell_type": "code",
   "execution_count": null,
   "metadata": {},
   "outputs": [
    {
     "name": "stdout",
     "output_type": "stream",
     "text": [
      "MegaSAM training accuracies: [0.8727499842643738, 0.9354000091552734, 0.9504500031471252, 0.9595833420753479, 0.9664166569709778]\n",
      "MegaSAM validation accuracies: [0.9276000261306763, 0.9429000020027161, 0.955299973487854, 0.9578999876976013, 0.9663000106811523]\n"
     ]
    }
   ],
   "source": [
    "print(f\"MegaSAM training accuracies: {training_accuracies}\")\n",
    "print(f\"MegaSAM validation accuracies: {validation_accuracies}\")"
   ]
  },
  {
   "cell_type": "code",
   "execution_count": null,
   "metadata": {},
   "outputs": [
    {
     "data": {
      "text/plain": [
       "[<matplotlib.lines.Line2D at 0x1a898df9490>]"
      ]
     },
     "execution_count": 14,
     "metadata": {},
     "output_type": "execute_result"
    },
    {
     "data": {
      "image/png": "[encoded data removed]",
      "text/plain": [
       "<Figure size 432x288 with 1 Axes>"
      ]
     },
     "metadata": {
      "needs_background": "light"
     },
     "output_type": "display_data"
    }
   ],
   "source": [
    "plt.plot(validation_accuracies, 'o-')\n",
    "plt.plot(training_accuracies, 'o-')"
   ]
  },
  {
   "cell_type": "code",
   "execution_count": null,
   "metadata": {},
   "outputs": [
    {
     "data": {
      "text/plain": [
       "[<matplotlib.lines.Line2D at 0x1a89c40fdf0>]"
      ]
     },
     "execution_count": 15,
     "metadata": {},
     "output_type": "execute_result"
    },
    {
     "data": {
      "image/png": "[encoded data removed]",
      "text/plain": [
       "<Figure size 432x288 with 1 Axes>"
      ]
     },
     "metadata": {
      "needs_background": "light"
     },
     "output_type": "display_data"
    }
   ],
   "source": [
    "plt.plot(training_losses, 'o-')"
   ]
  },
  {
   "cell_type": "code",
   "execution_count": null,
   "metadata": {},
   "outputs": [],
   "source": []
  }
 ],
 "metadata": {
  "kernelspec": {
   "display_name": "Python 3.9.7 ('summer_venv': venv)",
   "language": "python",
   "name": "python3"
  },
  "language_info": {
   "codemirror_mode": {
    "name": "ipython",
    "version": 3
   },
   "file_extension": ".py",
   "mimetype": "text/x-python",
   "name": "python",
   "nbconvert_exporter": "python",
   "pygments_lexer": "ipython3",
   "version": "3.9.7"
  },
  "orig_nbformat": 4,
  "vscode": {
   "interpreter": {
    "hash": "b8ea205e4e66ef442b0492f00be4073d98056112e4a1c26a4f26bb5aea81c264"
   }
  }
 },
 "nbformat": 4,
 "nbformat_minor": 2
}
