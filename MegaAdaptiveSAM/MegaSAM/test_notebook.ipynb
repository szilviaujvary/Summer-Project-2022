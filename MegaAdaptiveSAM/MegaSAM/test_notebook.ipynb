{
 "cells": [
  {
   "cell_type": "code",
   "execution_count": 12,
   "metadata": {},
   "outputs": [],
   "source": [
    "import numpy as np\n",
    "import torch\n",
    "import torch.nn as nn\n",
    "import torch.nn.functional as F\n",
    "from torchvision import datasets, transforms\n",
    "from tqdm.notebook import tqdm, trange\n",
    "# from sklearn import datasets\n",
    "from tqdm.notebook import tqdm\n",
    "import matplotlib.pyplot as plt\n",
    "device = \"cuda\" if torch.cuda.is_available() else \"cpu\"\n",
    "from sam.sam import SAM\n",
    "\n",
    "from mega_sam_feri import MegaSAM\n",
    "from NN_utils import train_multi_model\n",
    "from data.mnist import mnist_data_gen\n",
    "import pickle\n",
    "import blosc\n"
   ]
  },
  {
   "cell_type": "code",
   "execution_count": 13,
   "metadata": {},
   "outputs": [],
   "source": [
    "with open(\"compressed_training\", \"rb\") as f:\n",
    "    compressed_pickle = f.read()\n",
    "\n",
    "depressed_pickle = blosc.decompress(compressed_pickle)\n",
    "training_set = pickle.loads(depressed_pickle)  # turn bytes object back into data\n",
    "\n",
    "with open(\"compressed_test\", \"rb\") as f:\n",
    "    compressed_pickle = f.read()\n",
    "\n",
    "depressed_pickle = blosc.decompress(compressed_pickle)\n",
    "test_set = pickle.loads(depressed_pickle)\n",
    "\n",
    "# with open ('compressed_training', 'rb') as fp:\n",
    "#     training_set = pickle.load(fp)\n",
    "# with open ('compressed_test', 'rb') as fp:\n",
    "#     test_set = pickle.load(fp)"
   ]
  },
  {
   "cell_type": "code",
   "execution_count": 14,
   "metadata": {},
   "outputs": [],
   "source": [
    "# We can compress data like this\n",
    "# import blosc\n",
    "# pickled_data = pickle.dumps(test_set)  # returns data as a bytes object\n",
    "# compressed_pickle = blosc.compress(pickled_data)\n",
    "\n",
    "# with open(\"compressed_test\", \"wb\") as f:\n",
    "#     f.write(compressed_pickle)"
   ]
  },
  {
   "cell_type": "code",
   "execution_count": 15,
   "metadata": {},
   "outputs": [],
   "source": [
    "output1 = 32\n",
    "output2 = 32\n",
    "\n",
    "MLP = nn.Sequential(\n",
    "    nn.Linear(28 * 28, output1),\n",
    "    nn.ReLU(),\n",
    "    nn.Linear(output1, output2),\n",
    "    nn.ReLU(),\n",
    "    nn.Linear(output2, 10))"
   ]
  },
  {
   "cell_type": "code",
   "execution_count": 16,
   "metadata": {},
   "outputs": [
    {
     "data": {
      "application/vnd.jupyter.widget-view+json": {
       "model_id": "c0261d16005747a18050fe68b843c5bf",
       "version_major": 2,
       "version_minor": 0
      },
      "text/plain": [
       "HBox(children=(FloatProgress(value=0.0, max=5.0), HTML(value='')))"
      ]
     },
     "metadata": {},
     "output_type": "display_data"
    },
    {
     "name": "stdout",
     "output_type": "stream",
     "text": [
      "\n"
     ]
    }
   ],
   "source": [
    "model, training_losses, training_accuracies, validation_accuracies, optimizer = train_multi_model(train_data=training_set, test_data=test_set, model=MLP,\n",
    "                        optim=\"MegaSAM\", batch_size=128, epochs=5, tracking=True, alpha=.2, lr_M=10, lr=.2)\n",
    "                        "
   ]
  },
  {
   "cell_type": "code",
   "execution_count": 17,
   "metadata": {},
   "outputs": [
    {
     "name": "stdout",
     "output_type": "stream",
     "text": [
      "tensor([[1., 1., 1.,  ..., 1., 1., 1.],\n",
      "        [1., 1., 1.,  ..., 1., 1., 1.],\n",
      "        [1., 1., 1.,  ..., 1., 1., 1.],\n",
      "        ...,\n",
      "        [1., 1., 1.,  ..., 1., 1., 1.],\n",
      "        [1., 1., 1.,  ..., 1., 1., 1.],\n",
      "        [1., 1., 1.,  ..., 1., 1., 1.]], requires_grad=True)\n"
     ]
    }
   ],
   "source": [
    "print(optimizer.M_param_groups[0]['params'][0])"
   ]
  },
  {
   "cell_type": "code",
   "execution_count": 18,
   "metadata": {},
   "outputs": [
    {
     "name": "stdout",
     "output_type": "stream",
     "text": [
      "[Parameter containing:\n",
      "tensor([[-0.0146,  0.0220,  0.0067,  ...,  0.0196,  0.0203,  0.0347],\n",
      "        [-0.0201,  0.0097,  0.0200,  ...,  0.0019,  0.0160,  0.0002],\n",
      "        [ 0.0017,  0.0081, -0.0111,  ...,  0.0064,  0.0325, -0.0331],\n",
      "        ...,\n",
      "        [ 0.0059,  0.0145, -0.0039,  ...,  0.0277, -0.0061, -0.0216],\n",
      "        [-0.0185,  0.0319,  0.0087,  ..., -0.0109,  0.0314, -0.0155],\n",
      "        [-0.0102,  0.0069, -0.0207,  ...,  0.0142, -0.0102, -0.0339]],\n",
      "       requires_grad=True), Parameter containing:\n",
      "tensor([-0.0471,  0.1136,  0.0833,  0.5108, -0.0176,  0.2771,  0.1230, -0.1573,\n",
      "         0.1569, -0.0154,  0.0959,  0.1819, -0.1388, -0.0134,  0.0625,  0.0080,\n",
      "         0.1717, -0.0270, -0.0455,  0.0212,  0.2522,  0.0606, -0.0045,  0.0291,\n",
      "         0.3789,  0.1190, -0.0973,  0.0946,  0.0397,  0.0204, -0.0775, -0.0219],\n",
      "       requires_grad=True)]\n"
     ]
    }
   ],
   "source": [
    "print(list(model[0].parameters()))"
   ]
  },
  {
   "cell_type": "code",
   "execution_count": 19,
   "metadata": {},
   "outputs": [
    {
     "name": "stdout",
     "output_type": "stream",
     "text": [
      "MegaSAM training accuracies: [0.8165666460990906, 0.934583306312561, 0.9509333372116089, 0.9598833322525024, 0.9651166796684265]\n",
      "MegaSAM validation accuracies: [0.9223999977111816, 0.9466000199317932, 0.9556999802589417, 0.9580000042915344, 0.9645000100135803]\n"
     ]
    }
   ],
   "source": [
    "print(f\"MegaSAM training accuracies: {training_accuracies}\")\n",
    "print(f\"MegaSAM validation accuracies: {validation_accuracies}\")"
   ]
  },
  {
   "cell_type": "code",
   "execution_count": 20,
   "metadata": {},
   "outputs": [
    {
     "data": {
      "text/plain": [
       "[<matplotlib.lines.Line2D at 0x7f9b2a6e3fd0>]"
      ]
     },
     "execution_count": 20,
     "metadata": {},
     "output_type": "execute_result"
    },
    {
     "data": {
      "image/png": "[encoded data removed]",
      "text/plain": [
       "<Figure size 432x288 with 1 Axes>"
      ]
     },
     "metadata": {
      "needs_background": "light"
     },
     "output_type": "display_data"
    }
   ],
   "source": [
    "plt.plot(validation_accuracies, 'o-')\n",
    "plt.plot(training_accuracies, 'o-')"
   ]
  },
  {
   "cell_type": "code",
   "execution_count": 21,
   "metadata": {},
   "outputs": [
    {
     "data": {
      "text/plain": [
       "[<matplotlib.lines.Line2D at 0x7f9b2b2f5340>]"
      ]
     },
     "execution_count": 21,
     "metadata": {},
     "output_type": "execute_result"
    },
    {
     "data": {
      "image/png": "[encoded data removed]",
      "text/plain": [
       "<Figure size 432x288 with 1 Axes>"
      ]
     },
     "metadata": {
      "needs_background": "light"
     },
     "output_type": "display_data"
    }
   ],
   "source": [
    "plt.plot(training_losses, 'o-')"
   ]
  },
  {
   "cell_type": "code",
   "execution_count": null,
   "metadata": {},
   "outputs": [],
   "source": []
  }
 ],
 "metadata": {
  "kernelspec": {
   "display_name": "Python 3.8.3 ('base')",
   "language": "python",
   "name": "python3"
  },
  "language_info": {
   "codemirror_mode": {
    "name": "ipython",
    "version": 3
   },
   "file_extension": ".py",
   "mimetype": "text/x-python",
   "name": "python",
   "nbconvert_exporter": "python",
   "pygments_lexer": "ipython3",
   "version": "3.8.3"
  },
  "orig_nbformat": 4,
  "vscode": {
   "interpreter": {
    "hash": "cd78fef2128015050713e82ca51c6520b11aee7c9ee8df750520bbbc7384cbaa"
   }
  }
 },
 "nbformat": 4,
 "nbformat_minor": 2
}
