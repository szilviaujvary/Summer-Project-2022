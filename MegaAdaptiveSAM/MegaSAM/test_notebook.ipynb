{
 "cells": [
  {
   "cell_type": "code",
   "execution_count": 1,
   "metadata": {},
   "outputs": [],
   "source": [
    "from test import *\n"
   ]
  },
  {
   "cell_type": "code",
   "execution_count": 17,
   "metadata": {},
   "outputs": [
    {
     "data": {
      "text/plain": [
       "60000"
      ]
     },
     "execution_count": 17,
     "metadata": {},
     "output_type": "execute_result"
    }
   ],
   "source": [
    "len(training_set)"
   ]
  },
  {
   "cell_type": "code",
   "execution_count": 2,
   "metadata": {},
   "outputs": [
    {
     "data": {
      "application/vnd.jupyter.widget-view+json": {
       "model_id": "e013ec0124d34d03a1679bb61fdac3c8",
       "version_major": 2,
       "version_minor": 0
      },
      "text/plain": [
       "  0%|          | 0/5 [00:00<?, ?it/s]"
      ]
     },
     "metadata": {},
     "output_type": "display_data"
    }
   ],
   "source": [
    "model, training_losses, training_accuracies, validation_accuracies = train_multi_model(train_data=training_set[:1000], test_data=test_set[:300], model=MLP,\n",
    "                        optim=\"SAM\", batch_size=100, epochs=5, tracking=True)"
   ]
  },
  {
   "cell_type": "code",
   "execution_count": 3,
   "metadata": {},
   "outputs": [
    {
     "name": "stdout",
     "output_type": "stream",
     "text": [
      "SAM training accuracies: [0.10400000214576721, 0.11699999868869781, 0.11699999868869781, 0.11699999868869781, 0.12099999934434891]\n",
      "SAM validation accuracies: [0.1133333370089531, 0.1133333370089531, 0.1133333370089531, 0.1133333370089531, 0.1133333370089531]\n"
     ]
    }
   ],
   "source": [
    "print(f\"SAM training accuracies: {training_accuracies}\")\n",
    "print(f\"SAM validation accuracies: {validation_accuracies}\")"
   ]
  },
  {
   "cell_type": "code",
   "execution_count": 6,
   "metadata": {},
   "outputs": [
    {
     "data": {
      "application/vnd.jupyter.widget-view+json": {
       "model_id": "740ad336004f43d9b0a91d2ad0057da1",
       "version_major": 2,
       "version_minor": 0
      },
      "text/plain": [
       "  0%|          | 0/5 [00:00<?, ?it/s]"
      ]
     },
     "metadata": {},
     "output_type": "display_data"
    },
    {
     "name": "stdout",
     "output_type": "stream",
     "text": [
      "Using reshape in first step\n",
      "target  sizes: 13002, shapes [torch.Size([16, 784]), torch.Size([16]), torch.Size([16, 16]), torch.Size([16]), torch.Size([10, 16]), torch.Size([10])]\n",
      "len of my item: 169052004\n"
     ]
    },
    {
     "ename": "RuntimeError",
     "evalue": "shape '[16, 784]' is invalid for input of size 163097088",
     "output_type": "error",
     "traceback": [
      "\u001b[1;31m---------------------------------------------------------------------------\u001b[0m",
      "\u001b[1;31mRuntimeError\u001b[0m                              Traceback (most recent call last)",
      "\u001b[1;32mc:\\Users\\szilv\\OneDrive\\Dokumentumok\\summer_2022\\Summer-2022\\MegaAdaptiveSAM\\MegaSAM\\test_notebook.ipynb Cell 5\u001b[0m in \u001b[0;36m<cell line: 1>\u001b[1;34m()\u001b[0m\n\u001b[1;32m----> <a href='vscode-notebook-cell:/c%3A/Users/szilv/OneDrive/Dokumentumok/summer_2022/Summer-2022/MegaAdaptiveSAM/MegaSAM/test_notebook.ipynb#W3sZmlsZQ%3D%3D?line=0'>1</a>\u001b[0m model, training_losses, training_accuracies, validation_accuracies \u001b[39m=\u001b[39m train_multi_model(train_data\u001b[39m=\u001b[39;49mtraining_set[:\u001b[39m1000\u001b[39;49m], test_data\u001b[39m=\u001b[39;49mtest_set[:\u001b[39m300\u001b[39;49m], model\u001b[39m=\u001b[39;49mMLP,\n\u001b[0;32m      <a href='vscode-notebook-cell:/c%3A/Users/szilv/OneDrive/Dokumentumok/summer_2022/Summer-2022/MegaAdaptiveSAM/MegaSAM/test_notebook.ipynb#W3sZmlsZQ%3D%3D?line=1'>2</a>\u001b[0m                         optim\u001b[39m=\u001b[39;49m\u001b[39m\"\u001b[39;49m\u001b[39mMegaSAM\u001b[39;49m\u001b[39m\"\u001b[39;49m, batch_size\u001b[39m=\u001b[39;49m\u001b[39m100\u001b[39;49m, epochs\u001b[39m=\u001b[39;49m\u001b[39m5\u001b[39;49m, tracking\u001b[39m=\u001b[39;49m\u001b[39mTrue\u001b[39;49;00m)\n",
      "File \u001b[1;32mc:\\Users\\szilv\\OneDrive\\Dokumentumok\\summer_2022\\Summer-2022\\MegaAdaptiveSAM\\MegaSAM\\NN_utils.py:212\u001b[0m, in \u001b[0;36mtrain_multi_model\u001b[1;34m(model, train_data, test_data, optim, batch_size, epochs, tracking, shuffle_loader, lr, momentum, criterion, rho)\u001b[0m\n\u001b[0;32m    210\u001b[0m loss\u001b[39m.\u001b[39mbackward()\n\u001b[0;32m    211\u001b[0m \u001b[39mif\u001b[39;00m optim \u001b[39m==\u001b[39m \u001b[39m\"\u001b[39m\u001b[39mSAM\u001b[39m\u001b[39m\"\u001b[39m \u001b[39mor\u001b[39;00m optim \u001b[39m==\u001b[39m \u001b[39m'\u001b[39m\u001b[39mMegaSAM\u001b[39m\u001b[39m'\u001b[39m:\n\u001b[1;32m--> 212\u001b[0m     optimizer\u001b[39m.\u001b[39;49mstep(closure)\n\u001b[0;32m    213\u001b[0m \u001b[39mif\u001b[39;00m optim \u001b[39m!=\u001b[39m \u001b[39m\"\u001b[39m\u001b[39mSAM\u001b[39m\u001b[39m\"\u001b[39m \u001b[39mand\u001b[39;00m optim \u001b[39m!=\u001b[39m \u001b[39m'\u001b[39m\u001b[39mMegaSAM\u001b[39m\u001b[39m'\u001b[39m:\n\u001b[0;32m    214\u001b[0m     optimizer\u001b[39m.\u001b[39mstep()\n",
      "File \u001b[1;32mc:\\Users\\szilv\\OneDrive\\Dokumentumok\\summer_2022\\summer_venv\\lib\\site-packages\\torch\\optim\\optimizer.py:109\u001b[0m, in \u001b[0;36mOptimizer._hook_for_profile.<locals>.profile_hook_step.<locals>.wrapper\u001b[1;34m(*args, **kwargs)\u001b[0m\n\u001b[0;32m    107\u001b[0m profile_name \u001b[39m=\u001b[39m \u001b[39m\"\u001b[39m\u001b[39mOptimizer.step#\u001b[39m\u001b[39m{}\u001b[39;00m\u001b[39m.step\u001b[39m\u001b[39m\"\u001b[39m\u001b[39m.\u001b[39mformat(obj\u001b[39m.\u001b[39m\u001b[39m__class__\u001b[39m\u001b[39m.\u001b[39m\u001b[39m__name__\u001b[39m)\n\u001b[0;32m    108\u001b[0m \u001b[39mwith\u001b[39;00m torch\u001b[39m.\u001b[39mautograd\u001b[39m.\u001b[39mprofiler\u001b[39m.\u001b[39mrecord_function(profile_name):\n\u001b[1;32m--> 109\u001b[0m     \u001b[39mreturn\u001b[39;00m func(\u001b[39m*\u001b[39margs, \u001b[39m*\u001b[39m\u001b[39m*\u001b[39mkwargs)\n",
      "File \u001b[1;32mc:\\Users\\szilv\\OneDrive\\Dokumentumok\\summer_2022\\summer_venv\\lib\\site-packages\\torch\\autograd\\grad_mode.py:27\u001b[0m, in \u001b[0;36m_DecoratorContextManager.__call__.<locals>.decorate_context\u001b[1;34m(*args, **kwargs)\u001b[0m\n\u001b[0;32m     24\u001b[0m \u001b[39m@functools\u001b[39m\u001b[39m.\u001b[39mwraps(func)\n\u001b[0;32m     25\u001b[0m \u001b[39mdef\u001b[39;00m \u001b[39mdecorate_context\u001b[39m(\u001b[39m*\u001b[39margs, \u001b[39m*\u001b[39m\u001b[39m*\u001b[39mkwargs):\n\u001b[0;32m     26\u001b[0m     \u001b[39mwith\u001b[39;00m \u001b[39mself\u001b[39m\u001b[39m.\u001b[39mclone():\n\u001b[1;32m---> 27\u001b[0m         \u001b[39mreturn\u001b[39;00m func(\u001b[39m*\u001b[39margs, \u001b[39m*\u001b[39m\u001b[39m*\u001b[39mkwargs)\n",
      "File \u001b[1;32mc:\\Users\\szilv\\OneDrive\\Dokumentumok\\summer_2022\\Summer-2022\\MegaAdaptiveSAM\\MegaSAM\\mega_adaptive_sam.py:68\u001b[0m, in \u001b[0;36mMegaSAM.step\u001b[1;34m(self, closure)\u001b[0m\n\u001b[0;32m     66\u001b[0m \u001b[39massert\u001b[39;00m closure \u001b[39mis\u001b[39;00m \u001b[39mnot\u001b[39;00m \u001b[39mNone\u001b[39;00m, \u001b[39m\"\u001b[39m\u001b[39mSharpness Aware Minimization requires closure, but it was not provided\u001b[39m\u001b[39m\"\u001b[39m\n\u001b[0;32m     67\u001b[0m closure \u001b[39m=\u001b[39m torch\u001b[39m.\u001b[39menable_grad()(closure)  \u001b[39m# the closure should do a full forward-backward pass\u001b[39;00m\n\u001b[1;32m---> 68\u001b[0m \u001b[39mself\u001b[39;49m\u001b[39m.\u001b[39;49mfirst_step(zero_grad\u001b[39m=\u001b[39;49m\u001b[39mFalse\u001b[39;49;00m)\n\u001b[0;32m     69\u001b[0m \u001b[39mself\u001b[39m\u001b[39m.\u001b[39mm_step(zero_grad\u001b[39m=\u001b[39m\u001b[39mTrue\u001b[39;00m)\n\u001b[0;32m     70\u001b[0m closure()\n",
      "File \u001b[1;32mc:\\Users\\szilv\\OneDrive\\Dokumentumok\\summer_2022\\summer_venv\\lib\\site-packages\\torch\\autograd\\grad_mode.py:27\u001b[0m, in \u001b[0;36m_DecoratorContextManager.__call__.<locals>.decorate_context\u001b[1;34m(*args, **kwargs)\u001b[0m\n\u001b[0;32m     24\u001b[0m \u001b[39m@functools\u001b[39m\u001b[39m.\u001b[39mwraps(func)\n\u001b[0;32m     25\u001b[0m \u001b[39mdef\u001b[39;00m \u001b[39mdecorate_context\u001b[39m(\u001b[39m*\u001b[39margs, \u001b[39m*\u001b[39m\u001b[39m*\u001b[39mkwargs):\n\u001b[0;32m     26\u001b[0m     \u001b[39mwith\u001b[39;00m \u001b[39mself\u001b[39m\u001b[39m.\u001b[39mclone():\n\u001b[1;32m---> 27\u001b[0m         \u001b[39mreturn\u001b[39;00m func(\u001b[39m*\u001b[39margs, \u001b[39m*\u001b[39m\u001b[39m*\u001b[39mkwargs)\n",
      "File \u001b[1;32mc:\\Users\\szilv\\OneDrive\\Dokumentumok\\summer_2022\\Summer-2022\\MegaAdaptiveSAM\\MegaSAM\\mega_adaptive_sam.py:31\u001b[0m, in \u001b[0;36mMegaSAM.first_step\u001b[1;34m(self, zero_grad)\u001b[0m\n\u001b[0;32m     29\u001b[0m e_w \u001b[39m=\u001b[39m M_inv \u001b[39m*\u001b[39m grads_flattened \u001b[39m*\u001b[39m scale\n\u001b[0;32m     30\u001b[0m \u001b[39mprint\u001b[39m(\u001b[39m\"\u001b[39m\u001b[39mUsing reshape in first step\u001b[39m\u001b[39m\"\u001b[39m)\n\u001b[1;32m---> 31\u001b[0m reshaped_e_w \u001b[39m=\u001b[39m \u001b[39mself\u001b[39;49m\u001b[39m.\u001b[39;49m_reshape(e_w, grads_list)\n\u001b[0;32m     32\u001b[0m \u001b[39mfor\u001b[39;00m group \u001b[39min\u001b[39;00m \u001b[39mself\u001b[39m\u001b[39m.\u001b[39mparam_groups:\n\u001b[0;32m     33\u001b[0m   \u001b[39mfor\u001b[39;00m index, p \u001b[39min\u001b[39;00m \u001b[39menumerate\u001b[39m(group[\u001b[39m\"\u001b[39m\u001b[39mparams\u001b[39m\u001b[39m\"\u001b[39m]):\n",
      "File \u001b[1;32mc:\\Users\\szilv\\OneDrive\\Dokumentumok\\summer_2022\\Summer-2022\\MegaAdaptiveSAM\\MegaSAM\\mega_adaptive_sam.py:98\u001b[0m, in \u001b[0;36mMegaSAM._reshape\u001b[1;34m(self, my_item, target)\u001b[0m\n\u001b[0;32m     95\u001b[0m \u001b[39m#assert torch.numel(my_item) == sum(target_sizes)\u001b[39;00m\n\u001b[0;32m     97\u001b[0m chunked_item \u001b[39m=\u001b[39m torch\u001b[39m.\u001b[39mtensor_split(my_item, \u001b[39mtuple\u001b[39m(np\u001b[39m.\u001b[39mcumsum(target_sizes))[:\u001b[39m-\u001b[39m\u001b[39m1\u001b[39m])\n\u001b[1;32m---> 98\u001b[0m reshaped_item \u001b[39m=\u001b[39m [item\u001b[39m.\u001b[39mreshape(target_shapes[i]) \u001b[39mfor\u001b[39;00m i, item \u001b[39min\u001b[39;00m \u001b[39menumerate\u001b[39m(chunked_item)]\n\u001b[0;32m     99\u001b[0m \u001b[39mreturn\u001b[39;00m reshaped_item\n",
      "File \u001b[1;32mc:\\Users\\szilv\\OneDrive\\Dokumentumok\\summer_2022\\Summer-2022\\MegaAdaptiveSAM\\MegaSAM\\mega_adaptive_sam.py:98\u001b[0m, in \u001b[0;36m<listcomp>\u001b[1;34m(.0)\u001b[0m\n\u001b[0;32m     95\u001b[0m \u001b[39m#assert torch.numel(my_item) == sum(target_sizes)\u001b[39;00m\n\u001b[0;32m     97\u001b[0m chunked_item \u001b[39m=\u001b[39m torch\u001b[39m.\u001b[39mtensor_split(my_item, \u001b[39mtuple\u001b[39m(np\u001b[39m.\u001b[39mcumsum(target_sizes))[:\u001b[39m-\u001b[39m\u001b[39m1\u001b[39m])\n\u001b[1;32m---> 98\u001b[0m reshaped_item \u001b[39m=\u001b[39m [item\u001b[39m.\u001b[39;49mreshape(target_shapes[i]) \u001b[39mfor\u001b[39;00m i, item \u001b[39min\u001b[39;00m \u001b[39menumerate\u001b[39m(chunked_item)]\n\u001b[0;32m     99\u001b[0m \u001b[39mreturn\u001b[39;00m reshaped_item\n",
      "\u001b[1;31mRuntimeError\u001b[0m: shape '[16, 784]' is invalid for input of size 163097088"
     ]
    }
   ],
   "source": [
    "model, training_losses, training_accuracies, validation_accuracies = train_multi_model(train_data=training_set[:1000], test_data=test_set[:300], model=MLP,\n",
    "                        optim=\"MegaSAM\", batch_size=100, epochs=5, tracking=True)"
   ]
  },
  {
   "cell_type": "code",
   "execution_count": null,
   "metadata": {},
   "outputs": [],
   "source": []
  }
 ],
 "metadata": {
  "kernelspec": {
   "display_name": "Python 3.9.7 ('summer_venv': venv)",
   "language": "python",
   "name": "python3"
  },
  "language_info": {
   "codemirror_mode": {
    "name": "ipython",
    "version": 3
   },
   "file_extension": ".py",
   "mimetype": "text/x-python",
   "name": "python",
   "nbconvert_exporter": "python",
   "pygments_lexer": "ipython3",
   "version": "3.9.7"
  },
  "orig_nbformat": 4,
  "vscode": {
   "interpreter": {
    "hash": "b8ea205e4e66ef442b0492f00be4073d98056112e4a1c26a4f26bb5aea81c264"
   }
  }
 },
 "nbformat": 4,
 "nbformat_minor": 2
}
