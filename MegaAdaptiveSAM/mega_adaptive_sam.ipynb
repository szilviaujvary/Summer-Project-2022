{
  "cells": [
    {
      "cell_type": "code",
      "execution_count": 4,
      "metadata": {
        "colab": {
          "base_uri": "https://localhost:8080/"
        },
        "id": "WwMrAvbv2lVi",
        "outputId": "679649c7-af6d-46ce-e497-bce96d9ef442"
      },
      "outputs": [
        {
          "name": "stderr",
          "output_type": "stream",
          "text": [
            "fatal: destination path 'sam' already exists and is not an empty directory.\n"
          ]
        }
      ],
      "source": [
        "!git clone https://github.com/davda54/sam"
      ]
    },
    {
      "cell_type": "code",
      "execution_count": 5,
      "metadata": {
        "id": "RNzXAsT02oKS"
      },
      "outputs": [],
      "source": [
        "from MegaSAM.mega_adaptive_sam import MegaSAM\n",
        "import sys; sys.path.append(\"..\")\n",
        "\n",
        "sys.path.append(\"sam\")\n",
        "from sam import SAM"
      ]
    },
    {
      "cell_type": "code",
      "execution_count": 6,
      "metadata": {
        "id": "AtRygAnZx3nX"
      },
      "outputs": [],
      "source": [
        "import numpy as np\n",
        "import random\n",
        "import torch\n",
        "import torch.nn as nn\n",
        "import torch.nn.functional as F\n",
        "from torchvision import datasets, transforms\n",
        "from tqdm.notebook import tqdm, trange\n",
        "from sklearn import datasets\n",
        "from tqdm.notebook import tqdm\n",
        "import matplotlib.pyplot as plt\n",
        "device = \"cuda\" if torch.cuda.is_available() else \"cpu\""
      ]
    },
    {
      "cell_type": "code",
      "execution_count": 7,
      "metadata": {
        "colab": {
          "base_uri": "https://localhost:8080/",
          "height": 357
        },
        "id": "A4DWkwlswxjO",
        "outputId": "bde9fa67-9fab-4e94-ca54-dc8df2f475f9"
      },
      "outputs": [
        {
          "name": "stderr",
          "output_type": "stream",
          "text": [
            "c:\\Users\\szilv\\OneDrive\\Dokumentumok\\summer_2022\\summer_venv\\lib\\site-packages\\numpy\\core\\shape_base.py:65: FutureWarning: The input object of type 'Tensor' is an array-like implementing one of the corresponding protocols (`__array__`, `__array_interface__` or `__array_struct__`); but not a sequence (or 0-D). In the future, this object will be coerced as if it was first converted using `np.array(obj)`. To retain the old behaviour, you have to either modify the type 'Tensor', or assign to an empty array created with `np.empty(correct_shape, dtype=object)`.\n",
            "  ary = asanyarray(ary)\n",
            "c:\\Users\\szilv\\OneDrive\\Dokumentumok\\summer_2022\\summer_venv\\lib\\site-packages\\numpy\\core\\shape_base.py:65: VisibleDeprecationWarning: Creating an ndarray from ragged nested sequences (which is a list-or-tuple of lists-or-tuples-or ndarrays with different lengths or shapes) is deprecated. If you meant to do this, you must specify 'dtype=object' when creating the ndarray.\n",
            "  ary = asanyarray(ary)\n"
          ]
        },
        {
          "data": {
            "image/png": "[encoded data removed]",
            "text/plain": [
              "<Figure size 432x288 with 1 Axes>"
            ]
          },
          "metadata": {
            "needs_background": "light"
          },
          "output_type": "display_data"
        }
      ],
      "source": [
        "N = 1000\n",
        "\n",
        "def data_gen():\n",
        "    all_data = []\n",
        "    X,y = datasets.make_moons(n_samples=N, shuffle=True, noise=0.2, random_state=1234)\n",
        "    y = np.reshape(y, (len(y),1))\n",
        "    for index, point in enumerate(X):\n",
        "        point=np.reshape(point, (2,1))\n",
        "        all_data.append([torch.tensor(point), y[index][0]])\n",
        "    return all_data\n",
        "  \n",
        "all_data = data_gen()\n",
        "\n",
        "zeros_x = [all_data[i][0][0] for i in range(N) if not all_data[i][1]]\n",
        "zeros_y = [all_data[i][0][1] for i in range(N) if not all_data[i][1]]\n",
        "\n",
        "ones_x = [all_data[i][0][0] for i in range(N) if all_data[i][1]]\n",
        "ones_y = [all_data[i][0][1] for i in range(N) if all_data[i][1]]\n",
        "\n",
        "plt.plot(zeros_x, zeros_y, '.')\n",
        "plt.plot(ones_x, ones_y, '.')\n",
        "\n",
        "train_data = all_data[:N*8//10]\n",
        "test_data = all_data[N*8//10:]\n",
        "batch_size = 1000\n",
        "train_loader = torch.utils.data.DataLoader(train_data, batch_size=batch_size, shuffle=True)\n",
        "test_loader = torch.utils.data.DataLoader(test_data, batch_size=batch_size, shuffle=True)"
      ]
    },
    {
      "cell_type": "code",
      "execution_count": 8,
      "metadata": {
        "colab": {
          "base_uri": "https://localhost:8080/",
          "height": 49,
          "referenced_widgets": [
            "96182ca1c3b44b56b52aa7dd6dda9d9f",
            "2cefbf6b7cbb4e33bc4ab6e942f99c66",
            "7ea4d2011b19461f90b3329b260bba71",
            "601b6240aa524529b451244e8ff9d820",
            "1fafe6f5961e4a89b9abaf6c5bbc1b88",
            "df1175f55842401ba7fcc1f7d3b3862a",
            "21e1870c9ac7425da1449b48d318912a",
            "b09d3c7a0f694d6da13ec7c75db8f3fd",
            "318b0ccf04794a6cb7d4d2aea5feb1cc",
            "e1a24910bc34435cae42c867a04c8739",
            "3a45b5315cd1446bb4ec19c9115a6aaa"
          ]
        },
        "id": "O4e3oN6ozPr6",
        "outputId": "9bb182c2-69cd-4467-98fa-bc2f9d698318"
      },
      "outputs": [
        {
          "data": {
            "application/vnd.jupyter.widget-view+json": {
              "model_id": "e746a6d9748c45f987f5b3e5f15a6bba",
              "version_major": 2,
              "version_minor": 0
            },
            "text/plain": [
              "  0%|          | 0/1000 [00:00<?, ?it/s]"
            ]
          },
          "metadata": {},
          "output_type": "display_data"
        },
        {
          "name": "stderr",
          "output_type": "stream",
          "text": [
            "c:\\Users\\szilv\\OneDrive\\Dokumentumok\\summer_2022\\Summer-2022\\MegaAdaptiveSAM\\MegaSAM\\mega_adaptive_sam.py:88: UserWarning: The use of `x.T` on tensors of dimension other than 2 to reverse their shape is deprecated and it will throw an error in a future release. Consider `x.mT` to transpose batches of matricesor `x.permute(*torch.arange(x.ndim - 1, -1, -1))` to reverse the dimensions of a tensor. (Triggered internally at  C:\\actions-runner\\_work\\pytorch\\pytorch\\builder\\windows\\pytorch\\aten\\src\\ATen\\native\\TensorShape.cpp:2985.)\n",
            "  norm = torch.sqrt(M_inv.T @ grads_flattened**2)\n"
          ]
        }
      ],
      "source": [
        "from tqdm.notebook import tqdm, trange\n",
        "\n",
        "output1 = 10\n",
        "\n",
        "model = nn.Sequential(\n",
        "    nn.Linear(2, output1),\n",
        "    nn.ReLU(),\n",
        "    nn.Linear(output1, 1)\n",
        ")\n",
        "\n",
        "def get_n_params(model):\n",
        "    pp=0\n",
        "    for p in list(model.parameters()):\n",
        "        nn=1\n",
        "        for s in list(p.size()):\n",
        "            nn = nn*s\n",
        "        pp += nn\n",
        "    return pp\n",
        "\n",
        "num_params = get_n_params(model)\n",
        "M = torch.ones(num_params)\n",
        "\n",
        "epochs = 1000\n",
        "\n",
        "base_optimizer = torch.optim.SGD\n",
        "optimizer = MegaSAM(model.parameters(), base_optimizer, M, eta2=0.01, alpha=0.05, lr = 0.01)\n",
        "criterion = nn.BCEWithLogitsLoss()\n",
        "\n",
        "for epoch in trange(epochs):\n",
        "    for points, labels in train_loader:\n",
        "        \n",
        "        optimizer.zero_grad()\n",
        "\n",
        "        x = points[:,:,0].float()\n",
        "        x = x.to(device)\n",
        "        labels = labels[:,None].double()\n",
        "\n",
        "        def closure():\n",
        "          loss = criterion(model(x), labels)\n",
        "          loss.backward()\n",
        "          return loss\n",
        "\n",
        "        y = model(x)\n",
        "        loss = criterion(y, labels)\n",
        "        \n",
        "        loss.backward()\n",
        "        optimizer.step(closure)\n"
      ]
    },
    {
      "cell_type": "code",
      "execution_count": 9,
      "metadata": {},
      "outputs": [
        {
          "name": "stdout",
          "output_type": "stream",
          "text": [
            "Test accuracy: 0.8799999952316284\n"
          ]
        }
      ],
      "source": [
        "correct_test = 0\n",
        "with torch.no_grad():\n",
        "        # Iterate through test set minibatchs \n",
        "        for numbers2, labels2 in test_loader:\n",
        "            numbers2 = numbers2\n",
        "            labels2 = labels2.double()[:,None]\n",
        "            # Forward pass\n",
        "            x2 = numbers2[:,:,0].float()\n",
        "            y2 = model(x2)\n",
        "            predictions2 = ((y2>0)*1)\n",
        "            correct_test += torch.sum((predictions2 == labels2).float())\n",
        "print(f'Test accuracy: {correct_test/len(test_data)}')"
      ]
    },
    {
      "cell_type": "code",
      "execution_count": 10,
      "metadata": {
        "colab": {
          "base_uri": "https://localhost:8080/"
        },
        "id": "ss0NFogn1W8c",
        "outputId": "caf834b2-cf3e-461c-ed0c-519081264544"
      },
      "outputs": [],
      "source": [
        "def _flatten_and_together(list_of_tensors):\n",
        "    new_list = []\n",
        "    for tensor in list_of_tensors:\n",
        "        new_list.append(torch.flatten(tensor))\n",
        "    return torch.cat(new_list)\n",
        "\n",
        "def calculate_fischer(N, model, test_data):\n",
        "    test_loader = torch.utils.data.DataLoader(test_data, batch_size=1, shuffle=False)\n",
        "    n_params = get_n_params(model)\n",
        "    fischer_matrix = torch.zeros((n_params, n_params))\n",
        "    for datapoints, _ in test_loader:\n",
        "        #labels = labels.double()[:, None]\n",
        "        #Forward pass\n",
        "        x = datapoints[:, :, 0].float()\n",
        "        y = model(x)\n",
        "        labels = torch.bernoulli(torch.sigmoid(y.detach()))\n",
        "        loss_fn = nn.BCEWithLogitsLoss()\n",
        "        loss = loss_fn(y, labels)\n",
        "        loss.backward()\n",
        "        g = _flatten_and_together([p.grad for p in model.parameters()])\n",
        "        fischer_matrix += g[None, :] * g[:, None]\n",
        "        fischer_matrix = fischer_matrix / N\n",
        "        return fischer_matrix\n",
        "\n",
        "F = calculate_fischer(N, model, test_data)"
      ]
    },
    {
      "cell_type": "code",
      "execution_count": 11,
      "metadata": {},
      "outputs": [
        {
          "data": {
            "text/plain": [
              "<matplotlib.collections.PolyCollection at 0x267d2bd22e0>"
            ]
          },
          "execution_count": 11,
          "metadata": {},
          "output_type": "execute_result"
        },
        {
          "data": {
            "image/png": "[encoded data removed]",
            "text/plain": [
              "<Figure size 432x288 with 1 Axes>"
            ]
          },
          "metadata": {
            "needs_background": "light"
          },
          "output_type": "display_data"
        }
      ],
      "source": [
        "plt.pcolor(F.numpy())"
      ]
    },
    {
      "cell_type": "code",
      "execution_count": 12,
      "metadata": {
        "colab": {
          "base_uri": "https://localhost:8080/"
        },
        "id": "z1LBTAF5HWsZ",
        "outputId": "8826eb0e-5637-4696-f9af-b4534bc2e6f2"
      },
      "outputs": [
        {
          "data": {
            "text/plain": [
              "tensor([1.0389, 1.0392, 1.0380, 1.0380, 1.0380, 1.0381, 1.0381, 1.0380, 1.0380,\n",
              "        1.0380, 1.0380, 1.0380, 1.0380, 1.0381, 1.0384, 1.0399, 1.0382, 1.0407,\n",
              "        1.0380, 1.0380, 1.0383, 1.0380, 1.0381, 1.0381, 1.0380, 1.0380, 1.0380,\n",
              "        1.0389, 1.0385, 1.0380, 1.0398, 1.0380, 1.0396, 1.0383, 1.0383, 1.0380,\n",
              "        1.0382, 1.0431, 1.0431, 1.0380, 1.0382])"
            ]
          },
          "execution_count": 12,
          "metadata": {},
          "output_type": "execute_result"
        }
      ],
      "source": [
        "optimizer.M"
      ]
    },
    {
      "cell_type": "code",
      "execution_count": null,
      "metadata": {},
      "outputs": [],
      "source": []
    }
  ],
  "metadata": {
    "colab": {
      "collapsed_sections": [],
      "name": "mega_adaptive_sam.ipynb",
      "provenance": []
    },
    "kernelspec": {
      "display_name": "Python 3.9.7 ('summer_venv': venv)",
      "language": "python",
      "name": "python3"
    },
    "language_info": {
      "codemirror_mode": {
        "name": "ipython",
        "version": 3
      },
      "file_extension": ".py",
      "mimetype": "text/x-python",
      "name": "python",
      "nbconvert_exporter": "python",
      "pygments_lexer": "ipython3",
      "version": "3.9.7"
    },
    "vscode": {
      "interpreter": {
        "hash": "b8ea205e4e66ef442b0492f00be4073d98056112e4a1c26a4f26bb5aea81c264"
      }
    },
    "widgets": {
      "application/vnd.jupyter.widget-state+json": {
        "1fafe6f5961e4a89b9abaf6c5bbc1b88": {
          "model_module": "@jupyter-widgets/base",
          "model_module_version": "1.2.0",
          "model_name": "LayoutModel",
          "state": {
            "_model_module": "@jupyter-widgets/base",
            "_model_module_version": "1.2.0",
            "_model_name": "LayoutModel",
            "_view_count": null,
            "_view_module": "@jupyter-widgets/base",
            "_view_module_version": "1.2.0",
            "_view_name": "LayoutView",
            "align_content": null,
            "align_items": null,
            "align_self": null,
            "border": null,
            "bottom": null,
            "display": null,
            "flex": null,
            "flex_flow": null,
            "grid_area": null,
            "grid_auto_columns": null,
            "grid_auto_flow": null,
            "grid_auto_rows": null,
            "grid_column": null,
            "grid_gap": null,
            "grid_row": null,
            "grid_template_areas": null,
            "grid_template_columns": null,
            "grid_template_rows": null,
            "height": null,
            "justify_content": null,
            "justify_items": null,
            "left": null,
            "margin": null,
            "max_height": null,
            "max_width": null,
            "min_height": null,
            "min_width": null,
            "object_fit": null,
            "object_position": null,
            "order": null,
            "overflow": null,
            "overflow_x": null,
            "overflow_y": null,
            "padding": null,
            "right": null,
            "top": null,
            "visibility": null,
            "width": null
          }
        },
        "21e1870c9ac7425da1449b48d318912a": {
          "model_module": "@jupyter-widgets/controls",
          "model_module_version": "1.5.0",
          "model_name": "DescriptionStyleModel",
          "state": {
            "_model_module": "@jupyter-widgets/controls",
            "_model_module_version": "1.5.0",
            "_model_name": "DescriptionStyleModel",
            "_view_count": null,
            "_view_module": "@jupyter-widgets/base",
            "_view_module_version": "1.2.0",
            "_view_name": "StyleView",
            "description_width": ""
          }
        },
        "2cefbf6b7cbb4e33bc4ab6e942f99c66": {
          "model_module": "@jupyter-widgets/controls",
          "model_module_version": "1.5.0",
          "model_name": "HTMLModel",
          "state": {
            "_dom_classes": [],
            "_model_module": "@jupyter-widgets/controls",
            "_model_module_version": "1.5.0",
            "_model_name": "HTMLModel",
            "_view_count": null,
            "_view_module": "@jupyter-widgets/controls",
            "_view_module_version": "1.5.0",
            "_view_name": "HTMLView",
            "description": "",
            "description_tooltip": null,
            "layout": "IPY_MODEL_df1175f55842401ba7fcc1f7d3b3862a",
            "placeholder": "​",
            "style": "IPY_MODEL_21e1870c9ac7425da1449b48d318912a",
            "value": "100%"
          }
        },
        "318b0ccf04794a6cb7d4d2aea5feb1cc": {
          "model_module": "@jupyter-widgets/controls",
          "model_module_version": "1.5.0",
          "model_name": "ProgressStyleModel",
          "state": {
            "_model_module": "@jupyter-widgets/controls",
            "_model_module_version": "1.5.0",
            "_model_name": "ProgressStyleModel",
            "_view_count": null,
            "_view_module": "@jupyter-widgets/base",
            "_view_module_version": "1.2.0",
            "_view_name": "StyleView",
            "bar_color": null,
            "description_width": ""
          }
        },
        "3a45b5315cd1446bb4ec19c9115a6aaa": {
          "model_module": "@jupyter-widgets/controls",
          "model_module_version": "1.5.0",
          "model_name": "DescriptionStyleModel",
          "state": {
            "_model_module": "@jupyter-widgets/controls",
            "_model_module_version": "1.5.0",
            "_model_name": "DescriptionStyleModel",
            "_view_count": null,
            "_view_module": "@jupyter-widgets/base",
            "_view_module_version": "1.2.0",
            "_view_name": "StyleView",
            "description_width": ""
          }
        },
        "601b6240aa524529b451244e8ff9d820": {
          "model_module": "@jupyter-widgets/controls",
          "model_module_version": "1.5.0",
          "model_name": "HTMLModel",
          "state": {
            "_dom_classes": [],
            "_model_module": "@jupyter-widgets/controls",
            "_model_module_version": "1.5.0",
            "_model_name": "HTMLModel",
            "_view_count": null,
            "_view_module": "@jupyter-widgets/controls",
            "_view_module_version": "1.5.0",
            "_view_name": "HTMLView",
            "description": "",
            "description_tooltip": null,
            "layout": "IPY_MODEL_e1a24910bc34435cae42c867a04c8739",
            "placeholder": "​",
            "style": "IPY_MODEL_3a45b5315cd1446bb4ec19c9115a6aaa",
            "value": " 20/20 [00:23&lt;00:00,  1.15s/it]"
          }
        },
        "7ea4d2011b19461f90b3329b260bba71": {
          "model_module": "@jupyter-widgets/controls",
          "model_module_version": "1.5.0",
          "model_name": "FloatProgressModel",
          "state": {
            "_dom_classes": [],
            "_model_module": "@jupyter-widgets/controls",
            "_model_module_version": "1.5.0",
            "_model_name": "FloatProgressModel",
            "_view_count": null,
            "_view_module": "@jupyter-widgets/controls",
            "_view_module_version": "1.5.0",
            "_view_name": "ProgressView",
            "bar_style": "success",
            "description": "",
            "description_tooltip": null,
            "layout": "IPY_MODEL_b09d3c7a0f694d6da13ec7c75db8f3fd",
            "max": 20,
            "min": 0,
            "orientation": "horizontal",
            "style": "IPY_MODEL_318b0ccf04794a6cb7d4d2aea5feb1cc",
            "value": 20
          }
        },
        "96182ca1c3b44b56b52aa7dd6dda9d9f": {
          "model_module": "@jupyter-widgets/controls",
          "model_module_version": "1.5.0",
          "model_name": "HBoxModel",
          "state": {
            "_dom_classes": [],
            "_model_module": "@jupyter-widgets/controls",
            "_model_module_version": "1.5.0",
            "_model_name": "HBoxModel",
            "_view_count": null,
            "_view_module": "@jupyter-widgets/controls",
            "_view_module_version": "1.5.0",
            "_view_name": "HBoxView",
            "box_style": "",
            "children": [
              "IPY_MODEL_2cefbf6b7cbb4e33bc4ab6e942f99c66",
              "IPY_MODEL_7ea4d2011b19461f90b3329b260bba71",
              "IPY_MODEL_601b6240aa524529b451244e8ff9d820"
            ],
            "layout": "IPY_MODEL_1fafe6f5961e4a89b9abaf6c5bbc1b88"
          }
        },
        "b09d3c7a0f694d6da13ec7c75db8f3fd": {
          "model_module": "@jupyter-widgets/base",
          "model_module_version": "1.2.0",
          "model_name": "LayoutModel",
          "state": {
            "_model_module": "@jupyter-widgets/base",
            "_model_module_version": "1.2.0",
            "_model_name": "LayoutModel",
            "_view_count": null,
            "_view_module": "@jupyter-widgets/base",
            "_view_module_version": "1.2.0",
            "_view_name": "LayoutView",
            "align_content": null,
            "align_items": null,
            "align_self": null,
            "border": null,
            "bottom": null,
            "display": null,
            "flex": null,
            "flex_flow": null,
            "grid_area": null,
            "grid_auto_columns": null,
            "grid_auto_flow": null,
            "grid_auto_rows": null,
            "grid_column": null,
            "grid_gap": null,
            "grid_row": null,
            "grid_template_areas": null,
            "grid_template_columns": null,
            "grid_template_rows": null,
            "height": null,
            "justify_content": null,
            "justify_items": null,
            "left": null,
            "margin": null,
            "max_height": null,
            "max_width": null,
            "min_height": null,
            "min_width": null,
            "object_fit": null,
            "object_position": null,
            "order": null,
            "overflow": null,
            "overflow_x": null,
            "overflow_y": null,
            "padding": null,
            "right": null,
            "top": null,
            "visibility": null,
            "width": null
          }
        },
        "df1175f55842401ba7fcc1f7d3b3862a": {
          "model_module": "@jupyter-widgets/base",
          "model_module_version": "1.2.0",
          "model_name": "LayoutModel",
          "state": {
            "_model_module": "@jupyter-widgets/base",
            "_model_module_version": "1.2.0",
            "_model_name": "LayoutModel",
            "_view_count": null,
            "_view_module": "@jupyter-widgets/base",
            "_view_module_version": "1.2.0",
            "_view_name": "LayoutView",
            "align_content": null,
            "align_items": null,
            "align_self": null,
            "border": null,
            "bottom": null,
            "display": null,
            "flex": null,
            "flex_flow": null,
            "grid_area": null,
            "grid_auto_columns": null,
            "grid_auto_flow": null,
            "grid_auto_rows": null,
            "grid_column": null,
            "grid_gap": null,
            "grid_row": null,
            "grid_template_areas": null,
            "grid_template_columns": null,
            "grid_template_rows": null,
            "height": null,
            "justify_content": null,
            "justify_items": null,
            "left": null,
            "margin": null,
            "max_height": null,
            "max_width": null,
            "min_height": null,
            "min_width": null,
            "object_fit": null,
            "object_position": null,
            "order": null,
            "overflow": null,
            "overflow_x": null,
            "overflow_y": null,
            "padding": null,
            "right": null,
            "top": null,
            "visibility": null,
            "width": null
          }
        },
        "e1a24910bc34435cae42c867a04c8739": {
          "model_module": "@jupyter-widgets/base",
          "model_module_version": "1.2.0",
          "model_name": "LayoutModel",
          "state": {
            "_model_module": "@jupyter-widgets/base",
            "_model_module_version": "1.2.0",
            "_model_name": "LayoutModel",
            "_view_count": null,
            "_view_module": "@jupyter-widgets/base",
            "_view_module_version": "1.2.0",
            "_view_name": "LayoutView",
            "align_content": null,
            "align_items": null,
            "align_self": null,
            "border": null,
            "bottom": null,
            "display": null,
            "flex": null,
            "flex_flow": null,
            "grid_area": null,
            "grid_auto_columns": null,
            "grid_auto_flow": null,
            "grid_auto_rows": null,
            "grid_column": null,
            "grid_gap": null,
            "grid_row": null,
            "grid_template_areas": null,
            "grid_template_columns": null,
            "grid_template_rows": null,
            "height": null,
            "justify_content": null,
            "justify_items": null,
            "left": null,
            "margin": null,
            "max_height": null,
            "max_width": null,
            "min_height": null,
            "min_width": null,
            "object_fit": null,
            "object_position": null,
            "order": null,
            "overflow": null,
            "overflow_x": null,
            "overflow_y": null,
            "padding": null,
            "right": null,
            "top": null,
            "visibility": null,
            "width": null
          }
        }
      }
    }
  },
  "nbformat": 4,
  "nbformat_minor": 0
}
